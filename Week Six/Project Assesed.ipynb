{
 "cells": [
  {
   "cell_type": "markdown",
   "source": [
    "***\n",
    "## Assessed project\n",
    "This project will be assessed.  You will need to finish the work by the day of 4/11/2022.\n",
    "\n",
    "You will load in the data from the Project folder\n",
    "You will need to format the data and then plot it in a set format.\n",
    "The figure you create will then need to be saved and stored in your skills homework folder labelled for week 6\n",
    "This Project will walk you through what you need to do.\n",
    "\n",
    "The data used in this project is spectroscopy data taken of a single light emitting molecule."
   ],
   "metadata": {
    "collapsed": false
   }
  },
  {
   "cell_type": "code",
   "execution_count": 1,
   "outputs": [],
   "source": [
    "# Imports\n",
    "import matplotlib.pyplot as plt\n",
    "import numpy as np\n",
    "from scipy import stats"
   ],
   "metadata": {
    "collapsed": false
   }
  },
  {
   "cell_type": "markdown",
   "source": [
    "***\n",
    "### Load in the data\n",
    "In the folder titled ProjectData you will find a CSV file called MoleculeAndNoiseData and a numpy file called switchingData.npy.\n",
    "You will need to load both of these files in to variables, so that we can process and plot the data.\n",
    "#### First\n",
    "Load the CSV file in to an array, a good name for the variable would be moleculeAndNoise. The first and the third column contain the time data in milliseconds. The second column contains the integrated signal from the emission of a single molecule. The final (fourth) column contains the same data collected when no molecule is present, this represents the background noise of the detector.\n",
    "\n",
    "It is sensible to plot the two data sets, (columns 1 and 2 and columns 3 and 4) to make sure they make sense although for the assessment this is optional.\n",
    "\n",
    "#### Second\n",
    "The second set of data is stored in a numpy file, this contains the emission from a single molecule which stops emitting halfway though the experiment. The numpy array contains two columns, the first is time in ms and the second is the integrated photon count. Load this data in to a variable, a good name is switchingData."
   ],
   "metadata": {
    "collapsed": false
   }
  },
  {
   "cell_type": "code",
   "execution_count": 2,
   "outputs": [],
   "source": [
    "# Load the csv data\n",
    "\n",
    "# Load the numpy data"
   ],
   "metadata": {
    "collapsed": false
   }
  },
  {
   "cell_type": "markdown",
   "source": [
    "***\n",
    "### Process the data\n",
    "You should now have two data sets:\n",
    "1.) One called moleculeAndNoise which contains four columns, the first and third contain the time in ms the data was collected over. The second contains the integrated photons collected from a single molecule. The fourth contains the photons collected from an area of the sample with no emitting molecules, i.e. the background signal.\n",
    "2.) The second data set contains data collected from a single molecule which stops emitting photons halve way through the experiment. This data set contains two columns, the first is the time in ms and the second is the integrated photon count.\n",
    "\n",
    "#### First\n",
    "For the first data set, called moleculeAndNoise, fit the molecules photon output using the stats.linregress function. This is the first and second column. Using the slope and the intercept generate a new data set for the fit, which covers the x data range of the original data, call this variable fitData.\n",
    "\n",
    "#### Second\n",
    "For the second data set, called switching data fit the first. Fit the first 50 data points, this is the time when the molecule is emitting photons. With the intercept and slope, create a new set of data called switchFit. This new data set should extend past the original 50 data points, create the switchFit so that it is 150 ms in length starting at 0ms.\n",
    "\n",
    "\n"
   ],
   "metadata": {
    "collapsed": false
   }
  },
  {
   "cell_type": "code",
   "execution_count": 5,
   "outputs": [],
   "source": [
    "# CSV data\n",
    "\n",
    "\n",
    "# Numpy data\n"
   ],
   "metadata": {
    "collapsed": false
   }
  },
  {
   "cell_type": "markdown",
   "source": [
    "### Plot the data\n",
    "<p align=\"left\">\n",
    "<img src=\"Figures/Outline.png\" alt=\"drawing\" width=\"1400\"/>\n",
    "</p>\n",
    "\n",
    "Build a figure which has three areas one on the left and two on the right as shown above.\n",
    "\n",
    "\n",
    "In the single large area on the left plot the data contained in moleculeAndNoise. The data collected from the molecule should be plotted in red and the background data should be plotted in black. The plot should have a legend, the x-axis should be labelled 'time [ms]' and the y-axis should be labelled 'signal [counts]'.\n",
    "\n",
    "In the top right hand area plot the molecule data from the moleculeAndNoise file in small red dots label this 'molecule'. On the same axis plot the fitted data, label this as 'fit'. The plot should have a legend, the x-axis should be labelled 'time [ms]' and the y-axis should be labelled 'signal [counts]'.\n",
    "\n",
    "In the bottom right hand area plot the switching data.  Plot the first 50 points of the data in red dots, label this as 'On' and the last 50 points as a black line, label this as 'Off'. On the same plot, plot the fitted data extended up to 150 ms. The plot should have a legend, the x-axis should be labelled 'time [ms]' and the y-axis should be labelled 'signal [counts]'.\n",
    "\n",
    "Finally title the entire figure as 'Single Molecule data'. The final figure should look like the example below.\n",
    "\n",
    "<p align=\"left\">\n",
    "<img src='Figures/Answer.png' alt=\"drawing\" width=\"1400\"/>\n",
    "</p>\n",
    "\n"
   ],
   "metadata": {
    "collapsed": false
   }
  },
  {
   "cell_type": "markdown",
   "source": [
    "### Save the figure and copy it to your google drive. It should be placed in the skills homework folder."
   ],
   "metadata": {
    "collapsed": false
   }
  },
  {
   "cell_type": "code",
   "execution_count": null,
   "outputs": [],
   "source": [],
   "metadata": {
    "collapsed": false
   }
  }
 ],
 "metadata": {
  "kernelspec": {
   "display_name": "Python 3",
   "language": "python",
   "name": "python3"
  },
  "language_info": {
   "codemirror_mode": {
    "name": "ipython",
    "version": 2
   },
   "file_extension": ".py",
   "mimetype": "text/x-python",
   "name": "python",
   "nbconvert_exporter": "python",
   "pygments_lexer": "ipython2",
   "version": "2.7.6"
  }
 },
 "nbformat": 4,
 "nbformat_minor": 0
}
