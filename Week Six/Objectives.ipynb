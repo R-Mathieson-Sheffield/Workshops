{
 "cells": [
  {
   "cell_type": "markdown",
   "source": [
    "### Objectives\n",
    "\n",
    "By the end of this week\n",
    "\n",
    "You should understand the basic concepts behind matplotlib\n",
    "\n",
    "You should be able to plot your data and present it in a suitable format for publications."
   ],
   "metadata": {
    "collapsed": false,
    "pycharm": {
     "name": "#%% md\n"
    }
   }
  }
 ],
 "metadata": {
  "kernelspec": {
   "display_name": "Python 3",
   "language": "python",
   "name": "python3"
  },
  "language_info": {
   "codemirror_mode": {
    "name": "ipython",
    "version": 2
   },
   "file_extension": ".py",
   "mimetype": "text/x-python",
   "name": "python",
   "nbconvert_exporter": "python",
   "pygments_lexer": "ipython2",
   "version": "2.7.6"
  }
 },
 "nbformat": 4,
 "nbformat_minor": 0
}