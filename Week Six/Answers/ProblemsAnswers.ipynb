{
 "cells": [
  {
   "cell_type": "markdown",
   "source": [
    "***\n",
    "### Week 6 problems\n"
   ],
   "metadata": {
    "collapsed": false
   }
  },
  {
   "cell_type": "markdown",
   "source": [
    "***\n",
    "##### Problem 1\n",
    "Load some data from a CSV file and plot it.\n",
    "From the data folder load the file titled timedata.csv.\n",
    "The data consists of four columns\n",
    "column 1 is a time\n",
    "column 2 is the intensity data for a quantum dot\n",
    "column 3 is a time\n",
    "column 4 is the intensity data for a second quantum dot.\n",
    "\n",
    "Plot the data from each quantum dots (column1 against column2 and column 3 against column 4) in two seperate plots in the same figure using the subplot command\n"
   ],
   "metadata": {
    "collapsed": false
   }
  },
  {
   "cell_type": "code",
   "execution_count": 1,
   "outputs": [],
   "source": [
    "import numpy as np\n",
    "import matplotlib.pyplot as plt\n"
   ],
   "metadata": {
    "collapsed": false
   }
  },
  {
   "cell_type": "code",
   "execution_count": null,
   "outputs": [],
   "source": [],
   "metadata": {
    "collapsed": false
   }
  }
 ],
 "metadata": {
  "kernelspec": {
   "display_name": "Python 3",
   "language": "python",
   "name": "python3"
  },
  "language_info": {
   "codemirror_mode": {
    "name": "ipython",
    "version": 2
   },
   "file_extension": ".py",
   "mimetype": "text/x-python",
   "name": "python",
   "nbconvert_exporter": "python",
   "pygments_lexer": "ipython2",
   "version": "2.7.6"
  }
 },
 "nbformat": 4,
 "nbformat_minor": 0
}
