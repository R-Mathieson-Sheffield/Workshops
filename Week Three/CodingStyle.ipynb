{
 "cells": [
  {
   "cell_type": "markdown",
   "source": [
    "***\n",
    "***\n",
    "### Good practice in coding\n",
    "***\n",
    "In this notebook we will define what makes good practice in coding."
   ],
   "metadata": {
    "collapsed": false
   }
  },
  {
   "cell_type": "code",
   "execution_count": 1,
   "outputs": [],
   "source": [
    "# What does this code do\n",
    "def functionone(X):\n",
    "    y = bool(int(X%3))\n",
    "    return not(y)\n"
   ],
   "metadata": {
    "collapsed": false
   }
  },
  {
   "cell_type": "code",
   "execution_count": 1,
   "outputs": [],
   "source": [
    "# Let's rewrite it\n",
    "def is_a_multiple_of_3(testNumber):\n",
    "    remainder = bool(int(testNumber % 3)) # True or false\n",
    "    return not(remainder)"
   ],
   "metadata": {
    "collapsed": false
   }
  },
  {
   "cell_type": "code",
   "execution_count": null,
   "outputs": [],
   "source": [],
   "metadata": {
    "collapsed": false
   }
  }
 ],
 "metadata": {
  "kernelspec": {
   "display_name": "Python 3",
   "language": "python",
   "name": "python3"
  },
  "language_info": {
   "codemirror_mode": {
    "name": "ipython",
    "version": 2
   },
   "file_extension": ".py",
   "mimetype": "text/x-python",
   "name": "python",
   "nbconvert_exporter": "python",
   "pygments_lexer": "ipython2",
   "version": "2.7.6"
  }
 },
 "nbformat": 4,
 "nbformat_minor": 0
}
