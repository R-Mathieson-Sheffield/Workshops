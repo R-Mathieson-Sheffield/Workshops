{
 "cells": [
  {
   "cell_type": "markdown",
   "source": [
    "# Python workshops\n",
    "***\n",
    "### Functions\n",
    "A function is a block of code which can be called from anywhere in your program.  It has several advantages:\n",
    "<ol>\n",
    "<li> It allows you to reuse code, saving you time and reducing the chances of errors. </li>\n",
    "<li> They make code cleaner and easier to adapt and debug. </li>\n",
    "</ol>\n",
    "\n",
    "We have actually used functions lots of times previously, the print() command is a function, all the methods we have used are actually functions.  What we are going to do in this lesson it to build our own functions.\n",
    "\n",
    "To start with we are going to look at the anatomy of a function.\\\n",
    "<br>\n",
    "\n",
    "```\n",
    "def myfunction(input 1, input 2):\n",
    "    do something\n",
    "    return something\n",
    "```"
   ],
   "metadata": {
    "collapsed": false
   }
  },
  {
   "cell_type": "markdown",
   "source": [
    "There are a few things to note here:\n",
    "<ol>\n",
    "<li> The def command tells python you are going to define a new function, you pass it the name of the function. </li>\n",
    "<li> The name will always end with () brackets and often you will use the space between the brackets to define inputs in to the function, more on this later. </li>\n",
    "<li> At the end of the functions definition line there is a : this tells python the function has been defined and the following code makes up the body of the function. </li>\n",
    "<li> The lines of code which define the function are indented, this is a common technique in python to define blocks of code, everything under the : which is indented will for the function. </li>\n",
    "<li> The do something line (which can be many lines if needed) perform the actions the function needs to do in order to perform the task. </li>\n",
    "<li> The return statement allows us to send information back to the code that called the function. </li>\n",
    "</ol>\n",
    "\n",
    "we will explore these in a lot of detail next\n",
    "First lets define a very simple function to print ' Hello World', run the code below and see what happens"
   ],
   "metadata": {
    "collapsed": false
   }
  },
  {
   "cell_type": "code",
   "execution_count": 1,
   "outputs": [],
   "source": [
    "import numpy as np\n",
    "\n",
    "\n",
    "def HiGlobe():\n",
    "    print(\" Hello World\")"
   ],
   "metadata": {
    "collapsed": false
   }
  },
  {
   "cell_type": "markdown",
   "source": [
    "You have probably noticed that nothing happend when you ran the cell. This is because running cell simply loads the code in to memory to be use later. To actually call the function we need the following code."
   ],
   "metadata": {
    "collapsed": false
   }
  },
  {
   "cell_type": "code",
   "execution_count": 2,
   "outputs": [
    {
     "name": "stdout",
     "output_type": "stream",
     "text": [
      " Hello World\n"
     ]
    }
   ],
   "source": [
    "HiGlobe()"
   ],
   "metadata": {
    "collapsed": false
   }
  },
  {
   "cell_type": "markdown",
   "source": [
    "As you can see we can now print hello world with just a single command.\n",
    "Now it is your turn, in the cell below write a function to print your name."
   ],
   "metadata": {
    "collapsed": false
   }
  },
  {
   "cell_type": "code",
   "execution_count": 3,
   "outputs": [],
   "source": [
    "# Type your code here"
   ],
   "metadata": {
    "collapsed": false
   }
  },
  {
   "cell_type": "markdown",
   "source": [
    "***"
   ],
   "metadata": {
    "collapsed": false
   }
  },
  {
   "cell_type": "markdown",
   "source": [
    "***\n",
    "### Passing arguments\n",
    "\n",
    "This is great, we can now print hello world when ever we want.  However, it would be nice to make the function less specific. Let's build a function to say hello to a specific person."
   ],
   "metadata": {
    "collapsed": false
   }
  },
  {
   "cell_type": "code",
   "execution_count": 4,
   "outputs": [],
   "source": [
    "def SayHello(userName):\n",
    "    print(\"Hello\", userName, \",how are you ?\")"
   ],
   "metadata": {
    "collapsed": false
   }
  },
  {
   "cell_type": "code",
   "execution_count": 5,
   "outputs": [
    {
     "name": "stdout",
     "output_type": "stream",
     "text": [
      "Hello Dave ,how are you ?\n"
     ]
    }
   ],
   "source": [
    "SayHello('Dave')"
   ],
   "metadata": {
    "collapsed": false
   }
  },
  {
   "cell_type": "markdown",
   "source": [
    "Here we have built a function which takes an argument in this case the argument is called userName, when we call the function we give it something to assign to that variable.  In this case when we call the function userName takes the value 'Dave'. This variable can then be used in the function.\n",
    "We can have as many arguments as we want."
   ],
   "metadata": {
    "collapsed": false
   }
  },
  {
   "cell_type": "code",
   "execution_count": 6,
   "outputs": [
    {
     "name": "stdout",
     "output_type": "stream",
     "text": [
      "Hi Dave ,how are you ?\n"
     ]
    }
   ],
   "source": [
    "def SayHello(greeting, userName):\n",
    "    print(greeting, userName, \",how are you ?\")\n",
    "\n",
    "SayHello('Hi', 'Dave')"
   ],
   "metadata": {
    "collapsed": false
   }
  },
  {
   "cell_type": "markdown",
   "source": [
    "In the above example we have two arguments, one for the name and one for the greeting.  We will probably change the name every time we call the function, but we might not want to change the greeting. To save us time we can define a default value for the variables."
   ],
   "metadata": {
    "collapsed": false
   }
  },
  {
   "cell_type": "code",
   "execution_count": 7,
   "outputs": [
    {
     "name": "stdout",
     "output_type": "stream",
     "text": [
      "Hello Dave ,how are you ?\n",
      "Hi Maggie ,how are you ?\n"
     ]
    }
   ],
   "source": [
    "def SayHello(userName, greeting = \"Hello\"):\n",
    "    print(greeting, userName, \",how are you ?\")\n",
    "\n",
    "SayHello('Dave')\n",
    "SayHello('Maggie', 'Hi')"
   ],
   "metadata": {
    "collapsed": false
   }
  },
  {
   "cell_type": "markdown",
   "source": [
    "As you can see if I don't supply the greeting argument the function uses the default one.  Arguments with defaults must come last. As you can see in the example below, if we get the order of the arguments wrong strange things can happen.\n"
   ],
   "metadata": {
    "collapsed": false
   }
  },
  {
   "cell_type": "code",
   "execution_count": 8,
   "outputs": [
    {
     "name": "stdout",
     "output_type": "stream",
     "text": [
      "Maggie Hi ,how are you ?\n"
     ]
    }
   ],
   "source": [
    "SayHello('Hi', 'Maggie')"
   ],
   "metadata": {
    "collapsed": false
   }
  },
  {
   "cell_type": "markdown",
   "source": [
    "There are a couple of ways around this, the first is documentation and useing what are called docstrings, we will look at this in a separate notebook.\n",
    "We can also supply the function with named arguments."
   ],
   "metadata": {
    "collapsed": false
   }
  },
  {
   "cell_type": "code",
   "execution_count": 9,
   "outputs": [
    {
     "name": "stdout",
     "output_type": "stream",
     "text": [
      "Welcome to the jungle Mr Rose ,how are you ?\n",
      "No I expect you to die Mr Bond ,how are you ?\n"
     ]
    }
   ],
   "source": [
    "SayHello(greeting='Welcome to the jungle', userName='Mr Rose')\n",
    "SayHello(userName='Mr Bond', greeting='No I expect you to die' )"
   ],
   "metadata": {
    "collapsed": false
   }
  },
  {
   "cell_type": "markdown",
   "source": [
    "***"
   ],
   "metadata": {
    "collapsed": false
   }
  },
  {
   "cell_type": "markdown",
   "source": [
    "### Returning from a function\n",
    "So far we have just printed to the screen, this is not particular useful. Often we want functions to take in data process it and return a result, so that we can use that result later in the program,  To do this we use the return command and example is below."
   ],
   "metadata": {
    "collapsed": false
   }
  },
  {
   "cell_type": "code",
   "execution_count": 10,
   "outputs": [],
   "source": [
    "def returnPi(rteurn=None):\n",
    "    return 3.14159"
   ],
   "metadata": {
    "collapsed": false
   }
  },
  {
   "cell_type": "markdown",
   "source": [
    "The function above takes no arguments but returns a number, lets explore its use."
   ],
   "metadata": {
    "collapsed": false
   }
  },
  {
   "cell_type": "code",
   "execution_count": 11,
   "outputs": [
    {
     "name": "stdout",
     "output_type": "stream",
     "text": [
      "3.14159\n",
      "3.14159\n"
     ]
    }
   ],
   "source": [
    "myPi = returnPi()\n",
    "print(myPi)\n",
    "\n",
    "# To reduce code we could write\n",
    "print(returnPi())"
   ],
   "metadata": {
    "collapsed": false
   }
  },
  {
   "cell_type": "markdown",
   "source": [
    "***\n",
    "### Finishing a function early\n",
    "You can use the return command to finish the function early"
   ],
   "metadata": {
    "collapsed": false
   }
  },
  {
   "cell_type": "code",
   "execution_count": 12,
   "outputs": [],
   "source": [
    "def playReturn():\n",
    "    return \"Here\"\n",
    "    print(\"This does not get printed\")\n",
    "    return \"Not here\""
   ],
   "metadata": {
    "collapsed": false
   }
  },
  {
   "cell_type": "code",
   "execution_count": 13,
   "outputs": [
    {
     "name": "stdout",
     "output_type": "stream",
     "text": [
      "Here\n"
     ]
    }
   ],
   "source": [
    "print(playReturn())"
   ],
   "metadata": {
    "collapsed": false
   }
  },
  {
   "cell_type": "markdown",
   "source": [
    "***\n",
    "### Returning multiple values"
   ],
   "metadata": {
    "collapsed": false
   }
  },
  {
   "cell_type": "code",
   "execution_count": 14,
   "outputs": [],
   "source": [
    "def testReturn():\n",
    "    myDict = {\"Age\": 10}\n",
    "    myString = \"Bunny\"\n",
    "    myValue = 49\n",
    "    return myDict, myString, myValue"
   ],
   "metadata": {
    "collapsed": false
   }
  },
  {
   "cell_type": "code",
   "execution_count": 15,
   "outputs": [
    {
     "name": "stdout",
     "output_type": "stream",
     "text": [
      "({'Age': 10}, 'Bunny', 49)\n",
      "\n",
      "{'Age': 10}\n",
      "Bunny\n",
      "49\n",
      "\n",
      "Bunny\n"
     ]
    }
   ],
   "source": [
    "print(testReturn())\n",
    "print('')\n",
    "\n",
    "theDict, theString, theValue = testReturn()\n",
    "print(theDict)\n",
    "print(theString)\n",
    "print(theValue)\n",
    "print('')\n",
    "\n",
    "print(testReturn()[1])"
   ],
   "metadata": {
    "collapsed": false
   }
  },
  {
   "cell_type": "markdown",
   "source": [
    "***\n",
    "### A full function"
   ],
   "metadata": {
    "collapsed": false
   }
  },
  {
   "cell_type": "code",
   "execution_count": 16,
   "outputs": [],
   "source": [
    "import math\n",
    "def calcRAD(numerator, divisor):\n",
    "    \"\"\"\n",
    "    This function calculate the remainder after division.\n",
    "    :param numerator: This is the number to be divided\n",
    "    :param divisor: This is the number to divide by\n",
    "    :return: This is the remainder after division\n",
    "    \"\"\"\n",
    "    ratio = math.floor(numerator / divisor) # find the ratio, then use the floor command to round the variable down\n",
    "    total = ratio * divisor # The total is the maximum number with none left over\n",
    "    return numerator - total"
   ],
   "metadata": {
    "collapsed": false
   }
  },
  {
   "cell_type": "code",
   "execution_count": 17,
   "outputs": [
    {
     "name": "stdout",
     "output_type": "stream",
     "text": [
      "If we have 99 people and 8 groups we will have 3 left over.\n"
     ]
    }
   ],
   "source": [
    "# Notice that we have defined the function above and are calling it here\n",
    "numberPeople = 99\n",
    "groups = 8\n",
    "print('If we have', numberPeople, 'people and', groups, 'groups we will have', calcRAD(99,8), 'left over.')"
   ],
   "metadata": {
    "collapsed": false
   }
  },
  {
   "cell_type": "markdown",
   "source": [
    "Let's explore the function, I have defined the function calcRAD, I called is this because it will return the remainder after division. The function takes two arguments and they both must be defined.  Straight after the definition there is a doc string , this is defined by the three \". This serves as a way of documenting your functions, a user can see the doc string using the help method."
   ],
   "metadata": {
    "collapsed": false
   }
  },
  {
   "cell_type": "code",
   "execution_count": 18,
   "outputs": [
    {
     "name": "stdout",
     "output_type": "stream",
     "text": [
      "Help on function calcRAD in module __main__:\n",
      "\n",
      "calcRAD(numerator, divisor)\n",
      "    This function calculate the remainder after division.\n",
      "    :param numerator: This is the number to be divided\n",
      "    :param divisor: This is the number to divide by\n",
      "    :return: This is the remainder after division\n",
      "\n"
     ]
    }
   ],
   "source": [
    "# example of using the doc string\n",
    "help(calcRAD)"
   ],
   "metadata": {
    "collapsed": false
   }
  },
  {
   "cell_type": "markdown",
   "source": [
    "Next we have some lines of code which define the functions function, notice these are indented.\n",
    "\n",
    "The first line uses an external function, this is one I have imported, we will look at importing functions later.\n",
    "The variable ratio is a floored (rounded down) integer of the division calculator.\n",
    "\n",
    "```ratio = math.floor(numerator / divisor)```\n",
    "\n",
    "The next line calculates the maximum number multiplication achievable  without exceeding the numerator.\n",
    "\n",
    "```total = ratio * divisor```"
   ],
   "metadata": {
    "collapsed": false
   }
  },
  {
   "cell_type": "markdown",
   "source": [
    "Finally, we return the number we want to the user, this is the difference of the numerator and the maximum value we calculated.\n",
    "\n",
    "```return numerator - total```\n",
    "\n",
    "This returns a variable back to the main program."
   ],
   "metadata": {
    "collapsed": false
   }
  },
  {
   "cell_type": "markdown",
   "source": [
    "***\n",
    "### Using other peoples functions\n",
    "\n",
    "There are lots of people writing functions in python and to stop you having to write functions that other people have already written there are ways of sharing functions.  The most common and simplest is to use libraries.  A library is a collection of functions. The example below show you how to import a library and use the functions within."
   ],
   "metadata": {
    "collapsed": false
   }
  },
  {
   "cell_type": "code",
   "execution_count": 19,
   "outputs": [
    {
     "name": "stdout",
     "output_type": "stream",
     "text": [
      "['__doc__', '__file__', '__loader__', '__name__', '__package__', '__spec__', 'acos', 'acosh', 'asin', 'asinh', 'atan', 'atan2', 'atanh', 'ceil', 'comb', 'copysign', 'cos', 'cosh', 'degrees', 'dist', 'e', 'erf', 'erfc', 'exp', 'expm1', 'fabs', 'factorial', 'floor', 'fmod', 'frexp', 'fsum', 'gamma', 'gcd', 'hypot', 'inf', 'isclose', 'isfinite', 'isinf', 'isnan', 'isqrt', 'lcm', 'ldexp', 'lgamma', 'log', 'log10', 'log1p', 'log2', 'modf', 'nan', 'nextafter', 'perm', 'pi', 'pow', 'prod', 'radians', 'remainder', 'sin', 'sinh', 'sqrt', 'tan', 'tanh', 'tau', 'trunc', 'ulp']\n",
      "\n",
      "0.479425538604203\n"
     ]
    }
   ],
   "source": [
    "# Example of importing a library\n",
    "import math\n",
    "print(dir(math)) # The dir command can be used to list all the possible functions and constants available.\n",
    "print() # This print command just gives us a space\n",
    "print(math.sin(0.5))"
   ],
   "metadata": {
    "collapsed": false
   }
  },
  {
   "cell_type": "markdown",
   "source": [
    "***\n",
    "#### The Doc String\n",
    "It is often useful to supply some explanation of what your function does."
   ],
   "metadata": {
    "collapsed": false
   }
  },
  {
   "cell_type": "code",
   "execution_count": 20,
   "outputs": [
    {
     "name": "stdout",
     "output_type": "stream",
     "text": [
      "Help on built-in function sin in module math:\n",
      "\n",
      "sin(x, /)\n",
      "    Return the sine of x (measured in radians).\n",
      "\n"
     ]
    }
   ],
   "source": [
    "# Here is an example using the sin function in maths\n",
    "help(math.sin)"
   ],
   "metadata": {
    "collapsed": false
   }
  },
  {
   "cell_type": "markdown",
   "source": [],
   "metadata": {
    "collapsed": false
   }
  },
  {
   "cell_type": "code",
   "execution_count": 21,
   "outputs": [],
   "source": [
    "# Here is a doc string example.\n",
    "def createArraySingleValue(X, Y, value):\n",
    "    \"\"\"\n",
    "    This function generates an array of length X and width Y filled with\n",
    "    the value given\n",
    "\n",
    "    :param X: The length in X of the array to be created\n",
    "    :param Y: The length in X of the array to be created\n",
    "    :param value: The value the\n",
    "    :return: The function returns a single array of length X and Y filled with the value\n",
    "    \"\"\"\n",
    "    return np.zeros([X,Y])*value"
   ],
   "metadata": {
    "collapsed": false
   }
  },
  {
   "cell_type": "code",
   "execution_count": 22,
   "outputs": [
    {
     "name": "stdout",
     "output_type": "stream",
     "text": [
      "Help on function createArraySingleValue in module __main__:\n",
      "\n",
      "createArraySingleValue(X, Y, value)\n",
      "    This function generates an array of length X and width Y filled with\n",
      "    the value given\n",
      "    \n",
      "    :param X: The length in X of the array to be created\n",
      "    :param Y: The length in X of the array to be created\n",
      "    :param value: The value the\n",
      "    :return: The function returns a single array of length X and Y filled with the value\n",
      "\n"
     ]
    }
   ],
   "source": [
    "help(createArraySingleValue)"
   ],
   "metadata": {
    "collapsed": false
   }
  },
  {
   "cell_type": "code",
   "execution_count": 23,
   "outputs": [
    {
     "name": "stdout",
     "output_type": "stream",
     "text": [
      "\n",
      "    This function generates an array of length X and width Y filled with\n",
      "    the value given\n",
      "\n",
      "    :param X: The length in X of the array to be created\n",
      "    :param Y: The length in X of the array to be created\n",
      "    :param value: The value the\n",
      "    :return: The function returns a single array of length X and Y filled with the value\n",
      "    \n"
     ]
    }
   ],
   "source": [
    "# You can also access the doc string using the following method\n",
    "print(createArraySingleValue.__doc__)"
   ],
   "metadata": {
    "collapsed": false
   }
  },
  {
   "cell_type": "code",
   "execution_count": 23,
   "outputs": [],
   "source": [],
   "metadata": {
    "collapsed": false
   }
  }
 ],
 "metadata": {
  "kernelspec": {
   "display_name": "Python 3",
   "language": "python",
   "name": "python3"
  },
  "language_info": {
   "codemirror_mode": {
    "name": "ipython",
    "version": 2
   },
   "file_extension": ".py",
   "mimetype": "text/x-python",
   "name": "python",
   "nbconvert_exporter": "python",
   "pygments_lexer": "ipython2",
   "version": "2.7.6"
  }
 },
 "nbformat": 4,
 "nbformat_minor": 0
}
