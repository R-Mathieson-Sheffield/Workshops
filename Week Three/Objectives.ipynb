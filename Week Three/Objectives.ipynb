{
 "cells": [
  {
   "cell_type": "markdown",
   "source": [
    "### Objectives\n",
    "\n",
    "By then end of this week you should;\n",
    "\n",
    "Understand what a function is and why they are useful and how to test them\n",
    "\n",
    "How to define a function, including passing parameters and returning values.\n",
    "\n"
   ],
   "metadata": {
    "collapsed": false
   }
  },
  {
   "cell_type": "code",
   "execution_count": null,
   "outputs": [],
   "source": [],
   "metadata": {
    "collapsed": false
   }
  }
 ],
 "metadata": {
  "kernelspec": {
   "display_name": "Python 3",
   "language": "python",
   "name": "python3"
  },
  "language_info": {
   "codemirror_mode": {
    "name": "ipython",
    "version": 2
   },
   "file_extension": ".py",
   "mimetype": "text/x-python",
   "name": "python",
   "nbconvert_exporter": "python",
   "pygments_lexer": "ipython2",
   "version": "2.7.6"
  }
 },
 "nbformat": 4,
 "nbformat_minor": 0
}
