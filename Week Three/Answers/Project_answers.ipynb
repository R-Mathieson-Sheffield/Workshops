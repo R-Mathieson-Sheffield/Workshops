{
 "cells": [
  {
   "cell_type": "markdown",
   "source": [
    "***\n",
    "### Project 3\n",
    "In this project we are going to write our first program using functions"
   ],
   "metadata": {
    "collapsed": false,
    "pycharm": {
     "name": "#%% md\n"
    }
   }
  },
  {
   "cell_type": "markdown",
   "source": [
    "Function to create dictionary\n",
    "First we will create a function called buildDatabase to build a dictionary with three values;\n",
    "An ID\n",
    "A first name\n",
    "A last name\n",
    "you function should take three inputs, ID, firstname and last name and return a dictionary\n"
   ],
   "metadata": {
    "collapsed": false,
    "pycharm": {
     "name": "#%% md\n"
    }
   }
  },
  {
   "cell_type": "code",
   "execution_count": 21,
   "outputs": [],
   "source": [
    "def buildDatabase(ID, firstName, lastName):\n",
    "    myDatabase = {\"ID\": ID,\n",
    "                  \"FirstName\": firstName,\n",
    "                  \"LastName\": lastName}\n",
    "    return myDatabase\n"
   ],
   "metadata": {
    "collapsed": false,
    "pycharm": {
     "name": "#%%\n"
    }
   }
  },
  {
   "cell_type": "markdown",
   "source": [
    "Now write a short program to test your function, give it the ID of 1 and your first name and last name, check it works by storing the returned dictionary in a variable called test and printing it."
   ],
   "metadata": {
    "collapsed": false,
    "pycharm": {
     "name": "#%% md\n"
    }
   }
  },
  {
   "cell_type": "code",
   "execution_count": 22,
   "outputs": [
    {
     "name": "stdout",
     "output_type": "stream",
     "text": [
      "{'ID': 1, 'FirstName': 'ashley', 'LastName': 'cadby'}\n"
     ]
    }
   ],
   "source": [
    "test = buildDatabase(1,\"ashley\", \"cadby\")\n",
    "print(test)"
   ],
   "metadata": {
    "collapsed": false,
    "pycharm": {
     "name": "#%%\n"
    }
   }
  },
  {
   "cell_type": "markdown",
   "source": [
    "Function to add date of birth\n",
    "Now create a second function to add a birthdate to the database.\n",
    "The function called addDOB, should take two inputs the first is a dictionary and the second a year in the format XXXX, it should be an integer and the key should be called DOB."
   ],
   "metadata": {
    "collapsed": false,
    "pycharm": {
     "name": "#%% md\n"
    }
   }
  },
  {
   "cell_type": "code",
   "execution_count": 23,
   "outputs": [],
   "source": [
    "def addDOB(dictionary, year):\n",
    "    dictionary['DOB'] = year\n",
    "    return dictionary"
   ],
   "metadata": {
    "collapsed": false,
    "pycharm": {
     "name": "#%%\n"
    }
   }
  },
  {
   "cell_type": "markdown",
   "source": [
    "Again test this by calling the function with the dictionary you have just created and your birth year, store and print out the returned dictionary"
   ],
   "metadata": {
    "collapsed": false,
    "pycharm": {
     "name": "#%% md\n"
    }
   }
  },
  {
   "cell_type": "code",
   "execution_count": 24,
   "outputs": [
    {
     "name": "stdout",
     "output_type": "stream",
     "text": [
      "{'ID': 1, 'FirstName': 'ashley', 'LastName': 'cadby', 'DOB': 1974}\n"
     ]
    }
   ],
   "source": [
    "newtest = addDOB(test, 1974)\n",
    "print(newtest)"
   ],
   "metadata": {
    "collapsed": false,
    "pycharm": {
     "name": "#%%\n"
    }
   }
  },
  {
   "cell_type": "markdown",
   "source": [
    "Function to calculate age\n",
    "Now we need to write a function to calculate the age of the person in the database.  To do this you can use the current year function I have given you below there is an example of how to use it.\n",
    "Your function should take in the dictionary you have created and calculate the persons age and return their age.\n",
    "\n"
   ],
   "metadata": {
    "collapsed": false,
    "pycharm": {
     "name": "#%% md\n"
    }
   }
  },
  {
   "cell_type": "code",
   "execution_count": 25,
   "outputs": [
    {
     "name": "stdout",
     "output_type": "stream",
     "text": [
      "2022\n"
     ]
    }
   ],
   "source": [
    "def currentYear():\n",
    "    from datetime import date\n",
    "    return date.today().year\n",
    "\n",
    "#Example\n",
    "Year = currentYear()\n",
    "print(Year)"
   ],
   "metadata": {
    "collapsed": false,
    "pycharm": {
     "name": "#%%\n"
    }
   }
  },
  {
   "cell_type": "code",
   "execution_count": 26,
   "outputs": [],
   "source": [
    "def getage(dictionary):\n",
    "    return currentYear() - dictionary['DOB']"
   ],
   "metadata": {
    "collapsed": false,
    "pycharm": {
     "name": "#%%\n"
    }
   }
  },
  {
   "cell_type": "code",
   "execution_count": 27,
   "outputs": [
    {
     "name": "stdout",
     "output_type": "stream",
     "text": [
      "48\n"
     ]
    }
   ],
   "source": [
    "#test\n",
    "age = getage(newtest)\n",
    "print(age)"
   ],
   "metadata": {
    "collapsed": false,
    "pycharm": {
     "name": "#%%\n"
    }
   }
  },
  {
   "cell_type": "markdown",
   "source": [
    "Function to print out data\n",
    "Finally we would like to print out the dictionary in a nice format.\n",
    "Write a function which prints out the data in the following format\n",
    "'********'\n",
    "First Name: XXXXX\n",
    "Last Name : XXXXX\n",
    "Age       : XX\n",
    "'********'\n",
    "\n",
    "The function should have one input, the dictionary."
   ],
   "metadata": {
    "collapsed": false,
    "pycharm": {
     "name": "#%% md\n"
    }
   }
  },
  {
   "cell_type": "code",
   "execution_count": 30,
   "outputs": [],
   "source": [
    "def printer(dictionary):\n",
    "    print('**********')\n",
    "    print('First name:', dictionary['FirstName'])\n",
    "    print('Last name :', dictionary['LastName'])\n",
    "    print('Age       :', getage(dictionary))\n",
    "    print('**********')"
   ],
   "metadata": {
    "collapsed": false,
    "pycharm": {
     "name": "#%%\n"
    }
   }
  },
  {
   "cell_type": "markdown",
   "source": [
    "Test your new function"
   ],
   "metadata": {
    "collapsed": false,
    "pycharm": {
     "name": "#%% md\n"
    }
   }
  },
  {
   "cell_type": "code",
   "execution_count": 31,
   "outputs": [
    {
     "name": "stdout",
     "output_type": "stream",
     "text": [
      "**********\n",
      "First name: ashley\n",
      "Last name : cadby\n",
      "Age       : 48\n",
      "**********\n"
     ]
    }
   ],
   "source": [
    "printer(newtest)"
   ],
   "metadata": {
    "collapsed": false,
    "pycharm": {
     "name": "#%%\n"
    }
   }
  },
  {
   "cell_type": "markdown",
   "source": [
    "Putting it all together.\n",
    "Now use the functions you have created along with the program below to build a complete database for Buzz Lightyear, in the end print out the database."
   ],
   "metadata": {
    "collapsed": false,
    "pycharm": {
     "name": "#%% md\n"
    }
   }
  },
  {
   "cell_type": "code",
   "execution_count": null,
   "outputs": [],
   "source": [
    "#fill in the following code\n",
    "#  use buildDatabase with ID =1, firstname = Buzz, lastname = Lightyear call the returned dictionary toyOne\n",
    "\n",
    "# Add the date of birth using the function addDOB, Buzz's DOB is 1995\n",
    "\n",
    "# Print out Buzz's details using your print function"
   ],
   "metadata": {
    "collapsed": false,
    "pycharm": {
     "name": "#%%\n"
    }
   }
  }
 ],
 "metadata": {
  "kernelspec": {
   "display_name": "Python 3",
   "language": "python",
   "name": "python3"
  },
  "language_info": {
   "codemirror_mode": {
    "name": "ipython",
    "version": 2
   },
   "file_extension": ".py",
   "mimetype": "text/x-python",
   "name": "python",
   "nbconvert_exporter": "python",
   "pygments_lexer": "ipython2",
   "version": "2.7.6"
  }
 },
 "nbformat": 4,
 "nbformat_minor": 0
}