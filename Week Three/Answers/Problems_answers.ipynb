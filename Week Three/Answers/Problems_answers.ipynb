{
 "cells": [
  {
   "cell_type": "markdown",
   "source": [
    "***\n",
    "### Problem 1\n",
    "Write a function to return the sum, difference, product and the ratio of two given numbers.\n",
    "The function should take two numbers as arguments and return four.  These four numbers should then be printed.\n",
    "***"
   ],
   "metadata": {
    "collapsed": false,
    "pycharm": {
     "name": "#%% md\n"
    }
   }
  },
  {
   "cell_type": "code",
   "execution_count": 1,
   "outputs": [
    {
     "name": "stdout",
     "output_type": "stream",
     "text": [
      "(5, -1, 6, 0.6666666666666666)\n"
     ]
    }
   ],
   "source": [
    "# Enter your code here\n",
    "def my_function(number1, number2):\n",
    "    sum = number1 + number2\n",
    "    difference = number1 - number2\n",
    "    product = number1 * number2\n",
    "    ratio = number1 / number2\n",
    "    return sum, difference, product, ratio\n",
    "\n",
    "# Test\n",
    "print(my_function(2,3))"
   ],
   "metadata": {
    "collapsed": false,
    "pycharm": {
     "name": "#%%\n"
    }
   }
  },
  {
   "cell_type": "markdown",
   "source": [
    "***"
   ],
   "metadata": {
    "collapsed": false,
    "pycharm": {
     "name": "#%% md\n"
    }
   }
  },
  {
   "cell_type": "markdown",
   "source": [
    "***\n",
    "### Problem 2\n",
    "Write a function to convert radians to degrees, the input should be in radians and the function should return degrees."
   ],
   "metadata": {
    "collapsed": false,
    "pycharm": {
     "name": "#%% md\n"
    }
   }
  },
  {
   "cell_type": "code",
   "execution_count": 3,
   "outputs": [
    {
     "name": "stdout",
     "output_type": "stream",
     "text": [
      "57.295827908797776\n"
     ]
    }
   ],
   "source": [
    "# Enter your code here\n",
    "def convert_angle(radians):\n",
    "    return (radians * 360 /(2*3.14159))\n",
    "\n",
    "# Test\n",
    "print(convert_angle(1))"
   ],
   "metadata": {
    "collapsed": false,
    "pycharm": {
     "name": "#%%\n"
    }
   }
  },
  {
   "cell_type": "markdown",
   "source": [
    "***\n",
    "### Problem 3\n",
    "Write a function to calculate the speed a falling object reaches after a given time, you can assume the acceleration due to gravity is 9.8 $m^{-2}$.  The velocity of an object under constant acceleration is given by $v^2 = 2at^2$. Test your code."
   ],
   "metadata": {
    "collapsed": false,
    "pycharm": {
     "name": "#%% md\n"
    }
   }
  },
  {
   "cell_type": "code",
   "execution_count": 5,
   "outputs": [
    {
     "name": "stdout",
     "output_type": "stream",
     "text": [
      "8.854377448471462\n"
     ]
    }
   ],
   "source": [
    "# Enter your code here\n",
    "def calculate_speed(time):\n",
    "    return (2 * 9.8 * time**2)**0.5\n",
    "\n",
    "#Test\n",
    "print(calculate_speed(2))"
   ],
   "metadata": {
    "collapsed": false,
    "pycharm": {
     "name": "#%%\n"
    }
   }
  },
  {
   "cell_type": "markdown",
   "source": [
    "***\n",
    "### Problem 4\n",
    "Write a function to calculate the kinetic energy of an object from its mass and velocity."
   ],
   "metadata": {
    "collapsed": false,
    "pycharm": {
     "name": "#%% md\n"
    }
   }
  },
  {
   "cell_type": "code",
   "execution_count": 7,
   "outputs": [],
   "source": [
    "# Enter your code here\n",
    "def calculate_KE(mass, velocity):\n",
    "    return mass * velocity**2"
   ],
   "metadata": {
    "collapsed": false,
    "pycharm": {
     "name": "#%%\n"
    }
   }
  },
  {
   "cell_type": "markdown",
   "source": [
    "***\n",
    "### Problem 5\n",
    "Use the two previously created programs to calculate the kinetic energy of a skydiver after 10 seconds. You can assume the weight of the skydiver is 80 Kg"
   ],
   "metadata": {
    "collapsed": false,
    "pycharm": {
     "name": "#%% md\n"
    }
   }
  },
  {
   "cell_type": "code",
   "execution_count": 9,
   "outputs": [
    {
     "name": "stdout",
     "output_type": "stream",
     "text": [
      "The KE is 156800.00000000003 J\n"
     ]
    }
   ],
   "source": [
    "# Enter your code here\n",
    "time = 10\n",
    "mass = 80\n",
    "print('The KE is', calculate_KE(mass, calculate_speed(time)), 'J')"
   ],
   "metadata": {
    "collapsed": false,
    "pycharm": {
     "name": "#%%\n"
    }
   }
  },
  {
   "cell_type": "markdown",
   "source": [
    "***\n",
    "### Problem 6\n",
    "Write a function to add together two numbers and divide the result by a third number.  The three numbers should be supplied as arguments and the last number, the one used for division, should be optional with a default value of 1."
   ],
   "metadata": {
    "collapsed": false,
    "pycharm": {
     "name": "#%% md\n"
    }
   }
  },
  {
   "cell_type": "code",
   "execution_count": 13,
   "outputs": [
    {
     "name": "stdout",
     "output_type": "stream",
     "text": [
      "2.0\n",
      "4.0\n"
     ]
    }
   ],
   "source": [
    "def mathFunction(fisrt, second, third=1):\n",
    "    return (fisrt + second) / third\n",
    "\n",
    "print(mathFunction(2,2,2))\n",
    "print(mathFunction(2,2))"
   ],
   "metadata": {
    "collapsed": false,
    "pycharm": {
     "name": "#%%\n"
    }
   }
  },
  {
   "cell_type": "markdown",
   "source": [
    "***\n",
    "### Problem 7\n",
    "Write a function to normalise a given array, the sum of the array should equal 1.\n",
    "To help you have been given an array"
   ],
   "metadata": {
    "collapsed": false,
    "pycharm": {
     "name": "#%% md\n"
    }
   }
  },
  {
   "cell_type": "code",
   "execution_count": 12,
   "outputs": [
    {
     "name": "stdout",
     "output_type": "stream",
     "text": [
      "325\n",
      "[[0.00307692 0.00615385 0.00923077 0.01230769 0.01538462]\n",
      " [0.01846154 0.02153846 0.02461538 0.02769231 0.03076923]\n",
      " [0.03384615 0.03692308 0.04       0.04307692 0.04615385]\n",
      " [0.04923077 0.05230769 0.05538462 0.05846154 0.06153846]\n",
      " [0.06461538 0.06769231 0.07076923 0.07384615 0.07692308]]\n"
     ]
    }
   ],
   "source": [
    "import numpy as np\n",
    "array = np.asarray([[1, 2, 3, 4, 5],\n",
    "                    [6, 7, 8, 9, 10],\n",
    "                    [11, 12, 13, 14, 15],\n",
    "                    [16, 17, 18, 19, 20],\n",
    "                    [21, 22, 23, 24, 25]])\n",
    "\n",
    "def normalise(array):\n",
    "    sumOfArray = array.sum() # This is tricky\n",
    "    return array/sumOfArray\n",
    "\n",
    "#Test\n",
    "print(normalise(array))"
   ],
   "metadata": {
    "collapsed": false,
    "pycharm": {
     "name": "#%%\n"
    }
   }
  },
  {
   "cell_type": "markdown",
   "source": [
    "***\n",
    "### Problem 8\n",
    "This is a quite complicated piece of code can you work out what it does. Can you change the code to help you work out what is going on?\n",
    "There is no real problem here more of a test yourself."
   ],
   "metadata": {
    "collapsed": false,
    "pycharm": {
     "name": "#%% md\n"
    }
   }
  },
  {
   "cell_type": "code",
   "execution_count": 12,
   "outputs": [
    {
     "name": "stdout",
     "output_type": "stream",
     "text": [
      "73 is not a prime =  False\n"
     ]
    }
   ],
   "source": [
    "import numpy as np\n",
    "# This defines oue test number, what are we testing for?\n",
    "testnumber = 73\n",
    "\n",
    "testnumbers = np.ones(testnumber-3) * testnumber\n",
    "# What is testnumbers?\n",
    "print(testnumbers)\n",
    "\n",
    "numbers = np.linspace(3, testnumber-1, testnumber-3)\n",
    "#what are these numbers?\n",
    "print(numbers)\n",
    "\n",
    "#Why does numbers start at 3?\n",
    "# because 1 would always return the number as prime, because all numbers are divisible by 1\n",
    "\n",
    "outcomes = testnumbers % numbers\n",
    "# What is this line doing?\n",
    "print(outcomes) # what does outcomes look like\n",
    "\n",
    "print(testnumber, 'is not a prime =', 0 in outcomes)\n",
    "# Why would a 0 indicate a prime?"
   ],
   "metadata": {
    "collapsed": false,
    "pycharm": {
     "name": "#%%\n"
    }
   }
  },
  {
   "cell_type": "code",
   "execution_count": null,
   "outputs": [],
   "source": [],
   "metadata": {
    "collapsed": false,
    "pycharm": {
     "name": "#%%\n",
     "is_executing": true
    }
   }
  },
  {
   "cell_type": "code",
   "execution_count": 3,
   "outputs": [],
   "source": [],
   "metadata": {
    "collapsed": false,
    "pycharm": {
     "name": "#%%\n"
    }
   }
  }
 ],
 "metadata": {
  "kernelspec": {
   "display_name": "Python 3",
   "language": "python",
   "name": "python3"
  },
  "language_info": {
   "codemirror_mode": {
    "name": "ipython",
    "version": 2
   },
   "file_extension": ".py",
   "mimetype": "text/x-python",
   "name": "python",
   "nbconvert_exporter": "python",
   "pygments_lexer": "ipython2",
   "version": "2.7.6"
  }
 },
 "nbformat": 4,
 "nbformat_minor": 0
}