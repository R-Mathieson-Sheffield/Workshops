{
 "cells": [
  {
   "cell_type": "markdown",
   "source": [
    "### Objectives\n",
    "\n",
    "By the end of this week you should be able to;\n",
    "\n",
    "Define a for loop and a while loop;\n",
    "    Including how to iterate though a data structure,\n",
    "    How to break out of a loop,\n",
    "    How to use the enumerate command\n",
    "\n",
    "Work with conditional statements, including not statements.\n",
    "Be able to chain together statements.\n",
    "\n",
    "\n",
    "Do Conditions then loops"
   ],
   "metadata": {
    "collapsed": false
   }
  }
 ],
 "metadata": {
  "kernelspec": {
   "display_name": "Python 3",
   "language": "python",
   "name": "python3"
  },
  "language_info": {
   "codemirror_mode": {
    "name": "ipython",
    "version": 2
   },
   "file_extension": ".py",
   "mimetype": "text/x-python",
   "name": "python",
   "nbconvert_exporter": "python",
   "pygments_lexer": "ipython2",
   "version": "2.7.6"
  }
 },
 "nbformat": 4,
 "nbformat_minor": 0
}
