{
 "cells": [
  {
   "cell_type": "markdown",
   "source": [
    "***\n",
    "### Conditions\n",
    "We often want computers to make decisions for us. For example, if the water in a tank is too cold turn the heater on if the water in the tank is too hot turn the heater off.\n",
    "In this notebook we will be looking at conditions."
   ],
   "metadata": {
    "collapsed": false
   }
  },
  {
   "cell_type": "markdown",
   "source": [
    "All conditions deal with True of False, these are boolean types, think of them as 1's or 0's.  The computer can be told to do one thing if the statement is true and something else if the statement is false."
   ],
   "metadata": {
    "collapsed": false
   }
  },
  {
   "cell_type": "code",
   "execution_count": 12,
   "outputs": [
    {
     "name": "stdout",
     "output_type": "stream",
     "text": [
      "True\n",
      "False\n",
      "<class 'bool'>\n"
     ]
    }
   ],
   "source": [
    "# let's look at the True and False values in the python\n",
    "print(True)\n",
    "print(False)\n",
    "print(type(True))\n",
    "# Notice how these are not strings, we are not printing the word True we are printing the boolean value"
   ],
   "metadata": {
    "collapsed": false
   }
  },
  {
   "cell_type": "markdown",
   "source": [
    "The simplest case is to compare two numbers if they are the same, we have a True statement if they are not the same we would have a False statement, to compare two things to see if they are the same we use a double =, so that we would type 1==1 to see if 1 is the same as 1."
   ],
   "metadata": {
    "collapsed": false
   }
  },
  {
   "cell_type": "code",
   "execution_count": 1,
   "outputs": [
    {
     "name": "stdout",
     "output_type": "stream",
     "text": [
      "True\n",
      "False\n"
     ]
    }
   ],
   "source": [
    "#Let's look at that again\n",
    "print(1==1)\n",
    "print(1==2)"
   ],
   "metadata": {
    "collapsed": false
   }
  },
  {
   "cell_type": "markdown",
   "source": [
    "### Below is a table of condition operators\n",
    "| operator   | Example  | Meaning                  | Result                                                             |\n",
    "|------------|----------|--------------------------|--------------------------------------------------------------------|\n",
    "| ==         | a == b   | Equal to                 | True  if the value of a is equal to the value of b False otherwise |\n",
    "| !=         | a != b   | Not equal to             | True if a is not equal to b False otherwise                        |\n",
    "| <          | a < b    | Less than                | True if a is less than b False otherwise                           |\n",
    "| <=         | a <= b   | Less than or equal to    | True if a is less than or equal to b False otherwise               |\n",
    "| >          | a > b    | Greater than             | True if a is greater than b False otherwise                        |\n",
    "| >=         | a >= b   | Greater than or equal to | True if a is greater than or equal to b False otherwise            |\n"
   ],
   "metadata": {
    "collapsed": false
   }
  },
  {
   "cell_type": "code",
   "execution_count": 7,
   "outputs": [
    {
     "name": "stdout",
     "output_type": "stream",
     "text": [
      "True\n"
     ]
    }
   ],
   "source": [
    "# Let's define a few variables\n",
    "a = 1\n",
    "b = 2\n",
    "c = 3\n",
    "d = 4\n",
    "\n",
    "#Let's look at an example\n",
    "print( a<= c)"
   ],
   "metadata": {
    "collapsed": false
   }
  },
  {
   "cell_type": "code",
   "execution_count": null,
   "outputs": [],
   "source": [
    "#Using the above variables practice printing the outputs of various operators."
   ],
   "metadata": {
    "collapsed": false,
    "pycharm": {
     "is_executing": true
    }
   }
  },
  {
   "cell_type": "markdown",
   "source": [
    "***\n",
    "### Making decisions\n",
    "Now we can get a true or false boolean we can use them to make decisions, we will use the commands;\n",
    "if, if true do something\n",
    "else, else do something else\n",
    "Elif, else then perform another if.\n",
    "To allow us to control the flow of a program, lets use the if and else command."
   ],
   "metadata": {
    "collapsed": false
   }
  },
  {
   "cell_type": "code",
   "execution_count": 2,
   "outputs": [
    {
     "name": "stdout",
     "output_type": "stream",
     "text": [
      "2 is the lowest value\n",
      "This is the else section of the code\n"
     ]
    }
   ],
   "source": [
    "# Let us again define a couple of variables\n",
    "a = 1\n",
    "b = 2\n",
    "# We are going to print the lowest value of the two\n",
    "if a < b: # this if statement will execute the indented commands below if the condition is true.\n",
    "    print(a, 'is the lowest value')\n",
    "    print('This is the if section of the code')\n",
    "else: # if the original condition is not true then indented commands below will be executed.\n",
    "    print(b, 'is the lowest value')\n",
    "    print('This is the else section of the code')\n",
    "# Try changing the values of a and b to reverse the execution\n",
    "\n",
    "# Can you see a problem with this code"
   ],
   "metadata": {
    "collapsed": false
   }
  },
  {
   "cell_type": "markdown",
   "source": [
    "### Else if"
   ],
   "metadata": {
    "collapsed": false
   }
  },
  {
   "cell_type": "code",
   "execution_count": 1,
   "outputs": [
    {
     "name": "stdout",
     "output_type": "stream",
     "text": [
      "1 is the lowest value\n",
      "This is the if section of the code\n"
     ]
    }
   ],
   "source": [
    "# Let us again define a couple of variables\n",
    "a = 1\n",
    "b = 2\n",
    "# We are going to print the lowest value of the two\n",
    "if a < b: # this if statement will execute the indented commands below if the condition is true.\n",
    "    print(a, 'is the lowest value')\n",
    "    print('This is the if section of the code')\n",
    "elif b < a: # if the original condition is not true then this if statement is checked.\n",
    "    print(b, 'is the lowest value')\n",
    "    print('This is the else section of the code')\n",
    "else: # Here we have the case where both if statements were not true\n",
    "    print('They are the same')\n",
    "# Try changing the values of a and b to reverse the execution"
   ],
   "metadata": {
    "collapsed": false
   }
  },
  {
   "cell_type": "markdown",
   "source": [
    "### Multiple conditions"
   ],
   "metadata": {
    "collapsed": false
   }
  },
  {
   "cell_type": "markdown",
   "source": [
    "The and key word"
   ],
   "metadata": {
    "collapsed": false
   }
  },
  {
   "cell_type": "code",
   "execution_count": 2,
   "outputs": [
    {
     "name": "stdout",
     "output_type": "stream",
     "text": [
      "all conditions match\n"
     ]
    }
   ],
   "source": [
    "A = 1\n",
    "B = 2\n",
    "C = 3\n",
    "if A == 1 and B == 2 and C == 3:\n",
    "    print(\"all conditions match\")"
   ],
   "metadata": {
    "collapsed": false
   }
  },
  {
   "cell_type": "code",
   "execution_count": 4,
   "outputs": [
    {
     "name": "stdout",
     "output_type": "stream",
     "text": [
      "at least one condition matches\n"
     ]
    }
   ],
   "source": [
    "A = 1\n",
    "B = 2\n",
    "C = 3\n",
    "if A == 1 or B == 2 or C == 3:\n",
    "    print(\"at least one condition matches\")"
   ],
   "metadata": {
    "collapsed": false
   }
  },
  {
   "cell_type": "code",
   "execution_count": 11,
   "outputs": [
    {
     "name": "stdout",
     "output_type": "stream",
     "text": [
      "Conditions met\n"
     ]
    }
   ],
   "source": [
    "A = 1\n",
    "B = 1\n",
    "C = 2\n",
    "D = 2\n",
    "if (A == 1 and B == 1) or (C == 2 and D == 2):\n",
    "    print('Conditions met')"
   ],
   "metadata": {
    "collapsed": false
   }
  }
 ],
 "metadata": {
  "kernelspec": {
   "display_name": "Python 3",
   "language": "python",
   "name": "python3"
  },
  "language_info": {
   "codemirror_mode": {
    "name": "ipython",
    "version": 2
   },
   "file_extension": ".py",
   "mimetype": "text/x-python",
   "name": "python",
   "nbconvert_exporter": "python",
   "pygments_lexer": "ipython2",
   "version": "2.7.6"
  }
 },
 "nbformat": 4,
 "nbformat_minor": 0
}
