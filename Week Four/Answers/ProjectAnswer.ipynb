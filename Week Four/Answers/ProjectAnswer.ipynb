{
 "cells": [
  {
   "cell_type": "markdown",
   "source": [
    "## Project\n",
    "Write a program to create a new list which is ordered the lowest value to highest from a given list of numbers. If you can think of a better way to solve this problem please use your answer.  However, don't use"
   ],
   "metadata": {
    "collapsed": false,
    "pycharm": {
     "name": "#%% md\n"
    }
   }
  },
  {
   "cell_type": "code",
   "execution_count": 31,
   "outputs": [],
   "source": [
    "# Define three new variables\n",
    "# one called lowestValue and set it to 999\n",
    "# one called position and set it to 0\n",
    "# define an empty list called newList"
   ],
   "metadata": {
    "collapsed": false,
    "pycharm": {
     "name": "#%%\n"
    }
   }
  },
  {
   "cell_type": "code",
   "execution_count": 31,
   "outputs": [],
   "source": [],
   "metadata": {
    "collapsed": false,
    "pycharm": {
     "name": "#%%\n"
    }
   }
  },
  {
   "cell_type": "code",
   "execution_count": 32,
   "outputs": [],
   "source": [
    "myLIst = [1,6,3,7,9,3,6,19,8,4,7,2,9,10]\n",
    "newList = []\n",
    "lowestValue = 999\n",
    "position = 0"
   ],
   "metadata": {
    "collapsed": false,
    "pycharm": {
     "name": "#%%\n"
    }
   }
  },
  {
   "cell_type": "code",
   "execution_count": 33,
   "outputs": [],
   "source": [
    "# Build a for loop which will go through myList and compare each number with the value of the lowest value. If The number from the list is lower set the lowest value to that value. Use the enumerate command to keep track of the position where the lowest value was updated, when the condition is met copy the value of myList to the variable lowestValue and the current position to the position variable.\n",
    "\n",
    "for current, I in enumerate(myLIst):\n",
    "    if I < lowestValue:\n",
    "        lowestValue = I\n",
    "        position = current"
   ],
   "metadata": {
    "collapsed": false,
    "pycharm": {
     "name": "#%%\n"
    }
   }
  },
  {
   "cell_type": "code",
   "execution_count": 34,
   "outputs": [],
   "source": [
    "# Now use the value of position to remove the lowest value from the myList using the pop method.\n",
    "# Use the append method to add the lowest value to the newList\n",
    "myLIst.pop(position)\n",
    "newList.append(lowestValue)\n"
   ],
   "metadata": {
    "collapsed": false,
    "pycharm": {
     "name": "#%%\n"
    }
   }
  },
  {
   "cell_type": "code",
   "execution_count": null,
   "outputs": [],
   "source": [
    "# Now calculate the length of myList and store it in a variable called length\n",
    "length = len(myLIst)"
   ],
   "metadata": {
    "collapsed": false,
    "pycharm": {
     "name": "#%%\n"
    }
   }
  },
  {
   "cell_type": "markdown",
   "source": [
    "#### You now need to copy the code you have made in to a while loop\n",
    "Define a while loop to run while the length of myList is not equal to 1.\n"
   ],
   "metadata": {
    "collapsed": false,
    "pycharm": {
     "name": "#%% md\n"
    }
   }
  },
  {
   "cell_type": "code",
   "execution_count": 37,
   "outputs": [
    {
     "name": "stdout",
     "output_type": "stream",
     "text": [
      "[]\n",
      "[1, 2, 3, 3, 4, 6, 6, 7, 7, 8, 9, 9, 10, 19]\n"
     ]
    }
   ],
   "source": [
    "# Here is myList\n",
    "myLIst = [1,6,3,7,9,3,6,19,8,4,7,2,9,10]\n",
    "newList = []\n",
    "length = len(myLIst)\n",
    "# Define your while loop\n",
    "while length !=1:\n",
    "# set lowestValue as 999\n",
    "    lowestValue = 999\n",
    "    position = 0\n",
    "    length = len(myLIst)\n",
    "# Use the for loop you defined above to find the lowestValue and the position\n",
    "    for current, I in enumerate(myLIst):\n",
    "        if I < lowestValue:\n",
    "            lowestValue = I\n",
    "            position = current\n",
    "# After the loop has run use the pop and apped command to reduce myList and increase newList\n",
    "    myLIst.pop(position)\n",
    "    newList.append(lowestValue)\n",
    "#Print the two lists out\n",
    "print(myLIst)\n",
    "print(newList)"
   ],
   "metadata": {
    "collapsed": false,
    "pycharm": {
     "name": "#%%\n"
    }
   }
  },
  {
   "cell_type": "code",
   "execution_count": null,
   "outputs": [],
   "source": [],
   "metadata": {
    "collapsed": false,
    "pycharm": {
     "name": "#%%\n"
    }
   }
  }
 ],
 "metadata": {
  "kernelspec": {
   "display_name": "Python 3",
   "language": "python",
   "name": "python3"
  },
  "language_info": {
   "codemirror_mode": {
    "name": "ipython",
    "version": 2
   },
   "file_extension": ".py",
   "mimetype": "text/x-python",
   "name": "python",
   "nbconvert_exporter": "python",
   "pygments_lexer": "ipython2",
   "version": "2.7.6"
  }
 },
 "nbformat": 4,
 "nbformat_minor": 0
}