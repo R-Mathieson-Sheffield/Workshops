{
 "cells": [
  {
   "cell_type": "markdown",
   "source": [
    "***\n",
    "### loops\n",
    "The whole point of using a computer is to get the computer to do boring repetitive jobs.  This is where loops come in, using a loop you can have the computer perform a task over and over again.  Generally there are two types of loop;\n",
    "A for loop where the command is repeated a set number of times and\n",
    "A while loop where the command is repeated until a condition is met."
   ],
   "metadata": {
    "collapsed": false
   }
  },
  {
   "cell_type": "markdown",
   "source": [
    "### The while loop\n",
    "The while loop looks like this\n",
    "\n",
    "while <expr>:\n",
    "    <statement(s)>\n",
    "\n",
    "The while loop performs a set of tasks over and over until a condition is met, look at the code below"
   ],
   "metadata": {
    "collapsed": false
   }
  },
  {
   "cell_type": "code",
   "execution_count": 1,
   "outputs": [
    {
     "name": "stdout",
     "output_type": "stream",
     "text": [
      "5\n",
      "4\n",
      "3\n",
      "2\n",
      "1\n",
      "Finished\n"
     ]
    }
   ],
   "source": [
    "#The while loop\n",
    "n = 5           # This defines a variable we will use for the condition\n",
    "while n > 0:    # If this is true the statements below will run, If they are not it will skip it, try setting n to less than 0\n",
    "    print(n)\n",
    "    n -= 1\n",
    "print('Finished')"
   ],
   "metadata": {
    "collapsed": false
   }
  },
  {
   "cell_type": "markdown",
   "source": [
    "#### How to break out of a loop\n",
    "What happens if you are not sure the condition will be met.\n"
   ],
   "metadata": {
    "collapsed": false
   }
  },
  {
   "cell_type": "code",
   "execution_count": 10,
   "outputs": [
    {
     "name": "stdout",
     "output_type": "stream",
     "text": [
      "1.4951214251146256\n",
      "2.9729773669886144\n",
      "3.1757655732493135\n",
      "0.2455417210006272\n",
      "0.47692541704624936\n",
      "2.4007609915803285\n",
      "0.43051756293292875\n",
      "3.340229537230392\n",
      "1.6311325221556825\n",
      "1.4862731024817923\n",
      "2.619310147607965\n",
      "1.8040126201838054\n",
      "1.2430901535766412\n",
      "3.8256524133111336\n",
      "2.5887963685804904\n",
      "2.3492568102335563\n",
      "2.737824394328817\n",
      "2.8914153961250344\n",
      "2.2210117432656347\n",
      "1.829175468572862\n",
      "1.7711079436499801\n",
      "3.1972235549348067\n",
      "2.606154849953572\n",
      "2.6867904831743608\n",
      "3.3386212619269386\n",
      "1.4599499392527693\n",
      "2.4506971119801513\n",
      "3.0351410453365717\n",
      "3.0892053157635466\n",
      "1.166380679338689\n",
      "4.571325808518127\n",
      "1.9432682606831704\n",
      "2.7209730229907665\n",
      "3.1303727930607335\n",
      "0.7325745922354172\n",
      "4.084458140375046\n",
      "3.2141185648624018\n",
      "3.220195962093563\n",
      "1.3822185540013316\n",
      "1.910890774278426\n",
      "1.7686571505319704\n",
      "3.04411719969735\n",
      "1.940829780625134\n",
      "2.650593004863259\n",
      "2.868790537989936\n",
      "2.426813779905305\n",
      "2.489100965245759\n",
      "1.7408319549978883\n",
      "1.6160135418731467\n",
      "2.3374145762787584\n",
      "1.027841767453547\n",
      "1.843429452406296\n",
      "3.0680294807390776\n",
      "1.465739904936324\n",
      "2.4284960127554367\n",
      "0.8274708161069699\n",
      "2.161068329943723\n",
      "3.2390299049669267\n",
      "1.939074249882033\n",
      "1.8603715294395\n",
      "1.9422974794688266\n",
      "1.638962344533136\n",
      "2.4448232638447505\n",
      "1.2889878381134747\n",
      "1.2457148299702319\n",
      "2.1080006980647115\n",
      "3.6918929294346556\n",
      "2.715703251140051\n",
      "0.24447586345458006\n",
      "1.9217347739740547\n",
      "2.158686382810035\n",
      "4.228702767790365\n",
      "2.2786557897290254\n",
      "2.591235542359383\n",
      "2.0970010719993897\n",
      "-0.9942804663885578\n"
     ]
    }
   ],
   "source": [
    "import numpy as np\n",
    "randomNumber = np.random.normal(2,1)\n",
    "count = 0\n",
    "while randomNumber > 0 and count < 10 :\n",
    "    randomNumber = np.random.normal(2,1)\n",
    "    print(randomNumber)\n",
    "    count = count + 1"
   ],
   "metadata": {
    "collapsed": false
   }
  },
  {
   "cell_type": "code",
   "execution_count": 14,
   "outputs": [
    {
     "name": "stdout",
     "output_type": "stream",
     "text": [
      "1.850571949969058\n",
      "2.6918419685241264\n",
      "2.6332749450958155\n",
      "3.76972993590839\n",
      "-0.4029255394908744\n"
     ]
    }
   ],
   "source": [
    "# maybe a clearer example\n",
    "import numpy as np\n",
    "randomNumber = np.random.normal(2,1)\n",
    "count = 0\n",
    "while randomNumber > 0:\n",
    "    randomNumber = np.random.normal(2,1)\n",
    "    print(randomNumber)\n",
    "    if count > 10:\n",
    "        print('Loop Broken at', count)\n",
    "        break\n",
    "    count = count + 1"
   ],
   "metadata": {
    "collapsed": false
   }
  },
  {
   "cell_type": "markdown",
   "source": [
    "***\n",
    "### The for loop.\n",
    "The most common loop in programming is probably the for loop, this simple loop loops through a specific number of items, or times.  The example below loops through a list."
   ],
   "metadata": {
    "collapsed": false
   }
  },
  {
   "cell_type": "code",
   "execution_count": 15,
   "outputs": [
    {
     "name": "stdout",
     "output_type": "stream",
     "text": [
      "Cow\n",
      "Sheep\n",
      "Fox\n",
      "Horse\n",
      "are animals\n"
     ]
    }
   ],
   "source": [
    "# First let us define a list\n",
    "myList = ['Cow', 'Sheep', 'Fox', 'Horse']\n",
    "\n",
    "# Now the loop\n",
    "for item in myList: # What this loop is doing\n",
    "    print(item)\n",
    "print(\"are animals\")"
   ],
   "metadata": {
    "collapsed": false
   }
  },
  {
   "cell_type": "markdown",
   "source": [
    "***\n",
    "### The range and enumerate command\n",
    "Often we want to loop for a fixed number of times rather than through a list of options.  We could make a list with the numbers we want such as myList = [1,2,3,4,5,6,7]"
   ],
   "metadata": {
    "collapsed": false
   }
  },
  {
   "cell_type": "code",
   "execution_count": 11,
   "outputs": [
    {
     "name": "stdout",
     "output_type": "stream",
     "text": [
      "1 2 3 4 5 6 7 "
     ]
    }
   ],
   "source": [
    "#example\n",
    "myList = [1,2,3,4,5,6,7]\n",
    "for number in myList:\n",
    "    print(number, '', end='') # I have used the end='' argument to stop the print statment starting a new line."
   ],
   "metadata": {
    "collapsed": false
   }
  },
  {
   "cell_type": "markdown",
   "source": [
    "But what if we need to loop over 100 numbers? Well then we can use the range command.\n",
    "The range command takes 3 inputs, the first is the start, the second is the end, the final is the increment."
   ],
   "metadata": {
    "collapsed": false
   }
  },
  {
   "cell_type": "code",
   "execution_count": 10,
   "outputs": [
    {
     "name": "stdout",
     "output_type": "stream",
     "text": [
      "1 3 5 7 9 11 13 15 17 19 21 23 25 27 29 31 33 35 37 39 41 43 45 47 49 51 53 55 57 59 61 63 65 67 69 71 73 75 77 79 81 83 85 87 89 91 93 95 97 99 "
     ]
    }
   ],
   "source": [
    "#example\n",
    "for number in range(1,100, 2):\n",
    "    print(number, '', end='')"
   ],
   "metadata": {
    "collapsed": false
   }
  },
  {
   "cell_type": "code",
   "execution_count": 12,
   "outputs": [
    {
     "name": "stdout",
     "output_type": "stream",
     "text": [
      "0 1 2 3 4 5 6 7 8 9 10 11 12 13 14 15 16 17 18 19 20 21 22 23 24 25 26 27 28 29 30 31 32 33 34 35 36 37 38 39 40 41 42 43 44 45 46 47 48 49 50 51 52 53 54 55 56 57 58 59 60 61 62 63 64 65 66 67 68 69 70 71 72 73 74 75 76 77 78 79 80 81 82 83 84 85 86 87 88 89 90 91 92 93 94 95 96 97 98 99 "
     ]
    }
   ],
   "source": [
    "#example\n",
    "for number in range(100): # if you just give one number the range command assumes, starting at 0 with an increment of 1\n",
    "    print(number, '', end='')"
   ],
   "metadata": {
    "collapsed": false
   }
  },
  {
   "cell_type": "markdown",
   "source": [
    "What if we want the best of both worlds, i.e. we want to move though a list but also know how many times the loop has run.  We could use a counter such ash"
   ],
   "metadata": {
    "collapsed": false
   }
  },
  {
   "cell_type": "code",
   "execution_count": 14,
   "outputs": [
    {
     "name": "stdout",
     "output_type": "stream",
     "text": [
      "The number of times the loop has run is 1 and the animal is a Cow\n",
      "The number of times the loop has run is 2 and the animal is a Sheep\n",
      "The number of times the loop has run is 3 and the animal is a Fox\n",
      "The number of times the loop has run is 4 and the animal is a Horse\n"
     ]
    }
   ],
   "source": [
    "#Example\n",
    "myList = ['Cow', 'Sheep', 'Fox', 'Horse']\n",
    "counter = 1\n",
    "for item in myList:\n",
    "    print('The number of times the loop has run is', counter, 'and the animal is a', item )\n",
    "    counter = counter + 1"
   ],
   "metadata": {
    "collapsed": false
   }
  },
  {
   "cell_type": "markdown",
   "source": [
    "A better way to achieve this is to use the enumerate command as such"
   ],
   "metadata": {
    "collapsed": false
   }
  },
  {
   "cell_type": "code",
   "execution_count": 15,
   "outputs": [
    {
     "name": "stdout",
     "output_type": "stream",
     "text": [
      "The number of times the loop has run is 0 and the animal is a Cow\n",
      "The number of times the loop has run is 1 and the animal is a Sheep\n",
      "The number of times the loop has run is 2 and the animal is a Fox\n",
      "The number of times the loop has run is 3 and the animal is a Horse\n"
     ]
    }
   ],
   "source": [
    "#Example\n",
    "myList = ['Cow', 'Sheep', 'Fox', 'Horse']\n",
    "for counter, item in enumerate(myList):\n",
    "    print('The number of times the loop has run is', counter, 'and the animal is a', item )"
   ],
   "metadata": {
    "collapsed": false
   }
  },
  {
   "cell_type": "markdown",
   "source": [
    "•••\n",
    "#### Nested loop\n",
    "You can put a loop within a loop to achieve some quite powerful outcome."
   ],
   "metadata": {
    "collapsed": false
   }
  },
  {
   "cell_type": "code",
   "execution_count": 1,
   "outputs": [
    {
     "name": "stdout",
     "output_type": "stream",
     "text": [
      "*\n",
      "**\n",
      "***\n",
      "****\n",
      "*****\n",
      "******\n",
      "*******\n",
      "********\n",
      "*********\n",
      "**********\n"
     ]
    }
   ],
   "source": [
    "\n",
    "for lineNumber in range(0, 10):\n",
    "    for numberStars in range(0,lineNumber):\n",
    "        print('*', end='')\n",
    "    print('*')"
   ],
   "metadata": {
    "collapsed": false
   }
  },
  {
   "cell_type": "code",
   "execution_count": 5,
   "outputs": [
    {
     "name": "stdout",
     "output_type": "stream",
     "text": [
      "1 3 5 7 9 11 13 15 17 19 21 23 25 27 29 31 33 35 37 39 41 43 45 47 49 51 53 55 57 59 61 63 65 67 69 71 73 75 77 79 81 83 85 87 89 91 93 95 97 99 \n",
      "\n",
      "1.0 1.4974874371859297 1.9949748743718594 2.492462311557789 2.9899497487437188 3.487437185929648 3.9849246231155777 4.482412060301508 4.9798994974874375 5.477386934673366 5.974874371859296 6.472361809045226 6.969849246231155 7.467336683417085 7.964824120603015 8.462311557788944 8.959798994974875 9.457286432160803 9.954773869346733 10.452261306532662 10.949748743718592 11.447236180904522 11.944723618090451 12.442211055276381 12.93969849246231 13.43718592964824 13.93467336683417 14.4321608040201 14.92964824120603 15.42713567839196 15.924623115577889 16.42211055276382 16.91959798994975 17.417085427135678 17.914572864321606 18.412060301507537 18.909547738693465 19.407035175879397 19.904522613065325 20.402010050251256 20.899497487437184 21.396984924623116 21.894472361809044 22.391959798994975 22.889447236180903 23.386934673366834 23.884422110552762 24.381909547738694 24.87939698492462 25.376884422110553 25.87437185929648 26.371859296482413 26.86934673366834 27.366834170854272 27.8643216080402 28.36180904522613 28.85929648241206 29.35678391959799 29.85427135678392 30.35175879396985 30.849246231155778 31.34673366834171 31.844221105527637 32.34170854271357 32.8391959798995 33.336683417085425 33.834170854271356 34.33165829145729 34.82914572864321 35.32663316582914 35.824120603015075 36.321608040201006 36.81909547738693 37.31658291457286 37.814070351758794 38.311557788944725 38.80904522613065 39.30653266331658 39.80402010050251 40.301507537688444 40.79899497487437 41.2964824120603 41.79396984924623 42.29145728643216 42.78894472361809 43.28643216080402 43.78391959798995 44.28140703517588 44.778894472361806 45.27638190954774 45.77386934673367 46.2713567839196 46.768844221105525 47.266331658291456 47.76381909547739 48.26130653266332 48.75879396984924 49.256281407035175 49.753768844221106 50.25125628140703 50.74874371859296 51.246231155778894 51.743718592964825 52.24120603015075 52.73869346733668 53.23618090452261 53.733668341708544 54.23115577889447 54.7286432160804 55.22613065326633 55.72361809045226 56.22110552763819 56.71859296482412 57.21608040201005 57.71356783919598 58.211055276381906 58.70854271356784 59.20603015075377 59.7035175879397 60.201005025125625 60.698492462311556 61.19597989949749 61.69346733668342 62.19095477386934 62.688442211055275 63.185929648241206 63.68341708542714 64.18090452261306 64.678391959799 65.17587939698493 65.67336683417085 66.17085427135679 66.66834170854271 67.16582914572864 67.66331658291458 68.1608040201005 68.65829145728642 69.15577889447236 69.65326633165829 70.15075376884423 70.64824120603015 71.14572864321607 71.64321608040201 72.14070351758794 72.63819095477386 73.1356783919598 73.63316582914572 74.13065326633166 74.62814070351759 75.12562814070351 75.62311557788945 76.12060301507537 76.6180904522613 77.11557788944724 77.61306532663316 78.1105527638191 78.60804020100502 79.10552763819095 79.60301507537689 80.10050251256281 80.59798994974874 81.09547738693468 81.5929648241206 82.09045226130652 82.58793969849246 83.08542713567839 83.58291457286433 84.08040201005025 84.57788944723617 85.07537688442211 85.57286432160804 86.07035175879396 86.5678391959799 87.06532663316582 87.56281407035176 88.06030150753769 88.55778894472361 89.05527638190955 89.55276381909547 90.0502512562814 90.54773869346734 91.04522613065326 91.5427135678392 92.04020100502512 92.53768844221105 93.03517587939699 93.53266331658291 94.03015075376884 94.52763819095478 95.0251256281407 95.52261306532664 96.02010050251256 96.51758793969849 97.01507537688443 97.51256281407035 98.01005025125627 98.50753768844221 99.00502512562814 99.50251256281406 100.0 "
     ]
    }
   ],
   "source": [
    "#example\n",
    "import numpy as np\n",
    "for number in np.arange(1,100, 2):\n",
    "    print(number, '', end='')\n",
    "print(\"\")\n",
    "print(\"\")\n",
    "for number in np.linspace(1,100, 200):\n",
    "    print(number, '', end='')"
   ],
   "metadata": {
    "collapsed": false
   }
  },
  {
   "cell_type": "markdown",
   "source": [
    "### Searching within a loop\n"
   ],
   "metadata": {
    "collapsed": false
   }
  },
  {
   "cell_type": "code",
   "execution_count": null,
   "outputs": [],
   "source": [],
   "metadata": {
    "collapsed": false
   }
  }
 ],
 "metadata": {
  "kernelspec": {
   "display_name": "Python 3",
   "language": "python",
   "name": "python3"
  },
  "language_info": {
   "codemirror_mode": {
    "name": "ipython",
    "version": 2
   },
   "file_extension": ".py",
   "mimetype": "text/x-python",
   "name": "python",
   "nbconvert_exporter": "python",
   "pygments_lexer": "ipython2",
   "version": "2.7.6"
  }
 },
 "nbformat": 4,
 "nbformat_minor": 0
}
