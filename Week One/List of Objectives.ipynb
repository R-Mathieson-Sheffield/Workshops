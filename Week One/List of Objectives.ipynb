{
 "cells": [
  {
   "cell_type": "markdown",
   "source": [
    "## You should be able to\n",
    "\n",
    "Know the difference between an int, a float and a string.\n",
    "Define a variable\n",
    "Know what type that variable is\n",
    "Manipulate that variable.\n",
    "\n",
    "Realise that everything is an object, i.e. is defined by the program and as such has its own interpretation of the data."
   ],
   "metadata": {
    "collapsed": false,
    "pycharm": {
     "name": "#%% md\n"
    }
   }
  },
  {
   "cell_type": "code",
   "execution_count": null,
   "outputs": [],
   "source": [],
   "metadata": {
    "collapsed": false,
    "pycharm": {
     "name": "#%%\n"
    }
   }
  }
 ],
 "metadata": {
  "kernelspec": {
   "display_name": "Python 3",
   "language": "python",
   "name": "python3"
  },
  "language_info": {
   "codemirror_mode": {
    "name": "ipython",
    "version": 2
   },
   "file_extension": ".py",
   "mimetype": "text/x-python",
   "name": "python",
   "nbconvert_exporter": "python",
   "pygments_lexer": "ipython2",
   "version": "2.7.6"
  }
 },
 "nbformat": 4,
 "nbformat_minor": 0
}