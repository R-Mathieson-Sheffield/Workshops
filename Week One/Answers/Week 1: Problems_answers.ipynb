{
 "cells": [
  {
   "cell_type": "markdown",
   "source": [
    "***\n",
    "### Problem 1\n",
    "Practice using different operators. Given the numbers stored as val1 and val2 below print the;\n",
    "1.) Sum\n",
    "2.) Difference\n",
    "3.) Ratio\n",
    "4.) Product\n",
    "5.) Modulus, in Python, % is the modulus operator.\n",
    "6.) Exponentiation in Python, ** is the exponentiation operator.\n",
    "7.) Floor division in Python, // is used to conduct the floor division.\n"
   ],
   "metadata": {
    "collapsed": false,
    "pycharm": {
     "name": "#%% md\n"
    }
   }
  },
  {
   "cell_type": "code",
   "execution_count": 1,
   "outputs": [
    {
     "name": "stdout",
     "output_type": "stream",
     "text": [
      "5\n",
      "-1\n",
      "0.6666666666666666\n",
      "6\n",
      "2\n",
      "8\n",
      "0\n"
     ]
    }
   ],
   "source": [
    "# Use these variable\n",
    "val1 = 2\n",
    "val2 = 3\n",
    "\n",
    "# Write you code here\n",
    "#1.)\n",
    "print(val1 + val2)\n",
    "#2.)\n",
    "print(val1 - val2)\n",
    "#3.)\n",
    "print(val1 / val2)\n",
    "#4.)\n",
    "print(val1 * val2)\n",
    "#5.)\n",
    "print(val1 % val2)\n",
    "#6.)\n",
    "print(val1 ** val2)\n",
    "#7.)\n",
    "print(val1 // val2)"
   ],
   "metadata": {
    "collapsed": false,
    "pycharm": {
     "name": "#%%\n"
    }
   }
  },
  {
   "cell_type": "markdown",
   "source": [
    "***\n",
    "### Problem 2\n",
    "Write a short program to convert a number stored in binary across a number of variable in to a decimal number. Remember that the decimal answer is the sum of all the registers, so for the binary number 11, the calculation would be 2*1 + 1*1 giving an aswer of 3. USe the variables you have been given."
   ],
   "metadata": {
    "collapsed": false,
    "pycharm": {
     "name": "#%% md\n"
    }
   }
  },
  {
   "cell_type": "code",
   "execution_count": 2,
   "outputs": [
    {
     "name": "stdout",
     "output_type": "stream",
     "text": [
      "49\n"
     ]
    }
   ],
   "source": [
    "ones = 1\n",
    "twos = 0\n",
    "fours = 0\n",
    "eights = 0\n",
    "sixteens = 1\n",
    "thirtyseconds = 1\n",
    "\n",
    "#--------\n",
    "# add code below\n",
    "myAnswer = (ones * 1) + (twos * 2) + (fours * 4) + (eights * 8) + (sixteens * 16) + (thirtyseconds * 32)\n",
    "print(myAnswer)"
   ],
   "metadata": {
    "collapsed": false,
    "pycharm": {
     "name": "#%%\n"
    }
   }
  },
  {
   "cell_type": "markdown",
   "source": [
    "***\n",
    "### Problem 3\n",
    "Write some code to print your age, in the format, I am XXX years old. Your age should be stored in an appropriate variable"
   ],
   "metadata": {
    "collapsed": false,
    "pycharm": {
     "name": "#%% md\n"
    }
   }
  },
  {
   "cell_type": "code",
   "execution_count": 3,
   "outputs": [
    {
     "name": "stdout",
     "output_type": "stream",
     "text": [
      "I am 21 years old\n"
     ]
    }
   ],
   "source": [
    "myAge = 21\n",
    "print(\"I am\", myAge, \"years old\")"
   ],
   "metadata": {
    "collapsed": false,
    "pycharm": {
     "name": "#%%\n"
    }
   }
  },
  {
   "cell_type": "markdown",
   "source": [
    "***\n",
    "### Problem 4\n",
    "Print the number 65 as an ascii character, a float and a binary number."
   ],
   "metadata": {
    "collapsed": false,
    "pycharm": {
     "name": "#%% md\n"
    }
   }
  },
  {
   "cell_type": "code",
   "execution_count": 1,
   "outputs": [
    {
     "name": "stdout",
     "output_type": "stream",
     "text": [
      "A\n",
      "65.0\n",
      "0b1000001\n"
     ]
    }
   ],
   "source": [
    "myVariable = 65\n",
    "print(chr(myVariable))\n",
    "print(float(myVariable))\n",
    "print(bin(myVariable))"
   ],
   "metadata": {
    "collapsed": false,
    "pycharm": {
     "name": "#%%\n"
    }
   }
  },
  {
   "cell_type": "markdown",
   "source": [
    "***\n",
    "### Problem 5\n",
    "Write your first and last name as separate variables and print how many characters are in your name"
   ],
   "metadata": {
    "collapsed": false,
    "pycharm": {
     "name": "#%% md\n"
    }
   }
  },
  {
   "cell_type": "code",
   "execution_count": 2,
   "outputs": [
    {
     "name": "stdout",
     "output_type": "stream",
     "text": [
      "My name is  11 characters long\n"
     ]
    }
   ],
   "source": [
    "firstName = 'ashley'\n",
    "lastName = 'Cadby'\n",
    "fullName = firstName + lastName\n",
    "print('My name is ', len(fullName), 'characters long')"
   ],
   "metadata": {
    "collapsed": false,
    "pycharm": {
     "name": "#%%\n"
    }
   }
  },
  {
   "cell_type": "markdown",
   "source": [
    "***\n",
    "### Problem 6\n",
    "Print every second letter of the alphabet starting at b"
   ],
   "metadata": {
    "collapsed": false,
    "pycharm": {
     "name": "#%% md\n"
    }
   }
  },
  {
   "cell_type": "code",
   "execution_count": 3,
   "outputs": [
    {
     "name": "stdout",
     "output_type": "stream",
     "text": [
      "bdfhjlnprtvxz\n"
     ]
    }
   ],
   "source": [
    "theAlphabet = 'abcdefghijklmnopqrstuvwxyz'\n",
    "print(theAlphabet[1::2])"
   ],
   "metadata": {
    "collapsed": false,
    "pycharm": {
     "name": "#%%\n"
    }
   }
  },
  {
   "cell_type": "markdown",
   "source": [
    "***\n",
    "### Problem 7\n",
    "Does the code below print true or false, make you prediction then remove the # and see if you were correct if you were not work out why"
   ],
   "metadata": {
    "collapsed": false,
    "pycharm": {
     "name": "#%% md\n"
    }
   }
  },
  {
   "cell_type": "code",
   "execution_count": 5,
   "outputs": [
    {
     "name": "stdout",
     "output_type": "stream",
     "text": [
      "True\n"
     ]
    }
   ],
   "source": [
    "s = 'foo'\n",
    "t = 'bar'\n",
    "print('barf' in 2 * (s + t))\n",
    "# True or false"
   ],
   "metadata": {
    "collapsed": false,
    "pycharm": {
     "name": "#%%\n"
    }
   }
  },
  {
   "cell_type": "code",
   "execution_count": null,
   "outputs": [],
   "source": [],
   "metadata": {
    "collapsed": false,
    "pycharm": {
     "name": "#%%\n"
    }
   }
  }
 ],
 "metadata": {
  "kernelspec": {
   "display_name": "Python 3",
   "language": "python",
   "name": "python3"
  },
  "language_info": {
   "codemirror_mode": {
    "name": "ipython",
    "version": 2
   },
   "file_extension": ".py",
   "mimetype": "text/x-python",
   "name": "python",
   "nbconvert_exporter": "python",
   "pygments_lexer": "ipython2",
   "version": "2.7.6"
  }
 },
 "nbformat": 4,
 "nbformat_minor": 0
}