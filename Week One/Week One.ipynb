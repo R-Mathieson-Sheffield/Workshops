{
 "cells": [
  {
   "cell_type": "markdown",
   "source": [
    "> ## What is python and why learn it:\n",
    "![alt text](Images/Python.jpg \"Title\")\n",
    "\"Python is an interpreted, object-oriented, high-level programming language with dynamic semantics. Its high-level built in data structures, combined with dynamic typing and dynamic binding, make it very attractive for Rapid Application Development, as well as for use as a scripting or glue language to connect existing components together. Python's simple, easy to learn syntax emphasizes readability and therefore reduces the cost of program maintenance. Python supports modules and packages, which encourages program modularity and code reuse. The Python interpreter and the extensive standard library are available in source or binary form without charge for all major platforms, and can be freely distributed\""
   ],
   "metadata": {
    "collapsed": false
   }
  },
  {
   "cell_type": "markdown",
   "source": [
    "Python is a programming language. A programming language is a set of commands and syntax that allow us to control the computer. It can be as simple as printing some text to the screen or as complicated as controlling a nuclear power plant.\n",
    "It is interpreted which means that the code you write is read by a secondary program line by line, with each command being acted on at the time of reading.\n",
    "Object-oriented languages organises command and data together allow you to easily expand on the basic data types easily."
   ],
   "metadata": {
    "collapsed": false
   }
  },
  {
   "cell_type": "markdown",
   "source": [
    "Why do scientist program\n",
    "There are many reason why you would want to program a computer. In science, we want to collect and proccess data in ways that have not been done before.  If we wait for other people to collect or process our data we have already lost."
   ],
   "metadata": {
    "collapsed": false
   }
  },
  {
   "cell_type": "markdown",
   "source": [
    "What is good about python:\n",
    "The language itself is very easy to read and similar in some respects to natural language.\n",
    "There are lots and lots of people using it.\n",
    "It has a wide range of add-ons (known as libraries), which allow you to do almost anything."
   ],
   "metadata": {
    "collapsed": false
   }
  },
  {
   "cell_type": "markdown",
   "source": [
    "What is bad about python:\n",
    "It can be slower than other programming languages.\n",
    "It does not have all the safety checks that other languages have, so altough it wont break your computer sometime you code will crash.\n",
    "It does not intrinsically teach good programming practice."
   ],
   "metadata": {
    "collapsed": false
   }
  },
  {
   "cell_type": "markdown",
   "source": [
    "Hardware and software\n",
    "When we talk about hardware we are taking about the physics parts of the computer these define how data is stored.  The software comprises the programs we run on the computer, and it is these programs that interpret the data"
   ],
   "metadata": {
    "collapsed": false
   }
  },
  {
   "cell_type": "markdown",
   "source": [
    "What you are reading now is a Jupyter notebook, it has cells with text like this one and cells for code, like the one below.  Click on in a press the green arrow above.\n",
    "In the next six weeks you will have a lot of opportunity to change and play with code.  You can not break anything so please feel free to change what ever you like.\n",
    "***\n",
    "### Our first piece of code"
   ],
   "metadata": {
    "collapsed": false
   }
  },
  {
   "cell_type": "code",
   "execution_count": 1,
   "outputs": [
    {
     "name": "stdout",
     "output_type": "stream",
     "text": [
      "Hello kittens\n"
     ]
    }
   ],
   "source": [
    "print('Hello kittens') # the print command takes any number of inputs.\n",
    "# Try changing the words between the '' in the code above\n"
   ],
   "metadata": {
    "collapsed": false
   }
  },
  {
   "cell_type": "code",
   "execution_count": 2,
   "outputs": [
    {
     "name": "stdout",
     "output_type": "stream",
     "text": [
      "Testing Testing 1 2 3\n"
     ]
    },
    {
     "data": {
      "text/plain": "'Hello'"
     },
     "execution_count": 2,
     "metadata": {},
     "output_type": "execute_result"
    }
   ],
   "source": [
    "print(\"Testing\", \"Testing\", 1, 2, 3) # Commas seperate the items we want to print\n",
    "# Add another number, if it stops working don't worry.\n",
    "\n",
    "\n",
    "myString = \"hello\"\n",
    "myString.title()"
   ],
   "metadata": {
    "collapsed": false
   }
  },
  {
   "cell_type": "markdown",
   "source": [],
   "metadata": {
    "collapsed": false
   }
  },
  {
   "cell_type": "markdown",
   "source": [
    "It is worth noting that if we want to print a string we surround the text in either '' or \"\". Some languages use '' for a character and \"\" for a string. For numbers, we can just use the number, for variable (which we will discuss later) we use the variable name without quote marks."
   ],
   "metadata": {
    "collapsed": false
   }
  },
  {
   "cell_type": "markdown",
   "source": [
    "***\n",
    "Python can be used interactively. It makes a great interactive calculatorIn the cell below type 2 + 2\n",
    "Once you have done that try some other sums."
   ],
   "metadata": {
    "collapsed": false
   }
  },
  {
   "cell_type": "code",
   "execution_count": 3,
   "outputs": [
    {
     "data": {
      "text/plain": "4"
     },
     "execution_count": 3,
     "metadata": {},
     "output_type": "execute_result"
    }
   ],
   "source": [
    "2 + 2 # Here the + represents addition"
   ],
   "metadata": {
    "collapsed": false
   }
  },
  {
   "cell_type": "code",
   "execution_count": 4,
   "outputs": [
    {
     "data": {
      "text/plain": "4"
     },
     "execution_count": 4,
     "metadata": {},
     "output_type": "execute_result"
    }
   ],
   "source": [
    "2 * 2 # Here the * represents multiplication"
   ],
   "metadata": {
    "collapsed": false
   }
  },
  {
   "cell_type": "markdown",
   "source": [
    "Please try changing the above to solve different equations."
   ],
   "metadata": {
    "collapsed": false
   }
  },
  {
   "cell_type": "markdown",
   "source": [
    "***\n",
    "### Variables\n",
    "\n",
    "\n",
    "Having an interactive calculator is great, but to do anything useful with data, we need to store the data for later use. To do this we assign its value to a variable. A variable is a name associated with a piece of data, the name links the data to a specific object in the computers' memory.\n",
    "\n",
    "This will allow us to hold data meaningfully.\n",
    "In Python, variable names:\n",
    "\n",
    "can include letters, digits, and underscores\n",
    "cannot start with a digit\n",
    "are case sensitive.\n",
    "Look at the code below"
   ],
   "metadata": {
    "collapsed": false
   }
  },
  {
   "cell_type": "code",
   "execution_count": 5,
   "outputs": [],
   "source": [
    "# In the code below we assign the value 85.0 to the variable called myWeight\n",
    "myWeight = 85.0"
   ],
   "metadata": {
    "collapsed": false
   }
  },
  {
   "cell_type": "markdown",
   "source": [
    "once we have a variable name we can use it, we can acces it by calling its name. We can change it by reassigning a different value to the name."
   ],
   "metadata": {
    "collapsed": false
   }
  },
  {
   "cell_type": "code",
   "execution_count": 6,
   "outputs": [
    {
     "name": "stdout",
     "output_type": "stream",
     "text": [
      "85.0\n",
      "86.0\n",
      "85.0\n",
      "86.0\n"
     ]
    }
   ],
   "source": [
    "# The print command sends information to the console so the use can see it\n",
    "# Here we print myWeight, remember myWieght has a value associated with it\n",
    "print(myWeight)\n",
    "print(myWeight + 1)\n",
    "print(myWeight) # Notice here that the value associated with myWeight has not changed\n",
    "myWeight = myWeight + 1\n",
    "print(myWeight)# Notice here that the value associated with myWeight has changed"
   ],
   "metadata": {
    "collapsed": false
   }
  },
  {
   "cell_type": "markdown",
   "source": [
    "Work though the above code in your head (or on a peice of paper) and make sure you can follow and understand what is going on, if you can not ask a TA to explain it to you."
   ],
   "metadata": {
    "collapsed": false
   }
  },
  {
   "cell_type": "markdown",
   "source": [
    "You can assign variable to new variables"
   ],
   "metadata": {
    "collapsed": false
   }
  },
  {
   "cell_type": "code",
   "execution_count": 7,
   "outputs": [
    {
     "name": "stdout",
     "output_type": "stream",
     "text": [
      "86.0\n"
     ]
    }
   ],
   "source": [
    "myNewWeight = myWeight\n",
    "print(myNewWeight)"
   ],
   "metadata": {
    "collapsed": false
   }
  },
  {
   "cell_type": "markdown",
   "source": [
    "Some basic variable manipulation. Once we have some variables (which at the moment store numbers) we can start some basic mathematical manipulation.\n",
    "The four basic operators we can use are\n",
    "\n",
    "Addition $A + B$\n",
    "Subtractions $A - B$\n",
    "Multiplication $A * B$\n",
    "Division $A / B$\n",
    "Raising to a power $A^B$ is $A**B$"
   ],
   "metadata": {
    "collapsed": false
   }
  },
  {
   "cell_type": "markdown",
   "source": [
    "Your turn to code:\n",
    "define a variable called weightKg and set it to 75\n",
    "define a new variable called weightLb and set it to 2.2 times the weightKg\n",
    "print the new weight in lb"
   ],
   "metadata": {
    "collapsed": false
   }
  },
  {
   "cell_type": "code",
   "execution_count": 8,
   "outputs": [
    {
     "name": "stdout",
     "output_type": "stream",
     "text": [
      "165.0\n"
     ]
    }
   ],
   "source": [
    "weightKg = 75\n",
    "weightLb = 2.2 * weightKg\n",
    "print(weightLb)"
   ],
   "metadata": {
    "collapsed": false
   }
  },
  {
   "cell_type": "code",
   "execution_count": 9,
   "outputs": [
    {
     "name": "stdout",
     "output_type": "stream",
     "text": [
      "well done\n"
     ]
    }
   ],
   "source": [
    "# This code checks to see if you have completed the task correctly.\n",
    "assert weightLb == 75 * 2.2, \"Should be 165\"\n",
    "assert 'weightLb' in locals(), \"Variable does not exist\"\n",
    "print(\"well done\")"
   ],
   "metadata": {
    "collapsed": false
   }
  },
  {
   "cell_type": "markdown",
   "source": [
    "A little background"
   ],
   "metadata": {
    "collapsed": false
   }
  },
  {
   "cell_type": "markdown",
   "source": [
    "How is data stored in a computer?\n",
    "Because currently electronics requires the signal to be ON or OFF all data in a computer is stored in what is known as binary format (ON or OFF). If we wanted to store a value of 1 or 0, then we can use a single 'switch' which would be on for 1 and off for 0."
   ],
   "metadata": {
    "collapsed": false
   }
  },
  {
   "cell_type": "markdown",
   "source": [
    "<p align=\"center\">\n",
    "<img src=\"Images/bulbs.png\" alt=\"drawing\" width=\"400\"/>\n",
    "</p>"
   ],
   "metadata": {
    "collapsed": false
   }
  },
  {
   "cell_type": "markdown",
   "source": [
    "This is great if we only want to store the numbers 0 and 1. However, what we could do is have a bunch of pigeonholes, where each pigeonhole has on of our switches in it but with a different value. This is known as binary representation."
   ],
   "metadata": {
    "collapsed": false
   }
  },
  {
   "cell_type": "markdown",
   "source": [
    "<p align=\"center\">\n",
    "<img src=\"Images/pidgeonHoles.jpg\" alt=\"drawing\" width=\"400\"/>\n",
    "</p>"
   ],
   "metadata": {
    "collapsed": false
   }
  },
  {
   "cell_type": "markdown",
   "source": [
    "So the first pigeonhole could represent 0 or 1, the second could represent 0 or 2, so that with two pigeonholes we can store the number2, 0,1,2,3,\n",
    "\n",
    "|  Store 2  | Store  1  |  actual value  |\n",
    "|:-:|:-:|:-:|\n",
    "| 0      | 0      | 0            |\n",
    "| 0      | 1      | 1            |\n",
    "| 1      | 0      | 2            |\n",
    "| 1      | 1      | 3            |"
   ],
   "metadata": {
    "collapsed": false
   }
  },
  {
   "cell_type": "markdown",
   "source": [
    "This is how computers store all information. Below you can set the variable \"number\" to any integer number and the cell will show you the binary representation"
   ],
   "metadata": {
    "collapsed": false
   }
  },
  {
   "cell_type": "code",
   "execution_count": 10,
   "outputs": [
    {
     "data": {
      "text/plain": "'0b101'"
     },
     "execution_count": 10,
     "metadata": {},
     "output_type": "execute_result"
    }
   ],
   "source": [
    "number = 5\n",
    "bin(number) # An explanation of the bin function can be found on the documentation page.\n"
   ],
   "metadata": {
    "collapsed": false
   }
  },
  {
   "cell_type": "markdown",
   "source": [
    "In modern computer a single number is stored in 64 bits (individual flip-flops), i.e. what we have been calling pigeonholes.  Most modern computers are 64 bit machines meaning that they can handle 64 bits at a time. Many of these 64 bits are collected together to form the memory in a computer with each 64 bit block having its own address in the computers' memory."
   ],
   "metadata": {
    "collapsed": false
   }
  },
  {
   "cell_type": "code",
   "execution_count": 11,
   "outputs": [
    {
     "name": "stdout",
     "output_type": "stream",
     "text": [
      "The maximum integer number which can be stored on this computer is  9223372036854775807\n",
      "As a binary number  111111111111111111111111111111111111111111111111111111111111111\n",
      "which takes up  63  bits  / pigeon holes\n",
      "where do you think our missing bit went? What numbers are missing from our range?\n"
     ]
    }
   ],
   "source": [
    "import sys\n",
    "print(\"The maximum integer number which can be stored on this computer is \", sys.maxsize)\n",
    "print(\"As a binary number \", \"{0:b}\".format(sys.maxsize))\n",
    "print(\"which takes up \", len(\"{0:b}\".format(sys.maxsize)), ' bits  / pigeon holes')\n",
    "print(\"where do you think our missing bit went? What numbers are missing from our range?\")"
   ],
   "metadata": {
    "collapsed": false
   }
  },
  {
   "cell_type": "markdown",
   "source": [
    "There are a few terms it is worth knowing.\n",
    "8 bits are referred to as a byte\n",
    "2 bytes are sometimes called a word\n",
    "4 bytes a long word.\n",
    "Memory size is oftern defined as Gigabytes.\n",
    "1 Gbyte is 1.25e+8 bytes"
   ],
   "metadata": {
    "collapsed": false
   }
  },
  {
   "cell_type": "markdown",
   "source": [
    "All this may seem a little complicated. What I really want you to ake home is that everything in a computer is stored as a 1 or a zero and combinations of these can store whole (integer) numbers. This means that the computer is storing a representation of our number not the actual number and this is more important when we deal with real numbers."
   ],
   "metadata": {
    "collapsed": false
   }
  },
  {
   "cell_type": "markdown",
   "source": [
    "Let's look at real numbers i.e number like 3.14159. How do we store that. Well it really is up to the program or programming language you use. This goes back to the fact that the hardware inside the computer can only store 0's or 1's.  So the software has to work out how to store this type of number.  One common way to do this is to assign values smaller than 1 to the bits."
   ],
   "metadata": {
    "collapsed": false
   }
  },
  {
   "cell_type": "markdown",
   "source": [
    "\\begin{center}\n",
    "\\begin{tabular}{ |c| |c| |c| |c| |c| |c| |c| |c| |c| |c| }\n",
    " $$4$$ & $$2$$ & $$1$$ & $$\\frac{1}{2}$$ & $$\\frac{1}{4}$$ & $$\\frac{1}{8}$$& $$\\frac{1}{16}$$& $$\\frac{1}{32}$$ \\\\\n",
    "\\end{tabular}\n",
    "\\end{center}"
   ],
   "metadata": {
    "collapsed": false
   }
  },
  {
   "cell_type": "markdown",
   "source": [
    "Above we have an 8-bit memory address, we have defined the first three as being worth, 1,2 and 4.  The next 5 are worth the reciprocal of the power of twos. Let's try to make pi."
   ],
   "metadata": {
    "collapsed": false
   }
  },
  {
   "cell_type": "markdown",
   "source": [
    "<pre>0 1 1 0 0 0 0 0     gives us 3\n",
    "0 1 1 1 0 0 0 0     gives us 3.5 which is too big\n",
    "0 1 1 0 1 0 0 0     gives us 3.25, getting there\n",
    "0 1 1 0 0 1 0 0     gives us 3.125, closer\n",
    "0 1 1 0 0 1 0 1     gives us 3.15625, as good as we can get\n",
    "</pre>"
   ],
   "metadata": {
    "collapsed": false
   }
  },
  {
   "cell_type": "markdown",
   "source": [
    "The difference is given below, what we can see is that if we use 8 bits we will not be able to store pi to the precision we wanted to"
   ],
   "metadata": {
    "collapsed": false
   }
  },
  {
   "cell_type": "code",
   "execution_count": 12,
   "outputs": [
    {
     "data": {
      "text/plain": "0.014660000000000117"
     },
     "execution_count": 12,
     "metadata": {},
     "output_type": "execute_result"
    }
   ],
   "source": [
    "3.15625 - 3.14159"
   ],
   "metadata": {
    "collapsed": false
   }
  },
  {
   "cell_type": "markdown",
   "source": [
    "If we look at the simple difference below we see the error in the answer we expect compare to the computers answer.  This is where we have to be careful"
   ],
   "metadata": {
    "collapsed": false
   }
  },
  {
   "cell_type": "code",
   "execution_count": 13,
   "outputs": [
    {
     "data": {
      "text/plain": "0.055000000000000604"
     },
     "execution_count": 13,
     "metadata": {},
     "output_type": "execute_result"
    }
   ],
   "source": [
    "4.9 - 4.845"
   ],
   "metadata": {
    "collapsed": false
   }
  },
  {
   "cell_type": "markdown",
   "source": [
    "This type of number is known as float. Floats are probably the most common way to store numbers in python. They can be used to store real world non-integer numbers.\n",
    "\n",
    "We can see what the computer thinks a variable is, remember all data is stored as a 1 or 0, the program (python) does the interpretation of the data.\n",
    "\n",
    "We can use the command type() to ask python what type of variable a variable is."
   ],
   "metadata": {
    "collapsed": false
   }
  },
  {
   "cell_type": "code",
   "execution_count": 14,
   "outputs": [
    {
     "name": "stdout",
     "output_type": "stream",
     "text": [
      "1 <class 'int'>\n",
      "1.0 <class 'float'>\n",
      "1.0 <class 'float'>\n"
     ]
    }
   ],
   "source": [
    "myVariable = 1\n",
    "print(myVariable, type(myVariable))\n",
    "myVariable = myVariable + 0.0\n",
    "print(myVariable, type(myVariable))\n",
    "myVariable = myVariable - 0.0\n",
    "print(myVariable, type(myVariable))"
   ],
   "metadata": {
    "collapsed": false
   }
  },
  {
   "cell_type": "code",
   "execution_count": 15,
   "outputs": [
    {
     "name": "stdout",
     "output_type": "stream",
     "text": [
      "<class 'int'> 1\n",
      "<class 'int'> 1\n",
      "<class 'float'> 1.0\n"
     ]
    }
   ],
   "source": [
    "#Notice this\n",
    "firstInt = 1\n",
    "print(type(firstInt), firstInt)\n",
    "secondInt = 1\n",
    "print(type(secondInt), secondInt)\n",
    "answer = firstInt/secondInt\n",
    "print(type(answer), answer)\n",
    "# Why do you think this is."
   ],
   "metadata": {
    "collapsed": false
   }
  },
  {
   "cell_type": "markdown",
   "source": [
    "We can also change the way a variable is stored."
   ],
   "metadata": {
    "collapsed": false
   }
  },
  {
   "cell_type": "code",
   "execution_count": 16,
   "outputs": [
    {
     "name": "stdout",
     "output_type": "stream",
     "text": [
      "<class 'int'> 1\n",
      "<class 'float'> 1.0\n",
      "<class 'float'> 1.1\n",
      "<class 'int'> 1\n"
     ]
    }
   ],
   "source": [
    "myVariable = 1                          # I define a variable\n",
    "print(type(myVariable), myVariable)     # Python decides it is an integer\n",
    "\n",
    "myVariable = float(myVariable)          # I convert my variable to a float\n",
    "print(type(myVariable), myVariable)     # Notice it is now a float with a decimal place\n",
    "\n",
    "myVariable = myVariable + 0.1           # I add 0.1 to my variable\n",
    "print(type(myVariable), myVariable)\n",
    "\n",
    "myVariable = int(myVariable)            # I convert my variable back to an integer\n",
    "print(type(myVariable), myVariable)     # I have lost some precision."
   ],
   "metadata": {
    "collapsed": false
   }
  },
  {
   "cell_type": "markdown",
   "source": [
    "OK, one last thing how do we store characters in a computer. for example \"A\". Again this depends on the software running on the computer.  But in general, the computer uses a look-up table to compare the number stored in the memory to a character. The American Standard Code for Information Interchange (ASCII) is a very common look up table and is given below.\n",
    "\n",
    "\n",
    "\n",
    "---"
   ],
   "metadata": {
    "collapsed": false
   }
  },
  {
   "cell_type": "markdown",
   "source": [
    "<p align=\"left\">\n",
    "<img src=\"Images/ASCII-Table.png\" alt=\"drawing\" />\n",
    "</p>"
   ],
   "metadata": {
    "collapsed": false
   }
  },
  {
   "cell_type": "markdown",
   "source": [
    "So if I want to represent the letter A, I can do this by storing the number 65 in the computers memoery and remembering that it is a letter rather than a number."
   ],
   "metadata": {
    "collapsed": false
   }
  },
  {
   "cell_type": "code",
   "execution_count": 17,
   "outputs": [
    {
     "name": "stdout",
     "output_type": "stream",
     "text": [
      "The ascii number for A is  65\n",
      "The number the 65 represents the character  A\n"
     ]
    }
   ],
   "source": [
    "print(\"The ascii number for A is \", ord(\"A\"))\n",
    "print(\"The number the 65 represents the character \", chr(65))\n",
    "\n",
    "# From the python documentation\n",
    "#ord(c)\n",
    "#Given a string representing one Unicode character, return an integer representing the Unicode code point of that character. For example, ord('a') returns the integer 97 and ord('€') (Euro sign) returns 8364. This is the inverse of chr()."
   ],
   "metadata": {
    "collapsed": false
   }
  },
  {
   "cell_type": "markdown",
   "source": [
    "When we define a variable such as A = 1  what we are effectively doing is putting 1 in a memory slot in the computer and associating that memory slot with the name A."
   ],
   "metadata": {
    "collapsed": false
   }
  },
  {
   "cell_type": "code",
   "execution_count": 18,
   "outputs": [
    {
     "name": "stdout",
     "output_type": "stream",
     "text": [
      "4375789808\n",
      "4377491696\n"
     ]
    }
   ],
   "source": [
    "A = 1\n",
    "B = \"A\"\n",
    "print(id(A))\n",
    "print(id(B))"
   ],
   "metadata": {
    "collapsed": false
   }
  },
  {
   "cell_type": "markdown",
   "source": [
    "---\n",
    "Some string manipulation"
   ],
   "metadata": {
    "collapsed": false
   }
  },
  {
   "cell_type": "markdown",
   "source": [
    "Let us play with some strings."
   ],
   "metadata": {
    "collapsed": false
   }
  },
  {
   "cell_type": "code",
   "execution_count": 19,
   "outputs": [
    {
     "name": "stdout",
     "output_type": "stream",
     "text": [
      "Hello Mr Bond\n"
     ]
    }
   ],
   "source": [
    "myGreeting = 'Hello'        # I define two string variables.\n",
    "myName = 'Mr Bond'\n",
    "print(myGreeting, myName)   # I can print them."
   ],
   "metadata": {
    "collapsed": false
   }
  },
  {
   "cell_type": "markdown",
   "source": [
    "I can concatenate them with the addition operator"
   ],
   "metadata": {
    "collapsed": false
   }
  },
  {
   "cell_type": "code",
   "execution_count": 20,
   "outputs": [
    {
     "name": "stdout",
     "output_type": "stream",
     "text": [
      "Hello Mr Bond\n"
     ]
    }
   ],
   "source": [
    "sentence = myGreeting + ' ' + myName # Notice I need to add a space\n",
    "print(sentence)"
   ],
   "metadata": {
    "collapsed": false
   }
  },
  {
   "cell_type": "code",
   "execution_count": 21,
   "outputs": [
    {
     "data": {
      "text/plain": "220.00000000000003"
     },
     "execution_count": 21,
     "metadata": {},
     "output_type": "execute_result"
    }
   ],
   "source": [
    "2.2 * 100"
   ],
   "metadata": {
    "collapsed": false
   }
  },
  {
   "cell_type": "code",
   "execution_count": 22,
   "outputs": [
    {
     "data": {
      "text/plain": "1"
     },
     "execution_count": 22,
     "metadata": {},
     "output_type": "execute_result"
    }
   ],
   "source": [
    "\"of\" in \"bond\"\n",
    "import numpy as np\n",
    "my = np.zeros(1            )\n",
    "ash = 1\n",
    "ash.bit_count()"
   ],
   "metadata": {
    "collapsed": false
   }
  },
  {
   "cell_type": "markdown",
   "source": [
    "I can make multiple copies of a string using the multiplication operators."
   ],
   "metadata": {
    "collapsed": false
   }
  },
  {
   "cell_type": "code",
   "execution_count": 23,
   "outputs": [
    {
     "name": "stdout",
     "output_type": "stream",
     "text": [
      "ah\n",
      "ahahahahahahahahahahah\n"
     ]
    }
   ],
   "source": [
    "scared = 'ah'\n",
    "reallyScared = scared * 11\n",
    "print(scared)\n",
    "print(reallyScared)"
   ],
   "metadata": {
    "collapsed": false
   }
  },
  {
   "cell_type": "markdown",
   "source": [
    "Searching for a string with in another string using the 'in' command. The 'in' command will either return a True or False statement, True if the sub-string can be found in the main string or False if it can not be found."
   ],
   "metadata": {
    "collapsed": false
   }
  },
  {
   "cell_type": "code",
   "execution_count": 24,
   "outputs": [
    {
     "name": "stdout",
     "output_type": "stream",
     "text": [
      "It is True that angry is in the sentence\n"
     ]
    }
   ],
   "source": [
    "sentence = 'The story so far: in the beginning, the universe was created. This has made a lot of people very angry and been widely regarded as a bad move.'\n",
    "searchTerm = 'angry'\n",
    "\n",
    "print('It is',searchTerm in sentence, 'that', searchTerm, 'is in the sentence')"
   ],
   "metadata": {
    "collapsed": false
   }
  },
  {
   "cell_type": "markdown",
   "source": [
    "Here are some common built in python commands for manipulating strings.\n",
    "\n",
    "chr()\tConverts an integer to a character\n",
    "ord()\tConverts a character to an integer\n",
    "len()\tReturns the length of a string\n",
    "str()\tReturns a string representation of an object\n",
    "\n",
    "For each of the cells below try to work out what the output of the cell will be. Once you have made your guess uncomment the last line (delete the character #)."
   ],
   "metadata": {
    "collapsed": false
   }
  },
  {
   "cell_type": "code",
   "execution_count": 25,
   "outputs": [],
   "source": [
    "myNumber = 1\n",
    "myString = chr(myNumber)\n",
    "#print(myString + myString)"
   ],
   "metadata": {
    "collapsed": false
   }
  },
  {
   "cell_type": "code",
   "execution_count": 26,
   "outputs": [],
   "source": [
    "myString = 'A'\n",
    "myNumber = ord(myString)\n",
    "#print(myNumber + myNumber)"
   ],
   "metadata": {
    "collapsed": false
   }
  },
  {
   "cell_type": "code",
   "execution_count": 27,
   "outputs": [],
   "source": [
    "myString = '1'\n",
    "myNumber = len(myString)\n",
    "#print(myNumber + myNumber)"
   ],
   "metadata": {
    "collapsed": false
   }
  },
  {
   "cell_type": "code",
   "execution_count": 28,
   "outputs": [],
   "source": [
    "myNumber = 1\n",
    "myString = str(myNumber)\n",
    "#print(myString + myString)"
   ],
   "metadata": {
    "collapsed": false
   }
  },
  {
   "cell_type": "markdown",
   "source": [
    "---\n",
    "Slicing.\n",
    "One of the key components of python is slicing.  Slicing allows us to slice data up in to smaller chunks. Strings give us a great and simple way to explore this. AS we progress though the course we will use slicing a lot.\n",
    "\n",
    "You may have guessed this but a string is a collection of characters.\n",
    "such that 'Optimus Prime' is actually\n",
    "'O' + p' + 't' + 'i' + 'm' + 'u' + 's' + '  ' + 'P' + 'r' + 'i' + 'm' + 'e'\n",
    "Once we think about the string like this we can see how it would be easy to address each character.\n",
    "We do this by using [] brackets, one thing to note is that python starts counting at 0.  So the first item in a list is the 0th item.  Let's have a look at it."
   ],
   "metadata": {
    "collapsed": false
   }
  },
  {
   "cell_type": "code",
   "execution_count": 29,
   "outputs": [
    {
     "name": "stdout",
     "output_type": "stream",
     "text": [
      "O\n",
      "t\n",
      "m\n"
     ]
    }
   ],
   "source": [
    "myString = 'Optimus Prime'\n",
    "print(myString[0])\n",
    "print(myString[2])\n",
    "print(myString[4])"
   ],
   "metadata": {
    "collapsed": false
   }
  },
  {
   "cell_type": "markdown",
   "source": [
    "Ok, now what do we do if we want a section of the data, we use [start:end]"
   ],
   "metadata": {
    "collapsed": false
   }
  },
  {
   "cell_type": "code",
   "execution_count": 30,
   "outputs": [
    {
     "name": "stdout",
     "output_type": "stream",
     "text": [
      "My first name is Optimus \n"
     ]
    }
   ],
   "source": [
    "print('My first name is', myString[0:8]) # Notice that this gives me the characters from 0 up to 8 (but not 8)."
   ],
   "metadata": {
    "collapsed": false
   }
  },
  {
   "cell_type": "code",
   "execution_count": 31,
   "outputs": [
    {
     "name": "stdout",
     "output_type": "stream",
     "text": [
      "Pri\n",
      "Pri\n"
     ]
    }
   ],
   "source": [
    "print(myString[8:11]) # This gives me the characters from 8 till 10\n",
    "print(myString[-5:-2]) # This gives me the characters 5 from the end till the last but two."
   ],
   "metadata": {
    "collapsed": false
   }
  },
  {
   "cell_type": "code",
   "execution_count": 32,
   "outputs": [
    {
     "name": "stdout",
     "output_type": "stream",
     "text": [
      "OtmsPie\n",
      "OtmsPie\n"
     ]
    }
   ],
   "source": [
    "# We can print in steps\n",
    "print(myString[0:14:2]) # This prints from 0 to 12 in steps of two,\n",
    "print(myString[::2]) #we can actually use [::] to print the entire string"
   ],
   "metadata": {
    "collapsed": false
   }
  },
  {
   "cell_type": "code",
   "execution_count": 33,
   "outputs": [
    {
     "name": "stdout",
     "output_type": "stream",
     "text": [
      "emirP sumitpO\n",
      "eiPsmtO\n"
     ]
    }
   ],
   "source": [
    "#One last thing we can step backwards thorugh our string\n",
    "print(myString[::-1])\n",
    "print(myString[::-2]) # Backwards in steps of two"
   ],
   "metadata": {
    "collapsed": false
   }
  },
  {
   "cell_type": "markdown",
   "source": [
    "This is a good resource.\n",
    "https://www.digitalocean.com/community/tutorials/how-to-index-and-slice-strings-in-python-3"
   ],
   "metadata": {
    "collapsed": false
   }
  },
  {
   "cell_type": "markdown",
   "source": [
    "### methods in strings\n",
    "There are loads of things methods in python, this is a good resource.\n",
    "https://www.w3schools.com/python/python_ref_string.asp\n",
    "Here is an example of their use.\n"
   ],
   "metadata": {
    "collapsed": false
   }
  },
  {
   "cell_type": "code",
   "execution_count": 34,
   "outputs": [
    {
     "name": "stdout",
     "output_type": "stream",
     "text": [
      "A quick brown fox jumps over the lazy dog\n",
      "A quick brown fox jumps over the lazy frog\n",
      "A Quick Brown Fox Jumps Over The Lazy Frog\n"
     ]
    }
   ],
   "source": [
    "myString =\"A quick brown fox jumps over the lazy dog\"\n",
    "print(myString)\n",
    "myString = myString.replace('dog', 'frog')\n",
    "print(myString)\n",
    "myString = myString.title()\n",
    "print(myString)"
   ],
   "metadata": {
    "collapsed": false
   }
  },
  {
   "cell_type": "markdown",
   "source": [
    "Take home.\n",
    "Because each type of data (string, float, Int) is defined by the program accessing it, in this case python, each data type can have its own operations.  For example the + operator for ints and floats does what we expect it to do 2 + 2 = 4. For strings the + operator performs a concatenation, such that bunny + kitten = bunnykitten."
   ],
   "metadata": {
    "collapsed": false
   }
  },
  {
   "cell_type": "markdown",
   "source": [
    "***\n",
    "##### Converting between different types of data"
   ],
   "metadata": {
    "collapsed": false
   }
  },
  {
   "cell_type": "code",
   "execution_count": 35,
   "outputs": [
    {
     "name": "stdout",
     "output_type": "stream",
     "text": [
      "1.0\n",
      "1\n"
     ]
    }
   ],
   "source": [
    "#Example code\n",
    "# to convert from a float to an int\n",
    "number = 1.0\n",
    "print(number)\n",
    "print(int(number))"
   ],
   "metadata": {
    "collapsed": false
   }
  },
  {
   "cell_type": "code",
   "execution_count": 36,
   "outputs": [
    {
     "name": "stdout",
     "output_type": "stream",
     "text": [
      "1.0\n",
      "1\n",
      ".\n",
      "0\n"
     ]
    }
   ],
   "source": [
    "#Example code\n",
    "# to convert from a number to string\n",
    "number = 1.0\n",
    "print(number)\n",
    "print(str(number)[0])\n",
    "print(str(number)[1])\n",
    "print(str(number)[2])# you can not do maths on this"
   ],
   "metadata": {
    "collapsed": false
   }
  },
  {
   "cell_type": "code",
   "execution_count": 37,
   "outputs": [
    {
     "name": "stdout",
     "output_type": "stream",
     "text": [
      "97\n",
      "a\n"
     ]
    }
   ],
   "source": [
    "#Example code\n",
    "# to convert from a number to an ascii character\n",
    "number = 97\n",
    "print(number)\n",
    "print(chr(number))"
   ],
   "metadata": {
    "collapsed": false
   }
  },
  {
   "cell_type": "code",
   "execution_count": 38,
   "outputs": [
    {
     "name": "stdout",
     "output_type": "stream",
     "text": [
      "s\n",
      "115\n"
     ]
    }
   ],
   "source": [
    "#Example code\n",
    "# to convert from an ascii character to a number\n",
    "character = 's'\n",
    "print(character)\n",
    "print(ord(character))"
   ],
   "metadata": {
    "collapsed": false
   }
  },
  {
   "cell_type": "code",
   "execution_count": 39,
   "outputs": [
    {
     "name": "stdout",
     "output_type": "stream",
     "text": [
      "1.0\n",
      "1.0\n"
     ]
    }
   ],
   "source": [
    "#Example code\n",
    "# to convert from a string to a number\n",
    "character = \"1.0\"\n",
    "print(character)\n",
    "print(float(character))"
   ],
   "metadata": {
    "collapsed": false
   }
  },
  {
   "cell_type": "code",
   "execution_count": 40,
   "outputs": [
    {
     "name": "stdout",
     "output_type": "stream",
     "text": [
      "ANIMAL\n",
      "Animal\n"
     ]
    }
   ],
   "source": [
    "#Finally converting character cases\n",
    "character = 'animal'\n",
    "print(character.upper())\n",
    "print(character.title())"
   ],
   "metadata": {
    "collapsed": false
   }
  },
  {
   "cell_type": "code",
   "execution_count": 40,
   "outputs": [],
   "source": [],
   "metadata": {
    "collapsed": false
   }
  }
 ],
 "metadata": {
  "kernelspec": {
   "display_name": "Python 3",
   "language": "python",
   "name": "python3"
  },
  "language_info": {
   "codemirror_mode": {
    "name": "ipython",
    "version": 2
   },
   "file_extension": ".py",
   "mimetype": "text/x-python",
   "name": "python",
   "nbconvert_exporter": "python",
   "pygments_lexer": "ipython2",
   "version": "2.7.6"
  }
 },
 "nbformat": 4,
 "nbformat_minor": 0
}
