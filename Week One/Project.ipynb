{
 "cells": [
  {
   "cell_type": "markdown",
   "source": [
    "\n",
    "Project 1\n",
    "---\n",
    "In this Project we will make a body mass index calculator.\n",
    "Part one define three variables, weight height and BMI, set them all to zero."
   ],
   "metadata": {
    "collapsed": false,
    "pycharm": {
     "name": "#%% md\n"
    }
   }
  },
  {
   "cell_type": "code",
   "execution_count": 12,
   "outputs": [],
   "source": [
    "#Put your code here"
   ],
   "metadata": {
    "collapsed": false,
    "pycharm": {
     "name": "#%%\n"
    }
   }
  },
  {
   "cell_type": "markdown",
   "source": [
    "We need to get information from the user.  We are going to use the built in input command in python. We will walk through its use, but have a quick look at these two websites first.\n",
    "The first is the python documentation, and to be honest its a little confusing but it is a good starting point.\n",
    "\n",
    "https://docs.python.org/3/library/functions.html\n",
    "\n",
    "I then typed in 'How to use the input function in python' in to a web search and found this page which is much better.\n",
    "\n",
    "https://www.w3schools.com/python/ref_func_input.asp\n",
    "\n",
    "It is perfctly correct to use Google to help you when coding.  Everyone does and in future weeks we will explain how to solve any problem in coding with a google search."
   ],
   "metadata": {
    "collapsed": false,
    "pycharm": {
     "name": "#%% md\n"
    }
   }
  },
  {
   "cell_type": "code",
   "execution_count": 13,
   "outputs": [],
   "source": [
    "# This code will ask the user for a weight and then a height the user\n",
    "# Will have to press return after each entry\n",
    "weight = input('What is the weight in kg')\n",
    "height = input('What is the height in m')"
   ],
   "metadata": {
    "collapsed": false,
    "pycharm": {
     "name": "#%%\n"
    }
   }
  },
  {
   "cell_type": "markdown",
   "source": [
    "As python assumes that the input is a string we are going to have to convert the returned variable from a string to a number (a non-integer)."
   ],
   "metadata": {
    "collapsed": false,
    "pycharm": {
     "name": "#%% md\n"
    }
   }
  },
  {
   "cell_type": "code",
   "execution_count": 14,
   "outputs": [],
   "source": [],
   "metadata": {
    "collapsed": false,
    "pycharm": {
     "name": "#%%\n"
    }
   }
  },
  {
   "cell_type": "markdown",
   "source": [
    "To calculate the BMI the formula is $weight(kg) / height(m)^2$. So now we need to set the variable BMI to the calculated value."
   ],
   "metadata": {
    "collapsed": false,
    "pycharm": {
     "name": "#%% md\n"
    }
   }
  },
  {
   "cell_type": "code",
   "execution_count": 15,
   "outputs": [],
   "source": [],
   "metadata": {
    "collapsed": false,
    "pycharm": {
     "name": "#%%\n"
    }
   }
  },
  {
   "cell_type": "markdown",
   "source": [
    "Finally, we want to return the information to the user.\n",
    "Create a print command which says.\n",
    "For a weight of (the input) kg and a height of (the input) m, the BMI is (the value).\n",
    "So that is looks something like this.\n",
    "\n",
    "For a weight of 78 kg and a height of 1.82 m, the BMI is 23.5."
   ],
   "metadata": {
    "collapsed": false,
    "pycharm": {
     "name": "#%% md\n"
    }
   }
  },
  {
   "cell_type": "code",
   "execution_count": 16,
   "outputs": [
    {
     "name": "stdout",
     "output_type": "stream",
     "text": [
      "For a weight of 78.0 kg and a height of 1.82 m the BMI is 23.54788069073783\n"
     ]
    }
   ],
   "source": [],
   "metadata": {
    "collapsed": false,
    "pycharm": {
     "name": "#%%\n"
    }
   }
  },
  {
   "cell_type": "markdown",
   "source": [
    "Well done you have completed your first python project."
   ],
   "metadata": {
    "collapsed": false,
    "pycharm": {
     "name": "#%% md\n"
    }
   }
  }
 ],
 "metadata": {
  "kernelspec": {
   "display_name": "Python 3",
   "language": "python",
   "name": "python3"
  },
  "language_info": {
   "codemirror_mode": {
    "name": "ipython",
    "version": 2
   },
   "file_extension": ".py",
   "mimetype": "text/x-python",
   "name": "python",
   "nbconvert_exporter": "python",
   "pygments_lexer": "ipython2",
   "version": "2.7.6"
  }
 },
 "nbformat": 4,
 "nbformat_minor": 0
}