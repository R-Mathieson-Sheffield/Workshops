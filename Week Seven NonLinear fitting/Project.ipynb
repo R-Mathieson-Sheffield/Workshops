{
 "cells": [
  {
   "cell_type": "markdown",
   "source": [
    "# Project\n",
    "Here is a walk through of building a notebook to build some noisy data and then fit it to a model."
   ],
   "metadata": {
    "collapsed": false
   }
  },
  {
   "cell_type": "markdown",
   "source": [
    "Build the model\n",
    "Build a function that defines a Gaussian distribution, the function should take 4 variables and return a numpy array containing the distribution. The input variables should be;\n",
    " 1.) the X values of the distribution\n",
    " 2.) The amplitude of the distribution\n",
    " 3.) The centre point of the distribution\n",
    " 4.) The width of the distribution\n",
    "$\n",
    "Ydata = A * \\exp^{\\frac{(x-x_0)^2}{\\sigma^2}}\n",
    "$"
   ],
   "metadata": {
    "collapsed": false
   }
  },
  {
   "cell_type": "code",
   "execution_count": 87,
   "outputs": [],
   "source": [
    "from scipy.optimize import curve_fit\n",
    "import numpy as np\n",
    "import matplotlib.pyplot as plt"
   ],
   "metadata": {
    "collapsed": false
   }
  },
  {
   "cell_type": "code",
   "execution_count": 88,
   "outputs": [],
   "source": [
    "#Function her"
   ],
   "metadata": {
    "collapsed": false
   }
  },
  {
   "cell_type": "markdown",
   "source": [
    "Once you have defined the function test it by calling it with x data ranging from 0 to 100. Set the amplitude to 1, the centre to 50 and the width to 10. Plot the data (x,y)."
   ],
   "metadata": {
    "collapsed": false
   }
  },
  {
   "cell_type": "code",
   "execution_count": 89,
   "outputs": [],
   "source": [
    "# Plot the output of the function here\n",
    "xdata = np.linspace(0,99,100)\n"
   ],
   "metadata": {
    "collapsed": false
   }
  },
  {
   "cell_type": "markdown",
   "source": [
    "# Make the data noisy\n",
    "to the ydata you produced previously add noise to it.  Generate gaussian noise using the numpy function random.normal.\n",
    "np.random.normal(0,noiseLevel,numberPoints)\n",
    "Here set the noise level to 0.1 and the number of points as the number of points you used to generate the Gaussian, i.e. the size of the xdata.\n",
    "Add this noise to the ydata."
   ],
   "metadata": {
    "collapsed": false
   }
  },
  {
   "cell_type": "code",
   "execution_count": 90,
   "outputs": [],
   "source": [
    "#Add noise here"
   ],
   "metadata": {
    "collapsed": false
   }
  },
  {
   "cell_type": "markdown",
   "source": [
    "Plot the new noisy data."
   ],
   "metadata": {
    "collapsed": false
   }
  },
  {
   "cell_type": "code",
   "execution_count": 90,
   "outputs": [],
   "source": [],
   "metadata": {
    "collapsed": false
   }
  },
  {
   "cell_type": "markdown",
   "source": [
    "# Fit the data\n",
    "Using the function you have just created fit the noisy data using the curve fit function in scipy.\n",
    "print the fitted parameters.\n"
   ],
   "metadata": {
    "collapsed": false
   }
  },
  {
   "cell_type": "code",
   "execution_count": 91,
   "outputs": [
    {
     "name": "stdout",
     "output_type": "stream",
     "text": [
      "[ 1.02651328 49.68789902 10.02925242]\n"
     ]
    }
   ],
   "source": [
    "# Fit the data\n",
    "\n",
    "print(popt)"
   ],
   "metadata": {
    "collapsed": false
   }
  },
  {
   "cell_type": "markdown",
   "source": [
    "It is likely that the fit did not work. If it did lets pretend that it did not.\n",
    "We need to pass the fitting function some guesses.\n"
   ],
   "metadata": {
    "collapsed": false
   }
  },
  {
   "cell_type": "code",
   "execution_count": 92,
   "outputs": [],
   "source": [
    "# Calculate the maximum value of the noisy Ydata and store it in a variable called maximum.\n"
   ],
   "metadata": {
    "collapsed": false
   }
  },
  {
   "cell_type": "code",
   "execution_count": 93,
   "outputs": [],
   "source": [
    "# Calculate the X position of the maximum value of the noisy Ydata and store it in a variable called maxpos.\n",
    "maxpos = (np.where(ydata == np.max(ydata)))\n",
    "maxpos = xdata[maxpos[0]]\n",
    "maxpos = maxpos[0]"
   ],
   "metadata": {
    "collapsed": false
   }
  },
  {
   "cell_type": "code",
   "execution_count": 94,
   "outputs": [],
   "source": [
    "# For the width guess we just need to guess, lets try one\n"
   ],
   "metadata": {
    "collapsed": false
   }
  },
  {
   "cell_type": "code",
   "execution_count": 95,
   "outputs": [],
   "source": [
    "# Lets build our guesses\n"
   ],
   "metadata": {
    "collapsed": false
   }
  },
  {
   "cell_type": "code",
   "execution_count": 96,
   "outputs": [
    {
     "name": "stdout",
     "output_type": "stream",
     "text": [
      "[ 1.02651328 49.68789902 10.02925242]\n"
     ]
    }
   ],
   "source": [
    "# Try using the guesses to fit the data\n",
    "\n",
    "print(popt)"
   ],
   "metadata": {
    "collapsed": false
   }
  },
  {
   "cell_type": "markdown",
   "source": [
    "# Use the newly calculated parameters to display the fit curve and the noisy data points on the same plot."
   ],
   "metadata": {
    "collapsed": false
   }
  },
  {
   "cell_type": "code",
   "execution_count": 96,
   "outputs": [],
   "source": [],
   "metadata": {
    "collapsed": false
   }
  },
  {
   "cell_type": "code",
   "execution_count": 96,
   "outputs": [],
   "source": [],
   "metadata": {
    "collapsed": false
   }
  }
 ],
 "metadata": {
  "kernelspec": {
   "display_name": "Python 3",
   "language": "python",
   "name": "python3"
  },
  "language_info": {
   "codemirror_mode": {
    "name": "ipython",
    "version": 2
   },
   "file_extension": ".py",
   "mimetype": "text/x-python",
   "name": "python",
   "nbconvert_exporter": "python",
   "pygments_lexer": "ipython2",
   "version": "2.7.6"
  }
 },
 "nbformat": 4,
 "nbformat_minor": 0
}
