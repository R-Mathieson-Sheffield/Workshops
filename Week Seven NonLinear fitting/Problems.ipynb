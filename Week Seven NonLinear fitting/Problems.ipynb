{
 "cells": [
  {
   "cell_type": "markdown",
   "source": [
    "# Problems\n",
    "For each of the following data sets load the data, plot the data, fit the data to the given model and plot the model over the original data set.\n"
   ],
   "metadata": {
    "collapsed": false
   }
  },
  {
   "cell_type": "code",
   "execution_count": 17,
   "outputs": [],
   "source": [
    "from scipy.optimize import curve_fit\n",
    "import numpy as np\n",
    "import matplotlib.pyplot as plt"
   ],
   "metadata": {
    "collapsed": false
   }
  },
  {
   "cell_type": "markdown",
   "source": [
    "# The exponential decay\n",
    "$Y_i = Y_0 exp^{-(\\frac{t}{\\tau})}$\n",
    "<br>\n",
    "$Y_0 = 100$\n",
    "<br>\n",
    "$\\tau = 2$"
   ],
   "metadata": {
    "collapsed": false
   }
  },
  {
   "cell_type": "code",
   "execution_count": 18,
   "outputs": [],
   "source": [
    "Data = np.genfromtxt('Data/exp.csv', delimiter=\",\")"
   ],
   "metadata": {
    "collapsed": false
   }
  },
  {
   "cell_type": "markdown",
   "source": [
    "# The power law\n",
    "$Y = offset +  x^{power} $\n",
    "<br>\n",
    "$offset = 100$\n",
    "<br>\n",
    "$power = 2.5$"
   ],
   "metadata": {
    "collapsed": false
   }
  },
  {
   "cell_type": "code",
   "execution_count": 19,
   "outputs": [],
   "source": [
    "Data = np.genfromtxt('Data/power.csv', delimiter=\",\")"
   ],
   "metadata": {
    "collapsed": false
   }
  },
  {
   "cell_type": "markdown",
   "source": [
    "# The Gaussian distribution\n",
    "$\n",
    "Ydata = A * \\exp^{\\frac{(x-x_0)^2}{\\sigma^2}}$\n",
    "<br>\n",
    "$A = 100$\n",
    "<br>\n",
    "$x_0 = 30$\n",
    "<br>\n",
    "$sigma = 10$\n",
    "$"
   ],
   "metadata": {
    "collapsed": false
   }
  },
  {
   "cell_type": "code",
   "execution_count": 20,
   "outputs": [],
   "source": [
    "Data = np.genfromtxt('Data/Gaussian.csv', delimiter=\",\")"
   ],
   "metadata": {
    "collapsed": false
   }
  },
  {
   "cell_type": "markdown",
   "source": [
    "# The Sine wave\n",
    "$\n",
    "offset + sin(\\frac{x}{freq} + phaseOffest)\n",
    "$\n",
    "<br>\n",
    "$offset = 1$\n",
    "<br>\n",
    "$freq = 0.25$\n",
    "<br>\n",
    "$phaseOffest = 0.4$\n",
    "<br>"
   ],
   "metadata": {
    "collapsed": false
   }
  },
  {
   "cell_type": "code",
   "execution_count": 21,
   "outputs": [],
   "source": [
    "Data = np.genfromtxt('Data/Sine.csv', delimiter=\",\")"
   ],
   "metadata": {
    "collapsed": false
   }
  }
 ],
 "metadata": {
  "kernelspec": {
   "display_name": "Python 3",
   "language": "python",
   "name": "python3"
  },
  "language_info": {
   "codemirror_mode": {
    "name": "ipython",
    "version": 2
   },
   "file_extension": ".py",
   "mimetype": "text/x-python",
   "name": "python",
   "nbconvert_exporter": "python",
   "pygments_lexer": "ipython2",
   "version": "2.7.6"
  }
 },
 "nbformat": 4,
 "nbformat_minor": 0
}
