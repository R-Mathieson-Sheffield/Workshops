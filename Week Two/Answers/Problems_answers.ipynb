{
 "cells": [
  {
   "cell_type": "markdown",
   "source": [
    "***\n",
    "# Problems for week 2\n",
    "In this workshop you will be presented with a number of challenges to help you practice data structures in python. If you have any problems raise your hand."
   ],
   "metadata": {
    "collapsed": false,
    "pycharm": {
     "name": "#%% md\n"
    }
   }
  },
  {
   "cell_type": "markdown",
   "source": [
    "***\n",
    "### Slicing: Problem 1\n",
    "We will use a predefined list in the fisrt part to explore using the slicing commands."
   ],
   "metadata": {
    "collapsed": false,
    "pycharm": {
     "name": "#%% md\n"
    }
   }
  },
  {
   "cell_type": "code",
   "execution_count": 1,
   "outputs": [],
   "source": [
    "myData = ['Algiers', 'Bridgetown', 'Copenhagen', 'Dakar', 'Funafuti', 'Georgetown', 'Helsinki', 'Jakarta', 'Kinshasa', 'Lisbon', 'Monrovia']"
   ],
   "metadata": {
    "collapsed": false,
    "pycharm": {
     "name": "#%%\n"
    }
   }
  },
  {
   "cell_type": "markdown",
   "source": [
    "Using the cell below print the 5th entry in the list called myData"
   ],
   "metadata": {
    "collapsed": false,
    "pycharm": {
     "name": "#%% md\n"
    }
   }
  },
  {
   "cell_type": "code",
   "execution_count": 3,
   "outputs": [
    {
     "name": "stdout",
     "output_type": "stream",
     "text": [
      "Funafuti\n"
     ]
    }
   ],
   "source": [
    "print(myData[4])"
   ],
   "metadata": {
    "collapsed": false,
    "pycharm": {
     "name": "#%%\n"
    }
   }
  },
  {
   "cell_type": "markdown",
   "source": [
    "Print the 3rd to the 7th (inclusive) items"
   ],
   "metadata": {
    "collapsed": false,
    "pycharm": {
     "name": "#%% md\n"
    }
   }
  },
  {
   "cell_type": "code",
   "execution_count": 4,
   "outputs": [
    {
     "name": "stdout",
     "output_type": "stream",
     "text": [
      "['Dakar', 'Funafuti', 'Georgetown', 'Helsinki', 'Jakarta']\n"
     ]
    }
   ],
   "source": [
    "print(myData[3:8])"
   ],
   "metadata": {
    "collapsed": false,
    "pycharm": {
     "name": "#%%\n"
    }
   }
  },
  {
   "cell_type": "markdown",
   "source": [
    "Print the last 3 items"
   ],
   "metadata": {
    "collapsed": false,
    "pycharm": {
     "name": "#%% md\n"
    }
   }
  },
  {
   "cell_type": "code",
   "execution_count": 2,
   "outputs": [
    {
     "name": "stdout",
     "output_type": "stream",
     "text": [
      "['Kinshasa', 'Lisbon', 'Monrovia']\n"
     ]
    }
   ],
   "source": [
    "print(myData[-3:])"
   ],
   "metadata": {
    "collapsed": false,
    "pycharm": {
     "name": "#%%\n"
    }
   }
  },
  {
   "cell_type": "markdown",
   "source": [
    "***\n",
    "### Tuple methods: Problem 2\n",
    "Now we will get some practice at using methods.\n",
    "Copy the data and using methods reverse the list, then print it."
   ],
   "metadata": {
    "collapsed": false,
    "pycharm": {
     "name": "#%% md\n"
    }
   }
  },
  {
   "cell_type": "code",
   "execution_count": 3,
   "outputs": [
    {
     "name": "stdout",
     "output_type": "stream",
     "text": [
      "['Monrovia', 'Lisbon', 'Kinshasa', 'Jakarta', 'Helsinki', 'Georgetown', 'Funafuti', 'Dakar', 'Copenhagen', 'Bridgetown', 'Algiers']\n"
     ]
    }
   ],
   "source": [
    "newList = myData\n",
    "newList.reverse()\n",
    "print(newList)\n"
   ],
   "metadata": {
    "collapsed": false,
    "pycharm": {
     "name": "#%%\n"
    }
   }
  },
  {
   "cell_type": "markdown",
   "source": [],
   "metadata": {
    "collapsed": false,
    "pycharm": {
     "name": "#%% md\n"
    }
   }
  },
  {
   "cell_type": "markdown",
   "source": [
    "use the pop() method and len() function to remove the last item from the original data"
   ],
   "metadata": {
    "collapsed": false,
    "pycharm": {
     "name": "#%% md\n"
    }
   }
  },
  {
   "cell_type": "code",
   "execution_count": 8,
   "outputs": [
    {
     "name": "stdout",
     "output_type": "stream",
     "text": [
      "['Algiers', 'Bridgetown', 'Copenhagen', 'Dakar', 'Funafuti', 'Georgetown', 'Helsinki', 'Jakarta', 'Kinshasa', 'Lisbon', 'Monrovia']\n",
      "['Algiers', 'Bridgetown', 'Copenhagen', 'Dakar', 'Funafuti', 'Georgetown', 'Helsinki', 'Jakarta', 'Kinshasa', 'Lisbon']\n"
     ]
    }
   ],
   "source": [
    "print(myData)\n",
    "myData.pop(len(myData)-1)\n",
    "print(myData)"
   ],
   "metadata": {
    "collapsed": false,
    "pycharm": {
     "name": "#%%\n"
    }
   }
  },
  {
   "cell_type": "markdown",
   "source": [
    "***\n",
    "### Dictionaries: Problem 3\n",
    "Create a dictionary to store details about a person, such as age, height, course title, grade... It is up to you what to put in."
   ],
   "metadata": {
    "collapsed": false,
    "pycharm": {
     "name": "#%% md\n"
    }
   }
  },
  {
   "cell_type": "code",
   "execution_count": 10,
   "outputs": [],
   "source": [
    "personOne = {\"name\": \"Buzz\", \"LastName\": \"Lightyear\", \"Grade\": 100}"
   ],
   "metadata": {
    "collapsed": false,
    "pycharm": {
     "name": "#%%\n"
    }
   }
  },
  {
   "cell_type": "markdown",
   "source": [
    "Make a second dictionary for a second individual.\n",
    "Now make a list with the first item the first dictionary and the second the second dictionary.\n",
    "Print out one item from the list."
   ],
   "metadata": {
    "collapsed": false,
    "pycharm": {
     "name": "#%% md\n"
    }
   }
  },
  {
   "cell_type": "code",
   "execution_count": 12,
   "outputs": [
    {
     "name": "stdout",
     "output_type": "stream",
     "text": [
      "Buzz\n"
     ]
    }
   ],
   "source": [
    "personTwo = {\"name\": \"Woody\", \"LastName\": \"Pride\", \"Grade\": 90}\n",
    "\n",
    "people =[personOne, personTwo]\n",
    "\n",
    "print(people[1][\"name\"])"
   ],
   "metadata": {
    "collapsed": false,
    "pycharm": {
     "name": "#%%\n"
    }
   }
  },
  {
   "cell_type": "markdown",
   "source": [
    "***\n",
    "## Numpy\n",
    "The remaining problems concern using numpy"
   ],
   "metadata": {
    "collapsed": false,
    "pycharm": {
     "name": "#%% md\n"
    }
   }
  },
  {
   "cell_type": "markdown",
   "source": [
    "##### Reshaping\n",
    "Make a 1D array 25 items in length with each item being the value 1.\n",
    "Then reshape the array in to a 5 by 5 array and print the array."
   ],
   "metadata": {
    "collapsed": false,
    "pycharm": {
     "name": "#%% md\n"
    }
   }
  },
  {
   "cell_type": "code",
   "execution_count": 13,
   "outputs": [
    {
     "name": "stdout",
     "output_type": "stream",
     "text": [
      "[[1. 1. 1. 1. 1.]\n",
      " [1. 1. 1. 1. 1.]\n",
      " [1. 1. 1. 1. 1.]\n",
      " [1. 1. 1. 1. 1.]\n",
      " [1. 1. 1. 1. 1.]]\n"
     ]
    }
   ],
   "source": [
    "# Put your code here\n",
    "import numpy as np\n",
    "myArray = np.ones(25)\n",
    "myArray = np.reshape(myArray,[5,5])\n",
    "print(myArray)"
   ],
   "metadata": {
    "collapsed": false,
    "pycharm": {
     "name": "#%%\n"
    }
   }
  },
  {
   "cell_type": "markdown",
   "source": [
    "##### Some maths\n",
    "Generate a 1D array 10 numbers in length filled with values between 0 and 6.28\n",
    "Use this array to generate the corresponding sin values."
   ],
   "metadata": {
    "collapsed": false,
    "pycharm": {
     "name": "#%% md\n"
    }
   }
  },
  {
   "cell_type": "code",
   "execution_count": null,
   "outputs": [],
   "source": [
    "# Put your code here\n",
    "x = np.linspace(0, 6.28, 10)\n",
    "y = np.sin(x)"
   ],
   "metadata": {
    "collapsed": false,
    "pycharm": {
     "name": "#%%\n"
    }
   }
  },
  {
   "cell_type": "markdown",
   "source": [
    "***\n",
    "### Problem\n",
    "Work through the code below and see if you can work out what it is doing.  This is quite a powerful use of numpy, talk it over with your classmates. Note the % operators returns the remainder of division."
   ],
   "metadata": {
    "collapsed": false,
    "pycharm": {
     "name": "#%% md\n"
    }
   }
  },
  {
   "cell_type": "code",
   "execution_count": 21,
   "outputs": [
    {
     "name": "stdout",
     "output_type": "stream",
     "text": [
      "23 is a prime = True\n"
     ]
    }
   ],
   "source": [
    "import numpy as np\n",
    "# This defines oue test number, what are we testing for?\n",
    "testnumber = 23\n",
    "\n",
    "testnumbers = np.ones(testnumber-3) * testnumber\n",
    "# What is testnumbers? This is a 1D array filled with the test number, it has a size equal to test number -3\n",
    "# print(testnumbers)\n",
    "\n",
    "numbers = np.linspace(2, testnumber-1, testnumber-3)\n",
    "#what are these numbers? This is an array of numbers from 3 up to 1 below the test number\n",
    "#print(numbers)\n",
    "\n",
    "#Why does numbers start at 2? We are not interested in 1( all numbers are divisible by 1).\n",
    "\n",
    "outcomes = testnumbers % numbers\n",
    "# What is this line doing? This produces an array filled with the reminder after division for every number in the two arrays\n",
    "#print(outcomes) # what does outcomes look like\n",
    "\n",
    "print(testnumber, 'is a prime =', not(0 in outcomes))\n",
    "# Why would a 0 indicate a prime?\n",
    "# Does 0 exist in the data, if it does then the reminder after division returned a 0 which means it found an exact divider (ie. not a prime), in returns a true or false\n",
    "# I use the not command to turn a true in to a false and a false in to a true."
   ],
   "metadata": {
    "collapsed": false,
    "pycharm": {
     "name": "#%%\n"
    }
   }
  }
 ],
 "metadata": {
  "kernelspec": {
   "display_name": "Python 3",
   "language": "python",
   "name": "python3"
  },
  "language_info": {
   "codemirror_mode": {
    "name": "ipython",
    "version": 2
   },
   "file_extension": ".py",
   "mimetype": "text/x-python",
   "name": "python",
   "nbconvert_exporter": "python",
   "pygments_lexer": "ipython2",
   "version": "2.7.6"
  }
 },
 "nbformat": 4,
 "nbformat_minor": 0
}