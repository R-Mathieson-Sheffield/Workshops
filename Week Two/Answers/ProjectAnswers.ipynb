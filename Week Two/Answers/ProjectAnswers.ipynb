{
 "cells": [
  {
   "cell_type": "markdown",
   "source": [
    "***\n",
    "### Project 2\n",
    "In this project we are going to build up a dictionary of capital cities. Below are a list of countries and the capital cities, use this (or your own if you prefer) but the dictionary should contain at least 10 counties."
   ],
   "metadata": {
    "collapsed": false
   }
  },
  {
   "cell_type": "markdown",
   "source": [
    "***\n",
    "|  Country  | Capital City  |\n",
    "|:-:|:-:|:-:|\n",
    "|Argentina|\tBuenos Aires|\n",
    "|Bahamas|\t    Nassau|\n",
    "|Costa Rica|\tSan Jose|\n",
    "|Denmark|\t Copenhagen|\n",
    "|Egypt|\t    Cairo|\n",
    "|Finland|\t    Helsinki|\n",
    "|Grenada|\t    Saint George's|\n",
    "|Hungary|\t    Budapest|\n",
    "|Ireland|\t    Dublin|\n",
    "|Japan|\t   Tokyo|\n",
    "***\n",
    "Build a dictionary of Countries and their capital cities"
   ],
   "metadata": {
    "collapsed": false
   }
  },
  {
   "cell_type": "code",
   "execution_count": 1,
   "outputs": [],
   "source": [
    "#Write you code here\n",
    "#capitalCites ={}\n",
    "capitalCites = {'Argentina': 'Buenos Aires',\n",
    "'Bahamas': 'Nassau',\n",
    "'Costa Rica': 'San Jose',\n",
    "'Denmark': 'Copenhagen',\n",
    "'Egypt' :'Cairo',\n",
    "'Finland':'Helsinki',\n",
    "'Grenada':'Saint George’s',\n",
    "'Hungary':'Budapest',\n",
    "'Ireland':'Dublin',\n",
    "'Japan':'Tokyo'}"
   ],
   "metadata": {
    "collapsed": false
   }
  },
  {
   "cell_type": "code",
   "execution_count": null,
   "outputs": [],
   "source": [
    "capitalCites['Kenya'] = 'Nairobi'"
   ],
   "metadata": {
    "collapsed": false
   }
  },
  {
   "cell_type": "markdown",
   "source": [
    "Once you have build your dictionary add Kenya to the list its capital is Nairobi."
   ],
   "metadata": {
    "collapsed": false
   }
  },
  {
   "cell_type": "code",
   "execution_count": 11,
   "outputs": [],
   "source": [
    "capitalCites['Kansas City'] = 'Royals'"
   ],
   "metadata": {
    "collapsed": false
   }
  },
  {
   "cell_type": "markdown",
   "source": [
    "Below write code to ask the user to choose a country from the list of countries.\n",
    "such as; Please select the country from the list below.\n",
    "The user should type in the position of the country, i.e. 1 ..-> 10\n",
    "For now leave this numerical input as a string"
   ],
   "metadata": {
    "collapsed": false
   }
  },
  {
   "cell_type": "code",
   "execution_count": 12,
   "outputs": [
    {
     "name": "stdout",
     "output_type": "stream",
     "text": [
      "Please select the position of the country from the list below\n",
      "dict_keys(['Argentina', 'Bahamas', 'Costa Rica', 'Denmark', 'Egypt', 'Finland', 'Grenada', 'Hungary', 'Ireland', 'Japan', 'Kansas City'])\n"
     ]
    }
   ],
   "source": [
    "print('Please select the position of the country from the list below')\n",
    "print(capitalCites.keys())\n",
    "position = input('Which country do you want')"
   ],
   "metadata": {
    "collapsed": false
   }
  },
  {
   "cell_type": "markdown",
   "source": [
    "Convert the numerical input to an integer and print the country and the city in the following format.\n",
    "The capital of XXXX is YYY.\n",
    "Remember the user will start counting at 1 and python starts counting at 0, so you will need to subtract one from the users input."
   ],
   "metadata": {
    "collapsed": false
   }
  },
  {
   "cell_type": "code",
   "execution_count": 14,
   "outputs": [
    {
     "name": "stdout",
     "output_type": "stream",
     "text": [
      "The capital of Costa Rica is San Jose\n"
     ]
    }
   ],
   "source": [
    "position = int(position)\n",
    "first_key = list(capitalCites)[position-1]\n",
    "print('The capital of', first_key, 'is', capitalCites[first_key])"
   ],
   "metadata": {
    "collapsed": false
   }
  },
  {
   "cell_type": "markdown",
   "source": [
    "---\n",
    "Well done on completing your second project.\n",
    "---\n"
   ],
   "metadata": {
    "collapsed": false
   }
  },
  {
   "cell_type": "code",
   "execution_count": null,
   "outputs": [],
   "source": [],
   "metadata": {
    "collapsed": false
   }
  }
 ],
 "metadata": {
  "kernelspec": {
   "display_name": "Python 3",
   "language": "python",
   "name": "python3"
  },
  "language_info": {
   "codemirror_mode": {
    "name": "ipython",
    "version": 2
   },
   "file_extension": ".py",
   "mimetype": "text/x-python",
   "name": "python",
   "nbconvert_exporter": "python",
   "pygments_lexer": "ipython2",
   "version": "2.7.6"
  }
 },
 "nbformat": 4,
 "nbformat_minor": 0
}
