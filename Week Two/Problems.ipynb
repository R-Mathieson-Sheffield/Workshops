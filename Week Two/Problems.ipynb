{
 "cells": [
  {
   "cell_type": "markdown",
   "source": [
    "***\n",
    "# Problems for week 2\n",
    "In this workshop you will be presented with a number of challenges to help you practice data structures in python. If you have any problems raise your hand."
   ],
   "metadata": {
    "collapsed": false
   }
  },
  {
   "cell_type": "markdown",
   "source": [
    "***\n",
    "### Slicing: Problem 1\n",
    "We will use a predefined list in the fisrt part to explore using the slicing commands."
   ],
   "metadata": {
    "collapsed": false
   }
  },
  {
   "cell_type": "code",
   "execution_count": 1,
   "outputs": [],
   "source": [
    "myData = ['Algiers', 'Bridgetown', 'Copenhagen', 'Dakar', 'Funafuti', 'Georgetown', 'Helsinki', 'Jakarta', 'Kinshasa', 'Lisbon', 'Monrovia']"
   ],
   "metadata": {
    "collapsed": false
   }
  },
  {
   "cell_type": "markdown",
   "source": [
    "Using the cell below print the 5th entry in the list called myData"
   ],
   "metadata": {
    "collapsed": false
   }
  },
  {
   "cell_type": "code",
   "execution_count": 1,
   "outputs": [],
   "source": [],
   "metadata": {
    "collapsed": false
   }
  },
  {
   "cell_type": "markdown",
   "source": [
    "Print the 3rd to the 7th (inclusive) items"
   ],
   "metadata": {
    "collapsed": false
   }
  },
  {
   "cell_type": "code",
   "execution_count": 1,
   "outputs": [],
   "source": [],
   "metadata": {
    "collapsed": false
   }
  },
  {
   "cell_type": "markdown",
   "source": [
    "Print the last 3 items"
   ],
   "metadata": {
    "collapsed": false
   }
  },
  {
   "cell_type": "code",
   "execution_count": 2,
   "outputs": [
    {
     "name": "stdout",
     "output_type": "stream",
     "text": [
      "['Kinshasa', 'Lisbon', 'Monrovia']\n"
     ]
    }
   ],
   "source": [
    "print(myData[-3:])"
   ],
   "metadata": {
    "collapsed": false
   }
  },
  {
   "cell_type": "code",
   "execution_count": 2,
   "outputs": [],
   "source": [],
   "metadata": {
    "collapsed": false
   }
  },
  {
   "cell_type": "markdown",
   "source": [
    "***\n",
    "### Problem 2\n",
    "Now we will get some practice at using methods.\n",
    "Copy the data and using methods reverse the list, then print it."
   ],
   "metadata": {
    "collapsed": false
   }
  },
  {
   "cell_type": "code",
   "execution_count": 2,
   "outputs": [],
   "source": [
    "\n"
   ],
   "metadata": {
    "collapsed": false
   }
  },
  {
   "cell_type": "markdown",
   "source": [],
   "metadata": {
    "collapsed": false
   }
  },
  {
   "cell_type": "markdown",
   "source": [
    "use the pop() and count() method to remove the last item from the newlist"
   ],
   "metadata": {
    "collapsed": false
   }
  },
  {
   "cell_type": "markdown",
   "source": [
    "***\n",
    "### Dictionaries: Problem 3\n",
    "Create a dictionary to store details about a person, such as age, height, course title, grade... It is up to you what to put in."
   ],
   "metadata": {
    "collapsed": false
   }
  },
  {
   "cell_type": "markdown",
   "source": [
    "Make a second dictionary for a second individual.\n",
    "Now make a list with the first item the first dictionary and the second the second dictionary.\n",
    "Print out one item from the list."
   ],
   "metadata": {
    "collapsed": false
   }
  },
  {
   "cell_type": "markdown",
   "source": [
    "***\n",
    "## Numpy\n",
    "The remaining problems concern using numpy"
   ],
   "metadata": {
    "collapsed": false
   }
  },
  {
   "cell_type": "markdown",
   "source": [
    "##### Reshaping Problem 4\n",
    "Make a 1D array 25 items in length with each item being the value 1.\n",
    "Then reshape the array in to a 5 by 5 array and print the array."
   ],
   "metadata": {
    "collapsed": false
   }
  },
  {
   "cell_type": "code",
   "execution_count": 3,
   "outputs": [],
   "source": [
    "# Put your code here"
   ],
   "metadata": {
    "collapsed": false
   }
  },
  {
   "cell_type": "markdown",
   "source": [
    "##### Some maths Problem 5\n",
    "Generate a 1D array 10 numbers in length filled with values between 0 and 6.28\n",
    "Use this array to generate the corresponding sin values."
   ],
   "metadata": {
    "collapsed": false
   }
  },
  {
   "cell_type": "code",
   "execution_count": null,
   "outputs": [],
   "source": [
    "# Put your code here"
   ],
   "metadata": {
    "collapsed": false
   }
  },
  {
   "cell_type": "markdown",
   "source": [
    "***\n",
    "### Problem 6\n",
    "Work through the code below and see if you can work out what it is doing.  This is quite a powerful use of numpy, talk it over with your classmates. Note the % operators returns the remainder of division."
   ],
   "metadata": {
    "collapsed": false
   }
  },
  {
   "cell_type": "code",
   "execution_count": 4,
   "outputs": [
    {
     "name": "stdout",
     "output_type": "stream",
     "text": [
      "73 is not a prime = False\n"
     ]
    }
   ],
   "source": [
    "import numpy as np\n",
    "# This defines oue test number, what are we testing for?\n",
    "testnumber = 23\n",
    "\n",
    "testnumbers = np.ones(testnumber-3) * testnumber\n",
    "# What is testnumbers?\n",
    "# print(testnumbers)\n",
    "\n",
    "numbers = np.linspace(3, testnumber-1, testnumber-3)\n",
    "#what are these numbers?\n",
    "#print(numbers)\n",
    "\n",
    "#Why does numbers start at 3?\n",
    "\n",
    "outcomes = testnumbers % numbers\n",
    "# What is this line doing?\n",
    "#print(outcomes) # what does outcomes look like\n",
    "\n",
    "print(testnumber, 'is not a prime =', 0 in outcomes)\n",
    "# Why would a 0 indicate a prime?"
   ],
   "metadata": {
    "collapsed": false
   }
  },
  {
   "cell_type": "code",
   "execution_count": null,
   "outputs": [],
   "source": [],
   "metadata": {
    "collapsed": false
   }
  }
 ],
 "metadata": {
  "kernelspec": {
   "display_name": "Python 3",
   "language": "python",
   "name": "python3"
  },
  "language_info": {
   "codemirror_mode": {
    "name": "ipython",
    "version": 2
   },
   "file_extension": ".py",
   "mimetype": "text/x-python",
   "name": "python",
   "nbconvert_exporter": "python",
   "pygments_lexer": "ipython2",
   "version": "2.7.6"
  }
 },
 "nbformat": 4,
 "nbformat_minor": 0
}
