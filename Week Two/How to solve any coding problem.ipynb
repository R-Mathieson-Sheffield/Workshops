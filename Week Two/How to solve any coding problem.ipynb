{
 "cells": [
  {
   "cell_type": "markdown",
   "source": [
    "## How to solve any coding problem in 5 steps"
   ],
   "metadata": {
    "collapsed": false,
    "pycharm": {
     "name": "#%% md\n"
    }
   }
  },
  {
   "cell_type": "markdown",
   "source": [
    "In this notebook we will look at the easiest way to solve any problem.\n",
    "* 1 Google\n",
    "* 2 Stack Overflow\n",
    "* 3 Implementation\n",
    "* 4 Documentation\n",
    "* 5 Customise"
   ],
   "metadata": {
    "collapsed": false,
    "pycharm": {
     "name": "#%% md\n"
    }
   }
  },
  {
   "cell_type": "markdown",
   "source": [
    "***\n",
    "### Our problem\n",
    "I want to replace all the zeros in a numpy array with 1s\n",
    "***"
   ],
   "metadata": {
    "collapsed": false,
    "pycharm": {
     "name": "#%% md\n"
    }
   }
  },
  {
   "cell_type": "markdown",
   "source": [
    "# 1 Google\n",
    "Type your problem in to google, I want to replace all the zeros in a numpy array with ones."
   ],
   "metadata": {
    "collapsed": false,
    "pycharm": {
     "name": "#%% md\n"
    }
   }
  },
  {
   "cell_type": "markdown",
   "source": [
    "<p align=\"left\">\n",
    "<img src=\"Images/One.png\" alt=\"drawing\" width=\"1200\"/>\n",
    "</p>"
   ],
   "metadata": {
    "collapsed": false,
    "pycharm": {
     "name": "#%% md\n"
    }
   }
  },
  {
   "cell_type": "markdown",
   "source": [
    "## Stack overflow\n",
    "Stack overflow is an online community of coders of all capabilities who give each other advice.  It is how most people code now days.\n",
    "This is the answer I got\n",
    "\n",
    "<p align=\"left\">\n",
    "<img src=\"Images/2.png\" alt=\"drawing\" width=\"1200\"/>\n",
    "</p>"
   ],
   "metadata": {
    "collapsed": false,
    "pycharm": {
     "name": "#%% md\n"
    }
   }
  },
  {
   "cell_type": "markdown",
   "source": [
    "The code I am given as an example is arr[arr > 255] = x\n",
    "The explanation tells me that this will take and array called arr and return the same array but anything with a value over 255 will be replaced by the value x.  Let's try it."
   ],
   "metadata": {
    "collapsed": false,
    "pycharm": {
     "name": "#%% md\n"
    }
   }
  },
  {
   "cell_type": "markdown",
   "source": [
    "### Implementation"
   ],
   "metadata": {
    "collapsed": false,
    "pycharm": {
     "name": "#%% md\n"
    }
   }
  },
  {
   "cell_type": "code",
   "execution_count": 7,
   "outputs": [
    {
     "name": "stdout",
     "output_type": "stream",
     "text": [
      "[[  1   2   3 256]\n",
      " [  1   2 256   4]\n",
      " [  1 256   3   4]\n",
      " [256   2   3   4]]\n",
      "\n",
      "[[1 2 3 1]\n",
      " [1 2 1 4]\n",
      " [1 1 3 4]\n",
      " [1 2 3 4]]\n"
     ]
    }
   ],
   "source": [
    "import numpy as np\n",
    "# Here I generate a text array\n",
    "myArray = np.asarray([[1,2,3,256],\n",
    "                     [1,2,256,4],\n",
    "                     [1,256,3,4],\n",
    "                     [256,2,3,4]])\n",
    "\n",
    "print(myArray)\n",
    "\n",
    "# Then I use the code above\n",
    "myArray[myArray > 255] = 1\n",
    "print()\n",
    "print(myArray)\n",
    "\n",
    "# it seems to work"
   ],
   "metadata": {
    "collapsed": false,
    "pycharm": {
     "name": "#%%\n"
    }
   }
  },
  {
   "cell_type": "markdown",
   "source": [
    "## Documentations\n",
    "The example mentions indexing numpy arrays\n",
    "from numpy.org\n",
    "\n",
    "https://numpy.org/doc/stable/user/how-to-index.html?highlight=index\n"
   ],
   "metadata": {
    "collapsed": false,
    "pycharm": {
     "name": "#%% md\n"
    }
   }
  },
  {
   "cell_type": "markdown",
   "source": [
    "## Adapting / customise\n",
    "We don't want to change items with values over 255 we want items with values equal to 0.\n",
    "So we can change the conditional statement form > (greater than) to == (equals)\n",
    "\n"
   ],
   "metadata": {
    "collapsed": false,
    "pycharm": {
     "name": "#%% md\n"
    }
   }
  },
  {
   "cell_type": "code",
   "execution_count": 9,
   "outputs": [
    {
     "name": "stdout",
     "output_type": "stream",
     "text": [
      "[[1 2 3 1]\n",
      " [1 2 1 4]\n",
      " [1 1 3 4]\n",
      " [1 2 3 4]]\n"
     ]
    }
   ],
   "source": [
    "myArray = np.asarray([[1,2,3,0],\n",
    "                      [1,2,0,4],\n",
    "                      [1,0,3,4],\n",
    "                      [0,2,3,4]])\n",
    "myArray[myArray ==0 ] = 1\n",
    "\n",
    "print(myArray)"
   ],
   "metadata": {
    "collapsed": false,
    "pycharm": {
     "name": "#%%\n"
    }
   }
  }
 ],
 "metadata": {
  "kernelspec": {
   "display_name": "Python 3",
   "language": "python",
   "name": "python3"
  },
  "language_info": {
   "codemirror_mode": {
    "name": "ipython",
    "version": 2
   },
   "file_extension": ".py",
   "mimetype": "text/x-python",
   "name": "python",
   "nbconvert_exporter": "python",
   "pygments_lexer": "ipython2",
   "version": "2.7.6"
  }
 },
 "nbformat": 4,
 "nbformat_minor": 0
}