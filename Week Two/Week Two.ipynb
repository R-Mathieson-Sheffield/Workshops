{
 "cells": [
  {
   "cell_type": "markdown",
   "source": [
    "## Data Structures\n",
    "Last week we looked at storing single pieces of data, such as an age or length measurement.\n",
    "This week we are going to look at the data structures python uses to organise large amounts of data."
   ],
   "metadata": {
    "collapsed": false,
    "pycharm": {
     "name": "#%% md\n"
    }
   }
  },
  {
   "cell_type": "markdown",
   "source": [
    "***\n",
    "### Lists\n",
    "a list is a collection of arbitrary objects, somewhat akin to an array in many other programming languages but more flexible. Lists are defined in Python by enclosing a comma-separated sequence of objects in square brackets ([]), as shown below:"
   ],
   "metadata": {
    "collapsed": false,
    "pycharm": {
     "name": "#%% md\n"
    }
   }
  },
  {
   "cell_type": "code",
   "execution_count": 48,
   "outputs": [],
   "source": [
    "myFruits = ['Fig', 'Banana', 'Pear', 'Apple']"
   ],
   "metadata": {
    "collapsed": false,
    "pycharm": {
     "name": "#%%\n"
    }
   }
  },
  {
   "cell_type": "markdown",
   "source": [
    "You can think of a collection of shoe boxes stacked on top of each other, you can store anything you want in each box\n",
    "Lists are ordered, the order you put them in is the order they are read out.\n",
    "You dont need to store the same type of data in a list"
   ],
   "metadata": {
    "collapsed": false,
    "pycharm": {
     "name": "#%% md\n"
    }
   }
  },
  {
   "cell_type": "code",
   "execution_count": 49,
   "outputs": [],
   "source": [
    "myData = [21, \"Ashley\", 182.1, 'Blue']"
   ],
   "metadata": {
    "collapsed": false,
    "pycharm": {
     "name": "#%%\n"
    }
   }
  },
  {
   "cell_type": "markdown",
   "source": [
    "We can address any item of the list by just using its position in the list.\n",
    "One thing to point out here is that python starts counting at 0, so the first item is item 0.\n",
    "Here is an example"
   ],
   "metadata": {
    "collapsed": false,
    "pycharm": {
     "name": "#%% md\n"
    }
   }
  },
  {
   "cell_type": "code",
   "execution_count": 50,
   "outputs": [
    {
     "name": "stdout",
     "output_type": "stream",
     "text": [
      "The first item is 21\n"
     ]
    }
   ],
   "source": [
    "print('The first item is', myData[0])"
   ],
   "metadata": {
    "collapsed": false,
    "pycharm": {
     "name": "#%%\n"
    }
   }
  },
  {
   "cell_type": "markdown",
   "source": [
    "We can also select a range of items in the list, so to select the first 2 items we use"
   ],
   "metadata": {
    "collapsed": false,
    "pycharm": {
     "name": "#%% md\n"
    }
   }
  },
  {
   "cell_type": "code",
   "execution_count": 51,
   "outputs": [
    {
     "name": "stdout",
     "output_type": "stream",
     "text": [
      "The first two items are [21, 'Ashley']\n"
     ]
    }
   ],
   "source": [
    "print('The first two items are', myData[0:2])"
   ],
   "metadata": {
    "collapsed": false,
    "pycharm": {
     "name": "#%%\n"
    }
   }
  },
  {
   "cell_type": "markdown",
   "source": [
    "In the brackets we use the : to tell python we want a range, the range if from the number before the : upto, but not including the number after the"
   ],
   "metadata": {
    "collapsed": false,
    "pycharm": {
     "name": "#%% md\n"
    }
   }
  },
  {
   "cell_type": "markdown",
   "source": [
    "Negative indexing, we can also ask python for the last item, or the last but one using negative indexing. We just use a -ve sign in front of the index number of"
   ],
   "metadata": {
    "collapsed": false,
    "pycharm": {
     "name": "#%% md\n"
    }
   }
  },
  {
   "cell_type": "code",
   "execution_count": 52,
   "outputs": [
    {
     "name": "stdout",
     "output_type": "stream",
     "text": [
      "The last item is  Blue\n",
      "The last two items are [182.1, 'Blue']\n",
      "The last two but one are ['Ashley', 182.1]\n"
     ]
    }
   ],
   "source": [
    "print(\"The last item is \", myData[-1])\n",
    "print(\"The last two items are\", myData[-2:])\n",
    "print(\"The last two but one are\", myData[-3:-1])"
   ],
   "metadata": {
    "collapsed": false,
    "pycharm": {
     "name": "#%%\n"
    }
   }
  },
  {
   "cell_type": "code",
   "execution_count": 53,
   "outputs": [
    {
     "name": "stdout",
     "output_type": "stream",
     "text": [
      "[42, 'Ashley', 182.1, 'Blue']\n"
     ]
    }
   ],
   "source": [
    "# We can alter the contents of a list using the following syntax\n",
    "myData[0] = 42\n",
    "print(myData)"
   ],
   "metadata": {
    "collapsed": false,
    "pycharm": {
     "name": "#%%\n"
    }
   }
  },
  {
   "cell_type": "markdown",
   "source": [
    "Methods:\n",
    "Lists are a form of class, a class is an internal structure which has a number of actions associated with it.  These actions are called methods, below is a list of methods available for lists. We will explore them ober the next couple of cells. Again this reinforces our view of data being defined by the program rather than the hardware.\n",
    "\n",
    "\\begin{tabular}{ |l| |l| }\n",
    "\n",
    "\\textrm{append()} & \\textrm{Adds an element at the end of the list}\\\\\n",
    "\\textrm{clear()} & \\textrm{Removes all the elements from the list} \\\\\n",
    "\\textrm{copy()} & \\textrm{Returns a copy of the list} \\\\\n",
    "\\textrm{count()} & \\textrm{Returns the number of elements with the specified value} \\\\\n",
    "\\textrm{extend()} & \\textrm{Add the elements of a list (or any iterable), to the end of the current list} \\\\\n",
    "\\textrm{index()} & \\textrm{Add the elements of a list (or any iterable), to the end of the current list} \\\\\n",
    "\\textrm{insert()} & \\textrm{Adds an element at the specified position} \\\\\n",
    "\\textrm{pop()} & \\textrm{Removes the element at the specified position} \\\\\n",
    "\\textrm{remove()} & \\textrm{Removes the first item with the specified value} \\\\\n",
    "\\textrm{reverse()} & \\textrm{Reverses the order of the list} \\\\\n",
    "\\textrm{sort()} & \\textrm{Sorts the list} \\\\\n",
    "\\end{tabular}\n"
   ],
   "metadata": {
    "collapsed": false,
    "pycharm": {
     "name": "#%% md\n"
    }
   }
  },
  {
   "cell_type": "code",
   "execution_count": 54,
   "outputs": [
    {
     "name": "stdout",
     "output_type": "stream",
     "text": [
      "[42, 'Ashley', 182.1, 'Blue', 'Bunny Kitten']\n"
     ]
    }
   ],
   "source": [
    "# Using a method\n",
    "myData.append('Bunny Kitten') # as you can see here the method acts on the list we don't neeed any assignments\n",
    "print(myData)"
   ],
   "metadata": {
    "collapsed": false,
    "pycharm": {
     "name": "#%%\n"
    }
   }
  },
  {
   "cell_type": "code",
   "execution_count": 55,
   "outputs": [
    {
     "name": "stdout",
     "output_type": "stream",
     "text": [
      "There are 1 occurrences of the name Ashley\n"
     ]
    }
   ],
   "source": [
    "print('There are', myData.count(\"Ashley\"),'occurrences of the name Ashley')"
   ],
   "metadata": {
    "collapsed": false,
    "pycharm": {
     "name": "#%%\n"
    }
   }
  },
  {
   "cell_type": "code",
   "execution_count": 56,
   "outputs": [
    {
     "name": "stdout",
     "output_type": "stream",
     "text": [
      "The sorted list of fruits is\n",
      "['Apple', 'Banana', 'Fig', 'Pear']\n"
     ]
    }
   ],
   "source": [
    "print('The sorted list of fruits is')\n",
    "myFruits.sort()\n",
    "print(myFruits)"
   ],
   "metadata": {
    "collapsed": false,
    "pycharm": {
     "name": "#%%\n"
    }
   }
  },
  {
   "cell_type": "markdown",
   "source": [
    "---\n",
    "Write code to create a list with just one item in it, your first name.\n",
    "Then append to the list your last name amd print the list."
   ],
   "metadata": {
    "collapsed": false,
    "pycharm": {
     "name": "#%% md\n"
    }
   }
  },
  {
   "cell_type": "code",
   "execution_count": 57,
   "outputs": [],
   "source": [
    "#Write your code here"
   ],
   "metadata": {
    "collapsed": false,
    "pycharm": {
     "name": "#%%\n"
    }
   }
  },
  {
   "cell_type": "markdown",
   "source": [
    "---"
   ],
   "metadata": {
    "collapsed": false,
    "pycharm": {
     "name": "#%% md\n"
    }
   }
  },
  {
   "cell_type": "markdown",
   "source": [
    "***"
   ],
   "metadata": {
    "collapsed": false,
    "pycharm": {
     "name": "#%% md\n"
    }
   }
  },
  {
   "cell_type": "markdown",
   "source": [
    "***\n",
    "### Tuples\n",
    "Tuples are very similar to lists, they can created using () brackets, so they look very similar to lists.  In fact, they have very similar characteristics.  The main difference is once created a tuple can not be changed. There are only two methods associated with tuples, these are count() and index().\n"
   ],
   "metadata": {
    "collapsed": false,
    "pycharm": {
     "name": "#%% md\n"
    }
   }
  },
  {
   "cell_type": "code",
   "execution_count": 58,
   "outputs": [
    {
     "name": "stdout",
     "output_type": "stream",
     "text": [
      "('apple', 'banana', 'cherry')\n"
     ]
    }
   ],
   "source": [
    "thistuple = (\"apple\", \"banana\", \"cherry\")\n",
    "print(thistuple)"
   ],
   "metadata": {
    "collapsed": false,
    "pycharm": {
     "name": "#%%\n"
    }
   }
  },
  {
   "cell_type": "markdown",
   "source": [
    "Tuples are used for definitions of data which should not be changed, such as GPS coordinates of a specif place or physical constants. The inability to change the value makes them safer programmatically."
   ],
   "metadata": {
    "collapsed": false,
    "pycharm": {
     "name": "#%% md\n"
    }
   }
  },
  {
   "cell_type": "code",
   "execution_count": 59,
   "outputs": [
    {
     "name": "stdout",
     "output_type": "stream",
     "text": [
      "1\n"
     ]
    }
   ],
   "source": [
    "print(thistuple.count('cherry'))"
   ],
   "metadata": {
    "collapsed": false,
    "pycharm": {
     "name": "#%%\n"
    }
   }
  },
  {
   "cell_type": "code",
   "execution_count": 60,
   "outputs": [
    {
     "name": "stdout",
     "output_type": "stream",
     "text": [
      "2\n"
     ]
    }
   ],
   "source": [
    "print(thistuple.index('cherry'))"
   ],
   "metadata": {
    "collapsed": false,
    "pycharm": {
     "name": "#%%\n"
    }
   }
  },
  {
   "cell_type": "markdown",
   "source": [
    "---\n",
    "Build your own tuple"
   ],
   "metadata": {
    "collapsed": false,
    "pycharm": {
     "name": "#%% md\n"
    }
   }
  },
  {
   "cell_type": "code",
   "execution_count": 61,
   "outputs": [],
   "source": [
    "#write you code here"
   ],
   "metadata": {
    "collapsed": false,
    "pycharm": {
     "name": "#%%\n"
    }
   }
  },
  {
   "cell_type": "markdown",
   "source": [
    "---"
   ],
   "metadata": {
    "collapsed": false,
    "pycharm": {
     "name": "#%% md\n"
    }
   }
  },
  {
   "cell_type": "markdown",
   "source": [
    "***\n",
    "### Dictionaries\n",
    "Dictionaries are used to store data with associated keys, they are defined as shown below.They are very powerful for storing blocks of related data."
   ],
   "metadata": {
    "collapsed": false,
    "pycharm": {
     "name": "#%% md\n"
    }
   }
  },
  {
   "cell_type": "code",
   "execution_count": 62,
   "outputs": [],
   "source": [
    "thisdict = {\n",
    "    \"brand\": \"Ford\",\n",
    "    \"model\": \"Mustang\",\n",
    "    \"year\": 1964\n",
    "}"
   ],
   "metadata": {
    "collapsed": false,
    "pycharm": {
     "name": "#%%\n"
    }
   }
  },
  {
   "cell_type": "markdown",
   "source": [
    "Notice the structure, the dictionary is enclosed in {} brackets and each data set contains a key followed by a : followed by the data to be stored in that key.\n",
    "Here are the methods associated with dictionaries\n",
    "\\begin{tabular}{ |l| |l| }\n",
    "\n",
    "\\textrm{clear()} & \\textrm{Removes all the elements from the dictionary} \\\\\n",
    "\\textrm{copy()} & \\textrm{Returns a copy of the dictionary} \\\\\n",
    "\\textrm{fromkeys()}\t& \\textrm{Returns a dictionary with the specified keys and value}\\\\\n",
    "\\textrm{get()} &\t\\textrm{Returns the value of the specified key}\\\\\n",
    "\\textrm{items()} &\t\\textrm{Returns a list containing a tuple for each key value pair}\\\\\n",
    "\\textrm{keys()} &\t\\textrm{Returns a list containing the dictionary's keys}\\\\\n",
    "\\textrm{pop()} &\t\\textrm{Removes the element with the specified key}\\\\\n",
    "\\textrm{popitem()} &\t\\textrm{Removes the last inserted key-value pair}\\\\\n",
    "\\textrm{setdefault()} &\t\\textrm{Returns the value of the specified key. If the key does not exist: insert the key, with the specified value}\\\\\n",
    "\\textrm{update()} &\t\\textrm{Updates the dictionary with the specified key-value pairs}\\\\\n",
    "\\textrm{values()} &\t\\textrm{Returns a list of all the values in the dictionary}\\\\\n",
    "\\end{tabular}"
   ],
   "metadata": {
    "collapsed": false,
    "pycharm": {
     "name": "#%% md\n"
    }
   }
  },
  {
   "cell_type": "code",
   "execution_count": 63,
   "outputs": [
    {
     "name": "stdout",
     "output_type": "stream",
     "text": [
      "{'brand': 'Ford', 'model': 'Mustang', 'year': 1964}\n"
     ]
    }
   ],
   "source": [
    "print(thisdict)"
   ],
   "metadata": {
    "collapsed": false,
    "pycharm": {
     "name": "#%%\n"
    }
   }
  },
  {
   "cell_type": "code",
   "execution_count": 64,
   "outputs": [
    {
     "name": "stdout",
     "output_type": "stream",
     "text": [
      "dict_keys(['brand', 'model', 'year'])\n"
     ]
    }
   ],
   "source": [
    "# We can get a list of the keys used to define the dictionary using the keys() method.\n",
    "print(thisdict.keys())"
   ],
   "metadata": {
    "collapsed": false,
    "pycharm": {
     "name": "#%%\n"
    }
   }
  },
  {
   "cell_type": "markdown",
   "source": [
    "So we can now define a standard dictionary for a car catalog"
   ],
   "metadata": {
    "collapsed": false,
    "pycharm": {
     "name": "#%% md\n"
    }
   }
  },
  {
   "cell_type": "markdown",
   "source": [
    "We can address the dictionary using the get() method or by a variation of the slice syntax. However, the get() method should be used.\n"
   ],
   "metadata": {
    "collapsed": false,
    "pycharm": {
     "name": "#%% md\n"
    }
   }
  },
  {
   "cell_type": "code",
   "execution_count": 67,
   "outputs": [
    {
     "name": "stdout",
     "output_type": "stream",
     "text": [
      "Mustang\n",
      "Mustang\n"
     ]
    }
   ],
   "source": [
    "print(thisdict.get(\"model\")) # Here we use the get method\n",
    "print(thisdict[\"model\"]) # Here we slice using the key as the value."
   ],
   "metadata": {
    "collapsed": false,
    "pycharm": {
     "name": "#%%\n"
    }
   }
  },
  {
   "cell_type": "markdown",
   "source": [
    "If we wanted to access the first item in a list we could not actually do it in a classical python way so\n",
    "\n",
    "print(thisdict[0])\n",
    "would not work.  However, sometimes it is useful in that case we can use this little hack.\n",
    "\n",
    "print(list(thisdict[0]))\n"
   ],
   "metadata": {
    "collapsed": false,
    "pycharm": {
     "name": "#%% md\n"
    }
   }
  },
  {
   "cell_type": "code",
   "execution_count": 70,
   "outputs": [
    {
     "name": "stdout",
     "output_type": "stream",
     "text": [
      "model\n"
     ]
    }
   ],
   "source": [
    "print(list(thisdict)[0]) # this code actual converts the dictionary to a list and the addresses it will return the keys in order.  It might be useful"
   ],
   "metadata": {
    "collapsed": false,
    "pycharm": {
     "name": "#%%\n"
    }
   }
  },
  {
   "cell_type": "markdown",
   "source": [
    "If you want to add to a dictionary you can simply make a new key and assign it a value"
   ],
   "metadata": {
    "collapsed": false,
    "pycharm": {
     "name": "#%% md\n"
    }
   }
  },
  {
   "cell_type": "code",
   "execution_count": 73,
   "outputs": [
    {
     "name": "stdout",
     "output_type": "stream",
     "text": [
      "{'brand': 'Ford', 'model': 'Mustang', 'year': 1964, 'Max speed': 145}\n"
     ]
    }
   ],
   "source": [
    "thisdict['Max speed'] = 145\n",
    "print(thisdict)"
   ],
   "metadata": {
    "collapsed": false,
    "pycharm": {
     "name": "#%%\n"
    }
   }
  },
  {
   "cell_type": "markdown",
   "source": [
    "***\n",
    "Build a dictionary cities and their rivers (it does not have to be a big dictionary).\n"
   ],
   "metadata": {
    "collapsed": false,
    "pycharm": {
     "name": "#%% md\n"
    }
   }
  },
  {
   "cell_type": "code",
   "execution_count": null,
   "outputs": [],
   "source": [
    "#Write your code here"
   ],
   "metadata": {
    "collapsed": false,
    "pycharm": {
     "name": "#%%\n"
    }
   }
  },
  {
   "cell_type": "markdown",
   "source": [
    "***\n",
    "Numpy arrays\n",
    "It is not possible to talk about data structures without talking about arrays.  An array is a matrix of numbers it can be any number of dimensions any length, width or depth. For now, we will only use 2D arrays to make visualizing them easier.\n",
    "We will use a type of array called a numpy array, this is very common and used by nearly everyone.\n",
    "To use numpy we have to import the numopy libray in to python to give us access to the array commands, next week we will explain libaries in more detail but for now here is a very brief overview using numpy.\n"
   ],
   "metadata": {
    "collapsed": false,
    "pycharm": {
     "name": "#%% md\n"
    }
   }
  },
  {
   "cell_type": "code",
   "execution_count": 79,
   "outputs": [
    {
     "name": "stdout",
     "output_type": "stream",
     "text": [
      "0.9999999999991198\n",
      "1.0\n"
     ]
    }
   ],
   "source": [
    "import numpy as np\n",
    "# this line of code tells python that we want to use the numpy library\n",
    "# by adding the 'as np' we tell python that to call a command in the numpy library we will prefix the command with np.\n",
    "# lets try it.\n",
    "x = 3.14159 / 2\n",
    "y = np.sin(x)\n",
    "print(y)\n",
    "# just for fun lets use the numpy defined value of pi\n",
    "x = np.pi/2\n",
    "y = np.sin(x)\n",
    "print(y)"
   ],
   "metadata": {
    "collapsed": false,
    "pycharm": {
     "name": "#%%\n"
    }
   }
  },
  {
   "cell_type": "markdown",
   "source": [
    "Ok, so above may seem a little confusing. let us break it down line by line:\n",
    "import numpy as np, this line tells python we want to use the numpy library and we will call functions uing the prefix np.\n",
    "\n",
    "**x = 3.14159 / 2**,\n",
    "this defines a variable to be pi/2\n",
    "\n",
    "**y = np.sin(x)**,\n",
    "here we are using the sin function from numpy so np.sin() the value is stored in the variable y.\n",
    "\n",
    "We also use the constant **np.pi**, this is a constant stored in the numpy library with the value 3.141592653589793"
   ],
   "metadata": {
    "collapsed": false,
    "pycharm": {
     "name": "#%% md\n"
    }
   }
  },
  {
   "cell_type": "markdown",
   "source": [
    "Ok, now lets use numpy for storing data.  Numpy gives you access to arrays, arrays can store numbers and only numbers. Let's define one."
   ],
   "metadata": {
    "collapsed": false,
    "pycharm": {
     "name": "#%% md\n"
    }
   }
  },
  {
   "cell_type": "code",
   "execution_count": 81,
   "outputs": [],
   "source": [
    "#define an array\n",
    "myFirstArray = np.asarray([1,2,3,4,5,6,7,8,9]) # this builds a 1D array"
   ],
   "metadata": {
    "collapsed": false,
    "pycharm": {
     "name": "#%%\n"
    }
   }
  },
  {
   "cell_type": "code",
   "execution_count": 82,
   "outputs": [
    {
     "name": "stdout",
     "output_type": "stream",
     "text": [
      "[1 2 3 4 5 6 7 8 9]\n"
     ]
    }
   ],
   "source": [
    "print(myFirstArray)"
   ],
   "metadata": {
    "collapsed": false,
    "pycharm": {
     "name": "#%%\n"
    }
   }
  },
  {
   "cell_type": "code",
   "execution_count": 84,
   "outputs": [
    {
     "name": "stdout",
     "output_type": "stream",
     "text": [
      "[[1 2 3]\n",
      " [4 5 6]\n",
      " [7 8 9]]\n"
     ]
    }
   ],
   "source": [
    "mySecondArray = np.asarray([[1,2,3],[4,5,6],[7,8,9]]) # this builds a 2D array notice the [] brackets\n",
    "print(mySecondArray)"
   ],
   "metadata": {
    "collapsed": false,
    "pycharm": {
     "name": "#%%\n"
    }
   }
  },
  {
   "cell_type": "markdown",
   "source": [
    "***\n",
    "### Addressing and slicing arrays in 1 and 2 dimensions.\n",
    "##### We are now going to learn how to access and cut up those arrays\n",
    "---"
   ],
   "metadata": {
    "collapsed": false,
    "pycharm": {
     "name": "#%% md\n"
    }
   }
  },
  {
   "cell_type": "code",
   "execution_count": 87,
   "outputs": [
    {
     "name": "stdout",
     "output_type": "stream",
     "text": [
      "The first value in my array is 1\n",
      "The last value in my array is 9\n",
      "The first 3 values in my array are [1 2 3]\n",
      "The last 3 values in my array are [6 7 8]\n"
     ]
    }
   ],
   "source": [
    "# for 1D arrays\n",
    "print('The first value in my array is', myFirstArray[0])\n",
    "print('The last value in my array is', myFirstArray[-1])\n",
    "print('The first 3 values in my array are', myFirstArray[0:3])\n",
    "print('The last 3 values in my array are', myFirstArray[-4:-1])\n",
    "\n",
    "# This should be obvious now, if not just ask a TA"
   ],
   "metadata": {
    "collapsed": false,
    "pycharm": {
     "name": "#%%\n"
    }
   }
  },
  {
   "cell_type": "code",
   "execution_count": 92,
   "outputs": [
    {
     "name": "stdout",
     "output_type": "stream",
     "text": [
      "The value in the top left is 1\n",
      "The first row is [1 2 3]\n",
      "The middle column is [2 5 8]\n"
     ]
    }
   ],
   "source": [
    "# for 2D arrays\n",
    "print('The value in the top left is', mySecondArray[0,0]) # The first number is the Y value 0 at the top increasing as in a table, the second number is the X axis\n",
    "print('The first row is', mySecondArray[0,:]) # The : prints the whole row\n",
    "print('The middle column is', mySecondArray[:,1])"
   ],
   "metadata": {
    "collapsed": false,
    "pycharm": {
     "name": "#%%\n"
    }
   }
  },
  {
   "cell_type": "markdown",
   "source": [
    "***\n",
    "### Now some maths.\n",
    "##### Here we will use some function provided with numpy to perform maths on the arrays\n",
    "---"
   ],
   "metadata": {
    "collapsed": false,
    "pycharm": {
     "name": "#%% md\n"
    }
   }
  },
  {
   "cell_type": "code",
   "execution_count": 94,
   "outputs": [
    {
     "name": "stdout",
     "output_type": "stream",
     "text": [
      "The mean of the 1D array is 5.0\n",
      "The mean of the 2D array is 5.0\n"
     ]
    }
   ],
   "source": [
    "# Calcaute the mean\n",
    "print('The mean of the 1D array is', np.mean(myFirstArray))\n",
    "print('The mean of the 2D array is', np.mean(mySecondArray))"
   ],
   "metadata": {
    "collapsed": false,
    "pycharm": {
     "name": "#%%\n"
    }
   }
  },
  {
   "cell_type": "code",
   "execution_count": 96,
   "outputs": [
    {
     "name": "stdout",
     "output_type": "stream",
     "text": [
      "The mean of the 2D array in X is [4. 5. 6.]\n",
      "The mean of the 2D array in Y is [2. 5. 8.]\n"
     ]
    }
   ],
   "source": [
    "# Cunningly we can also ask numpy to give us the mean of a specific axis\n",
    "print('The mean of the 2D array in Y is', np.mean(mySecondArray, axis=0)) # Notice the axis keyword\n",
    "print('The mean of the 2D array in X is', np.mean(mySecondArray, axis=1))\n",
    "# numpy is giving us three answers because it is treating each column or row individually."
   ],
   "metadata": {
    "collapsed": false,
    "pycharm": {
     "name": "#%%\n"
    }
   }
  },
  {
   "cell_type": "code",
   "execution_count": 97,
   "outputs": [
    {
     "name": "stdout",
     "output_type": "stream",
     "text": [
      "The sum of the 2D array is 45\n",
      "The sum of the 2D array along Y is [12 15 18]\n",
      "The sum of the 2D array along X is [ 6 15 24]\n"
     ]
    }
   ],
   "source": [
    "# Summing\n",
    "print('The sum of the 2D array is', np.sum(mySecondArray))\n",
    "print('The sum of the 2D array along Y is', np.sum(mySecondArray, axis=0))\n",
    "print('The sum of the 2D array along X is', np.sum(mySecondArray, axis=1))"
   ],
   "metadata": {
    "collapsed": false,
    "pycharm": {
     "name": "#%%\n"
    }
   }
  },
  {
   "cell_type": "markdown",
   "source": [
    "***\n",
    "### Now some maths using multiple arrays\n",
    "##### Here we will operate on arrays with other arrays\n",
    "---"
   ],
   "metadata": {
    "collapsed": false,
    "pycharm": {
     "name": "#%% md\n"
    }
   }
  },
  {
   "cell_type": "code",
   "execution_count": 98,
   "outputs": [],
   "source": [
    "arrayOne = np.asarray([[1,1,1],[1,0,1],[1,1,1]])\n",
    "arrayTwo = np.asarray([[1,0,1],[1,0,1],[1,0,1]])"
   ],
   "metadata": {
    "collapsed": false,
    "pycharm": {
     "name": "#%%\n"
    }
   }
  },
  {
   "cell_type": "code",
   "execution_count": 102,
   "outputs": [
    {
     "name": "stdout",
     "output_type": "stream",
     "text": [
      "[[2 1 2]\n",
      " [2 0 2]\n",
      " [2 1 2]]\n"
     ]
    }
   ],
   "source": [
    "# Summation\n",
    "print(arrayOne+arrayTwo)"
   ],
   "metadata": {
    "collapsed": false,
    "pycharm": {
     "name": "#%%\n"
    }
   }
  },
  {
   "cell_type": "code",
   "execution_count": 103,
   "outputs": [
    {
     "name": "stdout",
     "output_type": "stream",
     "text": [
      "[[1 0 1]\n",
      " [1 0 1]\n",
      " [1 0 1]]\n"
     ]
    }
   ],
   "source": [
    "# Multiplication\n",
    "print(arrayOne*arrayTwo)"
   ],
   "metadata": {
    "collapsed": false,
    "pycharm": {
     "name": "#%%\n"
    }
   }
  },
  {
   "cell_type": "code",
   "execution_count": 104,
   "outputs": [
    {
     "name": "stdout",
     "output_type": "stream",
     "text": [
      "[[3 0 3]\n",
      " [2 0 2]\n",
      " [3 0 3]]\n"
     ]
    }
   ],
   "source": [
    "#Real matrix multiplication\n",
    "print(np.matmul(arrayOne, arrayTwo))"
   ],
   "metadata": {
    "collapsed": false,
    "pycharm": {
     "name": "#%%\n"
    }
   }
  },
  {
   "cell_type": "markdown",
   "source": [
    "***\n",
    "### Reshaping the array\n",
    "##### Here we will change the shape of an array\n",
    "---"
   ],
   "metadata": {
    "collapsed": false,
    "pycharm": {
     "name": "#%% md\n"
    }
   }
  },
  {
   "cell_type": "code",
   "execution_count": 107,
   "outputs": [
    {
     "name": "stdout",
     "output_type": "stream",
     "text": [
      "The size of the array is 9\n",
      "The shape of the array is (3, 3)\n"
     ]
    }
   ],
   "source": [
    "# First lets look at the size and shape of an array\n",
    "print('The size of the array is', np.size(mySecondArray))\n",
    "print('The shape of the array is', np.shape(mySecondArray))"
   ],
   "metadata": {
    "collapsed": false,
    "pycharm": {
     "name": "#%%\n"
    }
   }
  },
  {
   "cell_type": "code",
   "execution_count": 108,
   "outputs": [
    {
     "name": "stdout",
     "output_type": "stream",
     "text": [
      "Shape (9,)\n",
      "Shape (3, 3)\n"
     ]
    }
   ],
   "source": [
    "#what happens if we want to change the shape of an array.\n",
    "# We can use the reshape command\n",
    "print('Shape', np.shape(myFirstArray))\n",
    "myNewArray = np.reshape(myFirstArray,[3,3]) # here I give the new shape as [3,3]\n",
    "print('Shape', np.shape(myNewArray))"
   ],
   "metadata": {
    "collapsed": false,
    "pycharm": {
     "name": "#%%\n"
    }
   }
  },
  {
   "cell_type": "markdown",
   "source": [
    "***\n",
    "### Generating data\n",
    "##### It can be a pain buiding large arrays, but there are plenty of tools to create array with prefilled values.\n",
    "---"
   ],
   "metadata": {
    "collapsed": false,
    "pycharm": {
     "name": "#%% md\n"
    }
   }
  },
  {
   "cell_type": "code",
   "execution_count": 114,
   "outputs": [
    {
     "name": "stdout",
     "output_type": "stream",
     "text": [
      "[[0. 0. 0. 0. 0. 0.]\n",
      " [0. 0. 0. 0. 0. 0.]\n",
      " [0. 0. 0. 0. 0. 0.]]\n",
      "\n",
      "[[1. 1. 1. 1. 1. 1.]\n",
      " [1. 1. 1. 1. 1. 1.]\n",
      " [1. 1. 1. 1. 1. 1.]]\n"
     ]
    }
   ],
   "source": [
    "#Simple empty array\n",
    "print(np.zeros([3,6]))\n",
    "print('')\n",
    "#Simple array of ones\n",
    "print(np.ones([3,6]))"
   ],
   "metadata": {
    "collapsed": false,
    "pycharm": {
     "name": "#%%\n"
    }
   }
  },
  {
   "cell_type": "code",
   "execution_count": 116,
   "outputs": [
    {
     "name": "stdout",
     "output_type": "stream",
     "text": [
      "[0. 1. 2. 3. 4. 5. 6. 7. 8. 9.]\n"
     ]
    }
   ],
   "source": [
    "#Often we want to generate a linear spaced set of data, for example if we were going to plot a function.\n",
    "x = np.linspace(0, 9, 10)\n",
    "print(x)\n",
    "# linspace takes three inputs, the starting value, the final value and the total number of points required, it generates equally spaced numbers in between the start and final values."
   ],
   "metadata": {
    "collapsed": false,
    "pycharm": {
     "name": "#%%\n"
    }
   }
  },
  {
   "cell_type": "code",
   "execution_count": 117,
   "outputs": [
    {
     "name": "stdout",
     "output_type": "stream",
     "text": [
      "[0.  0.5 1.  1.5 2.  2.5 3.  3.5 4.  4.5 5.  5.5 6.  6.5 7.  7.5 8.  8.5\n",
      " 9.  9.5]\n"
     ]
    }
   ],
   "source": [
    "# The arange command is very similar but allows you to define the step size\n",
    "x = np.arange(0, 10, .5 )\n",
    "print(x)\n",
    "# notice that the 10 is missing this is because the command stops before the final value."
   ],
   "metadata": {
    "collapsed": false,
    "pycharm": {
     "name": "#%%\n"
    }
   }
  },
  {
   "cell_type": "code",
   "execution_count": 121,
   "outputs": [
    {
     "data": {
      "text/plain": "array([1.        , 1.02591437, 1.05250029, 1.07977516, 1.10775685,\n       1.13646367, 1.1659144 , 1.19612833, 1.22712524, 1.25892541])"
     },
     "execution_count": 121,
     "metadata": {},
     "output_type": "execute_result"
    }
   ],
   "source": [],
   "metadata": {
    "collapsed": false,
    "pycharm": {
     "name": "#%%\n"
    }
   }
  },
  {
   "cell_type": "code",
   "execution_count": null,
   "outputs": [],
   "source": [],
   "metadata": {
    "collapsed": false,
    "pycharm": {
     "name": "#%%\n"
    }
   }
  }
 ],
 "metadata": {
  "kernelspec": {
   "display_name": "Python 3",
   "language": "python",
   "name": "python3"
  },
  "language_info": {
   "codemirror_mode": {
    "name": "ipython",
    "version": 2
   },
   "file_extension": ".py",
   "mimetype": "text/x-python",
   "name": "python",
   "nbconvert_exporter": "python",
   "pygments_lexer": "ipython2",
   "version": "2.7.6"
  }
 },
 "nbformat": 4,
 "nbformat_minor": 0
}