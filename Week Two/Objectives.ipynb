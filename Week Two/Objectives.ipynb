{
 "cells": [
  {
   "cell_type": "markdown",
   "source": [
    "### Objectives\n",
    "Know what a list, tuple, dictionary and numpy array are.\n",
    "\n",
    "Know how to create each one.\n",
    "\n",
    "Have an idea why you would use one over the other.\n",
    "\n",
    "Know how to use some key methods on the data structure.\n"
   ],
   "metadata": {
    "collapsed": false,
    "pycharm": {
     "name": "#%% md\n"
    }
   }
  },
  {
   "cell_type": "markdown",
   "source": [
    "Later on in the course we will be extensively using numpy, so make sure you play with it."
   ],
   "metadata": {
    "collapsed": false,
    "pycharm": {
     "name": "#%% md\n"
    }
   }
  }
 ],
 "metadata": {
  "kernelspec": {
   "display_name": "Python 3",
   "language": "python",
   "name": "python3"
  },
  "language_info": {
   "codemirror_mode": {
    "name": "ipython",
    "version": 2
   },
   "file_extension": ".py",
   "mimetype": "text/x-python",
   "name": "python",
   "nbconvert_exporter": "python",
   "pygments_lexer": "ipython2",
   "version": "2.7.6"
  }
 },
 "nbformat": 4,
 "nbformat_minor": 0
}