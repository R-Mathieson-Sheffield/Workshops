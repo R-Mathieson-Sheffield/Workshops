{
 "cells": [
  {
   "cell_type": "code",
   "execution_count": 1,
   "metadata": {
    "collapsed": true
   },
   "outputs": [],
   "source": [
    "import numpy as np\n",
    "import pandas as pd"
   ]
  },
  {
   "cell_type": "code",
   "execution_count": 2,
   "outputs": [],
   "source": [
    "fileName = 'Data/results.csv'\n",
    "data = pd.read_csv(fileName)"
   ],
   "metadata": {
    "collapsed": false
   }
  },
  {
   "cell_type": "code",
   "execution_count": 3,
   "outputs": [
    {
     "data": {
      "text/plain": "Index(['date', 'home_team', 'away_team', 'home_score', 'away_score',\n       'tournament', 'city', 'country', 'neutral'],\n      dtype='object')"
     },
     "execution_count": 3,
     "metadata": {},
     "output_type": "execute_result"
    }
   ],
   "source": [
    "# Columns in pandas replace the numerical slicing operations\n",
    "# Here I can look at the column names\n",
    "data.columns"
   ],
   "metadata": {
    "collapsed": false
   }
  },
  {
   "cell_type": "code",
   "execution_count": 4,
   "outputs": [
    {
     "name": "stdout",
     "output_type": "stream",
     "text": [
      "0            Scotland\n",
      "1             England\n",
      "2            Scotland\n",
      "3             England\n",
      "4            Scotland\n",
      "             ...     \n",
      "43183        Suriname\n",
      "43184    Burkina Faso\n",
      "43185        Cameroon\n",
      "43186        Cameroon\n",
      "43187         Senegal\n",
      "Name: home_team, Length: 43188, dtype: object\n"
     ]
    }
   ],
   "source": [
    "# To look at data in a column\n",
    "print(data['home_team'])"
   ],
   "metadata": {
    "collapsed": false
   }
  },
  {
   "cell_type": "code",
   "execution_count": 5,
   "outputs": [
    {
     "name": "stdout",
     "output_type": "stream",
     "text": [
      "Ireland\n"
     ]
    }
   ],
   "source": [
    "print(data['country'][43])"
   ],
   "metadata": {
    "collapsed": false
   }
  },
  {
   "cell_type": "code",
   "execution_count": 6,
   "outputs": [],
   "source": [
    "teams = data['home_team'].unique() # This is a really useful feature, it lists the all the unique values in a column."
   ],
   "metadata": {
    "collapsed": false
   }
  },
  {
   "cell_type": "markdown",
   "source": [
    "Look at the structure of the command above. data[NAME OF COLUM] returns the column, the .unique() method returns the unique values in that column."
   ],
   "metadata": {
    "collapsed": false
   }
  },
  {
   "cell_type": "code",
   "execution_count": 7,
   "outputs": [
    {
     "name": "stdout",
     "output_type": "stream",
     "text": [
      "['Scotland' 'England' 'Wales' 'Northern Ireland' 'United States' 'Uruguay'\n",
      " 'Austria' 'Hungary' 'Argentina' 'Belgium' 'France' 'Netherlands'\n",
      " 'Czechoslovakia' 'Switzerland' 'Sweden' 'Germany' 'Italy' 'Chile'\n",
      " 'Norway' 'Finland' 'Luxembourg' 'Russia' 'Denmark' 'Catalonia'\n",
      " 'Basque Country' 'Brazil' 'Japan' 'Paraguay' 'Canada' 'Estonia'\n",
      " 'Costa Rica' 'Guatemala' 'Spain' 'Brittany' 'Poland' 'Yugoslavia'\n",
      " 'New Zealand' 'Romania' 'Latvia' 'Galicia' 'Portugal' 'Andalusia'\n",
      " 'China PR' 'Australia' 'Lithuania' 'Turkey' 'Central Spain' 'Mexico'\n",
      " 'Aruba' 'Egypt' 'Haiti' 'Philippines' 'Bulgaria' 'Jamaica' 'Kenya'\n",
      " 'Bolivia' 'Peru' 'Honduras' 'Guyana' 'Uganda' 'Belarus' 'El Salvador'\n",
      " 'Barbados' 'Republic of Ireland' 'Trinidad and Tobago' 'Greece' 'Curaçao'\n",
      " 'Dominica' 'Silesia' 'Guadeloupe' 'Israel' 'Suriname' 'French Guiana'\n",
      " 'Cuba' 'Colombia' 'Ecuador' 'Saint Kitts and Nevis' 'Panama' 'Slovakia'\n",
      " 'Manchukuo' 'Croatia' 'Nicaragua' 'Afghanistan' 'India' 'Martinique'\n",
      " 'Zimbabwe' 'Iceland' 'Albania' 'Madagascar' 'Zambia' 'Mauritius'\n",
      " 'Tanzania' 'Iran' 'Djibouti' 'DR Congo' 'Vietnam' 'Macau' 'Ethiopia'\n",
      " 'Puerto Rico' 'Réunion' 'Sierra Leone' 'Zanzibar' 'South Korea' 'Ghana'\n",
      " 'South Africa' 'New Caledonia' 'Fiji' 'Nigeria' 'Venezuela' 'Myanmar'\n",
      " 'Sri Lanka' 'Tahiti' 'Gambia' 'Hong Kong' 'Singapore' 'Malaysia'\n",
      " 'Indonesia' 'Guinea-Bissau' 'German DR' 'Vanuatu' 'Kernow' 'Saarland'\n",
      " 'Cambodia' 'Lebanon' 'Pakistan' 'Vietnam Republic' 'North Korea' 'Togo'\n",
      " 'Sudan' 'Malta' 'Syria' 'Tunisia' 'Malawi' 'Morocco' 'Benin' 'Cameroon'\n",
      " 'Central African Republic' 'Gabon' 'Ivory Coast' 'Congo' 'Mali'\n",
      " 'North Vietnam' 'Mongolia' 'Taiwan' 'Cyprus' 'Iraq' 'Saint Lucia'\n",
      " 'Grenada' 'Thailand' 'Senegal' 'Libya' 'Guinea' 'Algeria' 'Kuwait'\n",
      " 'Jordan' 'Solomon Islands' 'Liberia' 'Laos'\n",
      " 'Saint Vincent and the Grenadines' 'Bermuda' 'Niger' 'Montenegro'\n",
      " 'Palestine' 'Bahrain' 'Papua New Guinea' 'Burkina Faso' 'Mauritania'\n",
      " 'Saudi Arabia' 'Eswatini' 'Western Australia' 'Somalia' 'Lesotho'\n",
      " 'Cook Islands' 'Qatar' 'Antigua and Barbuda' 'Faroe Islands' 'Bangladesh'\n",
      " 'Yemen' 'Oman' 'Yemen DPR' 'Burundi' 'Mozambique' 'Guam' 'Chad' 'Angola'\n",
      " 'Dominican Republic' 'Seychelles' 'Rwanda' 'São Tomé and Príncipe'\n",
      " 'Botswana' 'Northern Cyprus' 'Cape Verde' 'Kyrgyzstan' 'Georgia'\n",
      " 'Azerbaijan' 'Kiribati' 'Tonga' 'Wallis Islands and Futuna'\n",
      " 'United Arab Emirates' 'Brunei' 'Equatorial Guinea' 'Liechtenstein'\n",
      " 'Nepal' 'Greenland' 'Niue' 'Samoa' 'American Samoa' 'Belize' 'Anguilla'\n",
      " 'Cayman Islands' 'Palau' 'Sint Maarten' 'Namibia' 'Åland Islands'\n",
      " 'Ynys Môn' 'Saint Martin' 'San Marino' 'Slovenia' 'Jersey' 'Shetland'\n",
      " 'Isle of Wight' 'Moldova' 'Ukraine' 'Kazakhstan' 'Tajikistan'\n",
      " 'Uzbekistan' 'Turkmenistan' 'Armenia' 'Czech Republic' 'Guernsey'\n",
      " 'Gibraltar' 'Isle of Man' 'North Macedonia' 'Montserrat' 'Serbia'\n",
      " 'Canary Islands' 'Bosnia and Herzegovina' 'Maldives' 'Andorra'\n",
      " 'British Virgin Islands' 'Frøya' 'Hitra' 'United States Virgin Islands'\n",
      " 'Corsica' 'Eritrea' 'Bahamas' 'Gotland' 'Saare County' 'Rhodes'\n",
      " 'Micronesia' 'Bhutan' 'Orkney' 'Monaco' 'Tuvalu' 'Sark' 'Alderney'\n",
      " 'Mayotte' 'Turks and Caicos Islands' 'Timor-Leste' 'Western Isles'\n",
      " 'Falkland Islands' 'Kosovo' 'Republic of St. Pauli' 'Găgăuzia' 'Tibet'\n",
      " 'Occitania' 'Sápmi' 'Northern Mariana Islands' 'Menorca' 'Comoros'\n",
      " 'Provence' 'Arameans Suryoye' 'Padania' 'Iraqi Kurdistan' 'Gozo'\n",
      " 'Bonaire' 'Western Sahara' 'Raetia' 'Darfur' 'Tamil Eelam' 'South Sudan'\n",
      " 'Abkhazia' 'Saint Pierre and Miquelon' 'Artsakh' 'Madrid' 'Vatican City'\n",
      " 'Ellan Vannin' 'South Ossetia' 'County of Nice' 'Székely Land'\n",
      " 'Romani people' 'Felvidék' 'Chagos Islands' 'United Koreans in Japan'\n",
      " 'Somaliland' 'Western Armenia' 'Barawa' 'Kárpátalja' 'Yorkshire' 'Panjab'\n",
      " 'Matabeleland' 'Cascadia' 'Kabylia' 'Parishes of Jersey' 'Chameria'\n",
      " 'Saint Helena']\n"
     ]
    }
   ],
   "source": [
    "print(teams) # So what I have is a list of all the unique values (teams) in the column"
   ],
   "metadata": {
    "collapsed": false
   }
  },
  {
   "cell_type": "markdown",
   "source": [
    "Lets look at all the games involving Scotland"
   ],
   "metadata": {
    "collapsed": false
   }
  },
  {
   "cell_type": "code",
   "execution_count": 6,
   "outputs": [
    {
     "name": "stdout",
     "output_type": "stream",
     "text": [
      "0         True\n",
      "1        False\n",
      "2         True\n",
      "3        False\n",
      "4         True\n",
      "         ...  \n",
      "43183    False\n",
      "43184    False\n",
      "43185    False\n",
      "43186    False\n",
      "43187    False\n",
      "Name: home_team, Length: 43188, dtype: bool\n"
     ]
    }
   ],
   "source": [
    "print(data['home_team']=='Scotland')\n",
    "# This has made a new data table for me"
   ],
   "metadata": {
    "collapsed": false
   }
  },
  {
   "cell_type": "code",
   "execution_count": 7,
   "outputs": [],
   "source": [
    "# But this has two problems (other than being a new table)\n",
    "# 1.) this is only for the home team\n",
    "# 2.) I have true and false"
   ],
   "metadata": {
    "collapsed": false
   }
  },
  {
   "cell_type": "markdown",
   "source": [
    "We can fix this by using an OR (|) command.  So now our condition return true when the home team is Scotland or the away team is Scotland."
   ],
   "metadata": {
    "collapsed": false
   }
  },
  {
   "cell_type": "code",
   "execution_count": 11,
   "outputs": [
    {
     "name": "stdout",
     "output_type": "stream",
     "text": [
      "0         True\n",
      "1         True\n",
      "2         True\n",
      "3         True\n",
      "4         True\n",
      "         ...  \n",
      "43183    False\n",
      "43184    False\n",
      "43185    False\n",
      "43186    False\n",
      "43187    False\n",
      "Length: 43188, dtype: bool\n"
     ]
    }
   ],
   "source": [
    "print((data['home_team']=='Scotland') | (data['away_team']=='Scotland'))"
   ],
   "metadata": {
    "collapsed": false
   }
  },
  {
   "cell_type": "markdown",
   "source": [
    "# Ok, now we have both the home and away teams"
   ],
   "metadata": {
    "collapsed": false
   }
  },
  {
   "cell_type": "code",
   "execution_count": 9,
   "outputs": [],
   "source": [
    "# we can feed the true false data in to the original data frame\n",
    "#_______________\\/__________\n",
    "scottishData = data[(data['home_team']=='Scotland') | (data['away_team']=='Scotland')]"
   ],
   "metadata": {
    "collapsed": false
   }
  },
  {
   "cell_type": "markdown",
   "source": [
    "Think about this, the True or False values from before are being used to return a new data frame, which is made from only the rows which correspond to true."
   ],
   "metadata": {
    "collapsed": false
   }
  },
  {
   "cell_type": "code",
   "execution_count": 10,
   "outputs": [
    {
     "name": "stdout",
     "output_type": "stream",
     "text": [
      "Scotland have played 804 times\n"
     ]
    }
   ],
   "source": [
    "print('Scotland have played', scottishData.shape[0],'times')"
   ],
   "metadata": {
    "collapsed": false
   }
  },
  {
   "cell_type": "code",
   "execution_count": 15,
   "outputs": [],
   "source": [
    "# How many times have Scotland won at home\n",
    "scottishHomeWins = scottishData[(scottishData['home_team'] == 'Scotland') & (scottishData['home_score'] > scottishData['away_score'])]"
   ],
   "metadata": {
    "collapsed": false
   }
  },
  {
   "cell_type": "markdown",
   "source": [
    "What this means is that when Scotland is the home team and the home score is higher than the away score then Scotland have won"
   ],
   "metadata": {
    "collapsed": false
   }
  },
  {
   "cell_type": "code",
   "execution_count": 16,
   "outputs": [],
   "source": [
    "# How many times have Scotland won away\n",
    "scottishAwayWins = scottishData[(scottishData['away_team'] == 'Scotland') & (scottishData['away_score'] > scottishData['home_score'])]"
   ],
   "metadata": {
    "collapsed": false
   }
  },
  {
   "cell_type": "code",
   "execution_count": 17,
   "outputs": [
    {
     "name": "stdout",
     "output_type": "stream",
     "text": [
      "Scotland won at home 221 times\n",
      "Scotland won at away 161 times\n"
     ]
    }
   ],
   "source": [
    "print('Scotland won at home', scottishHomeWins.shape[0], 'times')\n",
    "print('Scotland won at away', scottishAwayWins.shape[0], 'times')"
   ],
   "metadata": {
    "collapsed": false
   }
  },
  {
   "cell_type": "code",
   "execution_count": 18,
   "outputs": [
    {
     "name": "stdout",
     "output_type": "stream",
     "text": [
      "Scotland won 47.51243781094527 %\n"
     ]
    }
   ],
   "source": [
    "print('Scotland won', 100 * (scottishHomeWins.shape[0] + scottishAwayWins.shape[0]) / scottishData.shape[0], '%')"
   ],
   "metadata": {
    "collapsed": false
   }
  },
  {
   "cell_type": "code",
   "execution_count": 19,
   "outputs": [
    {
     "data": {
      "text/plain": "             date      home_team away_team  home_score  away_score  \\\n0      1872-11-30       Scotland   England           0           0   \n1      1873-03-08        England  Scotland           4           2   \n2      1874-03-07       Scotland   England           2           1   \n3      1875-03-06        England  Scotland           2           2   \n4      1876-03-04       Scotland   England           3           0   \n...           ...            ...       ...         ...         ...   \n42725  2021-09-07        Austria  Scotland           0           1   \n42821  2021-10-09       Scotland    Israel           3           2   \n42890  2021-10-12  Faroe Islands  Scotland           0           1   \n42969  2021-11-12        Moldova  Scotland           0           2   \n43020  2021-11-15       Scotland   Denmark           2           0   \n\n                         tournament      city        country  neutral  \n0                          Friendly   Glasgow       Scotland    False  \n1                          Friendly    London        England    False  \n2                          Friendly   Glasgow       Scotland    False  \n3                          Friendly    London        England    False  \n4                          Friendly   Glasgow       Scotland    False  \n...                             ...       ...            ...      ...  \n42725  FIFA World Cup qualification    Vienna        Austria    False  \n42821  FIFA World Cup qualification   Glasgow       Scotland    False  \n42890  FIFA World Cup qualification  Tórshavn  Faroe Islands    False  \n42969  FIFA World Cup qualification  Chișinău        Moldova    False  \n43020  FIFA World Cup qualification   Glasgow       Scotland    False  \n\n[804 rows x 9 columns]",
      "text/html": "<div>\n<style scoped>\n    .dataframe tbody tr th:only-of-type {\n        vertical-align: middle;\n    }\n\n    .dataframe tbody tr th {\n        vertical-align: top;\n    }\n\n    .dataframe thead th {\n        text-align: right;\n    }\n</style>\n<table border=\"1\" class=\"dataframe\">\n  <thead>\n    <tr style=\"text-align: right;\">\n      <th></th>\n      <th>date</th>\n      <th>home_team</th>\n      <th>away_team</th>\n      <th>home_score</th>\n      <th>away_score</th>\n      <th>tournament</th>\n      <th>city</th>\n      <th>country</th>\n      <th>neutral</th>\n    </tr>\n  </thead>\n  <tbody>\n    <tr>\n      <th>0</th>\n      <td>1872-11-30</td>\n      <td>Scotland</td>\n      <td>England</td>\n      <td>0</td>\n      <td>0</td>\n      <td>Friendly</td>\n      <td>Glasgow</td>\n      <td>Scotland</td>\n      <td>False</td>\n    </tr>\n    <tr>\n      <th>1</th>\n      <td>1873-03-08</td>\n      <td>England</td>\n      <td>Scotland</td>\n      <td>4</td>\n      <td>2</td>\n      <td>Friendly</td>\n      <td>London</td>\n      <td>England</td>\n      <td>False</td>\n    </tr>\n    <tr>\n      <th>2</th>\n      <td>1874-03-07</td>\n      <td>Scotland</td>\n      <td>England</td>\n      <td>2</td>\n      <td>1</td>\n      <td>Friendly</td>\n      <td>Glasgow</td>\n      <td>Scotland</td>\n      <td>False</td>\n    </tr>\n    <tr>\n      <th>3</th>\n      <td>1875-03-06</td>\n      <td>England</td>\n      <td>Scotland</td>\n      <td>2</td>\n      <td>2</td>\n      <td>Friendly</td>\n      <td>London</td>\n      <td>England</td>\n      <td>False</td>\n    </tr>\n    <tr>\n      <th>4</th>\n      <td>1876-03-04</td>\n      <td>Scotland</td>\n      <td>England</td>\n      <td>3</td>\n      <td>0</td>\n      <td>Friendly</td>\n      <td>Glasgow</td>\n      <td>Scotland</td>\n      <td>False</td>\n    </tr>\n    <tr>\n      <th>...</th>\n      <td>...</td>\n      <td>...</td>\n      <td>...</td>\n      <td>...</td>\n      <td>...</td>\n      <td>...</td>\n      <td>...</td>\n      <td>...</td>\n      <td>...</td>\n    </tr>\n    <tr>\n      <th>42725</th>\n      <td>2021-09-07</td>\n      <td>Austria</td>\n      <td>Scotland</td>\n      <td>0</td>\n      <td>1</td>\n      <td>FIFA World Cup qualification</td>\n      <td>Vienna</td>\n      <td>Austria</td>\n      <td>False</td>\n    </tr>\n    <tr>\n      <th>42821</th>\n      <td>2021-10-09</td>\n      <td>Scotland</td>\n      <td>Israel</td>\n      <td>3</td>\n      <td>2</td>\n      <td>FIFA World Cup qualification</td>\n      <td>Glasgow</td>\n      <td>Scotland</td>\n      <td>False</td>\n    </tr>\n    <tr>\n      <th>42890</th>\n      <td>2021-10-12</td>\n      <td>Faroe Islands</td>\n      <td>Scotland</td>\n      <td>0</td>\n      <td>1</td>\n      <td>FIFA World Cup qualification</td>\n      <td>Tórshavn</td>\n      <td>Faroe Islands</td>\n      <td>False</td>\n    </tr>\n    <tr>\n      <th>42969</th>\n      <td>2021-11-12</td>\n      <td>Moldova</td>\n      <td>Scotland</td>\n      <td>0</td>\n      <td>2</td>\n      <td>FIFA World Cup qualification</td>\n      <td>Chișinău</td>\n      <td>Moldova</td>\n      <td>False</td>\n    </tr>\n    <tr>\n      <th>43020</th>\n      <td>2021-11-15</td>\n      <td>Scotland</td>\n      <td>Denmark</td>\n      <td>2</td>\n      <td>0</td>\n      <td>FIFA World Cup qualification</td>\n      <td>Glasgow</td>\n      <td>Scotland</td>\n      <td>False</td>\n    </tr>\n  </tbody>\n</table>\n<p>804 rows × 9 columns</p>\n</div>"
     },
     "execution_count": 19,
     "metadata": {},
     "output_type": "execute_result"
    }
   ],
   "source": [
    "scottishData"
   ],
   "metadata": {
    "collapsed": false
   }
  },
  {
   "cell_type": "code",
   "execution_count": 20,
   "outputs": [
    {
     "data": {
      "text/plain": "             date  home_team           away_team  home_score  away_score  \\\n39696  2018-01-28  Yorkshire        Ellan Vannin           1           1   \n39787  2018-03-25  Yorkshire      Chagos Islands           6           0   \n40479  2018-11-18  Yorkshire              Panjab           5           4   \n40756  2019-05-04  Yorkshire          Somaliland           6           2   \n40777  2019-06-01  Yorkshire  Parishes of Jersey           1           0   \n\n                  tournament         city  country  neutral  \n39696               Friendly  Fitzwilliam  England    False  \n39787               Friendly  Fitzwilliam  England    False  \n40479               Friendly       Ossett  England    False  \n40756               Friendly    Athersley  England    False  \n40777  Atlantic Heritage Cup       Ossett  England    False  ",
      "text/html": "<div>\n<style scoped>\n    .dataframe tbody tr th:only-of-type {\n        vertical-align: middle;\n    }\n\n    .dataframe tbody tr th {\n        vertical-align: top;\n    }\n\n    .dataframe thead th {\n        text-align: right;\n    }\n</style>\n<table border=\"1\" class=\"dataframe\">\n  <thead>\n    <tr style=\"text-align: right;\">\n      <th></th>\n      <th>date</th>\n      <th>home_team</th>\n      <th>away_team</th>\n      <th>home_score</th>\n      <th>away_score</th>\n      <th>tournament</th>\n      <th>city</th>\n      <th>country</th>\n      <th>neutral</th>\n    </tr>\n  </thead>\n  <tbody>\n    <tr>\n      <th>39696</th>\n      <td>2018-01-28</td>\n      <td>Yorkshire</td>\n      <td>Ellan Vannin</td>\n      <td>1</td>\n      <td>1</td>\n      <td>Friendly</td>\n      <td>Fitzwilliam</td>\n      <td>England</td>\n      <td>False</td>\n    </tr>\n    <tr>\n      <th>39787</th>\n      <td>2018-03-25</td>\n      <td>Yorkshire</td>\n      <td>Chagos Islands</td>\n      <td>6</td>\n      <td>0</td>\n      <td>Friendly</td>\n      <td>Fitzwilliam</td>\n      <td>England</td>\n      <td>False</td>\n    </tr>\n    <tr>\n      <th>40479</th>\n      <td>2018-11-18</td>\n      <td>Yorkshire</td>\n      <td>Panjab</td>\n      <td>5</td>\n      <td>4</td>\n      <td>Friendly</td>\n      <td>Ossett</td>\n      <td>England</td>\n      <td>False</td>\n    </tr>\n    <tr>\n      <th>40756</th>\n      <td>2019-05-04</td>\n      <td>Yorkshire</td>\n      <td>Somaliland</td>\n      <td>6</td>\n      <td>2</td>\n      <td>Friendly</td>\n      <td>Athersley</td>\n      <td>England</td>\n      <td>False</td>\n    </tr>\n    <tr>\n      <th>40777</th>\n      <td>2019-06-01</td>\n      <td>Yorkshire</td>\n      <td>Parishes of Jersey</td>\n      <td>1</td>\n      <td>0</td>\n      <td>Atlantic Heritage Cup</td>\n      <td>Ossett</td>\n      <td>England</td>\n      <td>False</td>\n    </tr>\n  </tbody>\n</table>\n</div>"
     },
     "execution_count": 20,
     "metadata": {},
     "output_type": "execute_result"
    }
   ],
   "source": [
    "data[data['home_team'].str.contains('york', case=False)]"
   ],
   "metadata": {
    "collapsed": false
   }
  },
  {
   "cell_type": "code",
   "execution_count": 20,
   "outputs": [],
   "source": [],
   "metadata": {
    "collapsed": false
   }
  },
  {
   "cell_type": "code",
   "execution_count": null,
   "outputs": [],
   "source": [],
   "metadata": {
    "collapsed": false
   }
  }
 ],
 "metadata": {
  "kernelspec": {
   "display_name": "Python 3",
   "language": "python",
   "name": "python3"
  },
  "language_info": {
   "codemirror_mode": {
    "name": "ipython",
    "version": 2
   },
   "file_extension": ".py",
   "mimetype": "text/x-python",
   "name": "python",
   "nbconvert_exporter": "python",
   "pygments_lexer": "ipython2",
   "version": "2.7.6"
  }
 },
 "nbformat": 4,
 "nbformat_minor": 0
}
