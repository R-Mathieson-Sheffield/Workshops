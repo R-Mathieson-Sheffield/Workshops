{
 "cells": [
  {
   "cell_type": "markdown",
   "metadata": {
    "collapsed": true
   },
   "source": [
    "Why use pandas\n",
    "Data science jobs are very much focused on what we have done before\n",
    "Loading and visualizing data\n",
    "Calculating basic statistics\n"
   ]
  },
  {
   "cell_type": "code",
   "execution_count": 1,
   "outputs": [],
   "source": [
    "import pandas as pd"
   ],
   "metadata": {
    "collapsed": false
   }
  },
  {
   "cell_type": "code",
   "execution_count": 2,
   "outputs": [],
   "source": [
    "# Lets try pandas\n",
    "fileName = 'Data/results.csv'\n",
    "data = pd.read_csv(fileName)"
   ],
   "metadata": {
    "collapsed": false
   }
  },
  {
   "cell_type": "code",
   "execution_count": 3,
   "outputs": [
    {
     "data": {
      "text/plain": "         date home_team away_team  home_score  away_score tournament     city  \\\n0  1872-11-30  Scotland   England           0           0   Friendly  Glasgow   \n1  1873-03-08   England  Scotland           4           2   Friendly   London   \n2  1874-03-07  Scotland   England           2           1   Friendly  Glasgow   \n3  1875-03-06   England  Scotland           2           2   Friendly   London   \n4  1876-03-04  Scotland   England           3           0   Friendly  Glasgow   \n\n    country  neutral  \n0  Scotland    False  \n1   England    False  \n2  Scotland    False  \n3   England    False  \n4  Scotland    False  ",
      "text/html": "<div>\n<style scoped>\n    .dataframe tbody tr th:only-of-type {\n        vertical-align: middle;\n    }\n\n    .dataframe tbody tr th {\n        vertical-align: top;\n    }\n\n    .dataframe thead th {\n        text-align: right;\n    }\n</style>\n<table border=\"1\" class=\"dataframe\">\n  <thead>\n    <tr style=\"text-align: right;\">\n      <th></th>\n      <th>date</th>\n      <th>home_team</th>\n      <th>away_team</th>\n      <th>home_score</th>\n      <th>away_score</th>\n      <th>tournament</th>\n      <th>city</th>\n      <th>country</th>\n      <th>neutral</th>\n    </tr>\n  </thead>\n  <tbody>\n    <tr>\n      <th>0</th>\n      <td>1872-11-30</td>\n      <td>Scotland</td>\n      <td>England</td>\n      <td>0</td>\n      <td>0</td>\n      <td>Friendly</td>\n      <td>Glasgow</td>\n      <td>Scotland</td>\n      <td>False</td>\n    </tr>\n    <tr>\n      <th>1</th>\n      <td>1873-03-08</td>\n      <td>England</td>\n      <td>Scotland</td>\n      <td>4</td>\n      <td>2</td>\n      <td>Friendly</td>\n      <td>London</td>\n      <td>England</td>\n      <td>False</td>\n    </tr>\n    <tr>\n      <th>2</th>\n      <td>1874-03-07</td>\n      <td>Scotland</td>\n      <td>England</td>\n      <td>2</td>\n      <td>1</td>\n      <td>Friendly</td>\n      <td>Glasgow</td>\n      <td>Scotland</td>\n      <td>False</td>\n    </tr>\n    <tr>\n      <th>3</th>\n      <td>1875-03-06</td>\n      <td>England</td>\n      <td>Scotland</td>\n      <td>2</td>\n      <td>2</td>\n      <td>Friendly</td>\n      <td>London</td>\n      <td>England</td>\n      <td>False</td>\n    </tr>\n    <tr>\n      <th>4</th>\n      <td>1876-03-04</td>\n      <td>Scotland</td>\n      <td>England</td>\n      <td>3</td>\n      <td>0</td>\n      <td>Friendly</td>\n      <td>Glasgow</td>\n      <td>Scotland</td>\n      <td>False</td>\n    </tr>\n  </tbody>\n</table>\n</div>"
     },
     "execution_count": 3,
     "metadata": {},
     "output_type": "execute_result"
    }
   ],
   "source": [
    "data.head() # This gives us the top 5 itemes in the data data.head(10) would return the top ten items in the data"
   ],
   "metadata": {
    "collapsed": false
   }
  },
  {
   "cell_type": "code",
   "execution_count": 6,
   "outputs": [
    {
     "data": {
      "text/plain": "             date     home_team     away_team  home_score  away_score  \\\n43183  2022-02-01      Suriname        Guyana           2           1   \n43184  2022-02-02  Burkina Faso       Senegal           1           3   \n43185  2022-02-03      Cameroon         Egypt           0           0   \n43186  2022-02-05      Cameroon  Burkina Faso           3           3   \n43187  2022-02-06       Senegal         Egypt           0           0   \n\n                   tournament        city   country  neutral  \n43183                Friendly  Paramaribo  Suriname    False  \n43184  African Cup of Nations     Yaoundé  Cameroon     True  \n43185  African Cup of Nations     Yaoundé  Cameroon    False  \n43186  African Cup of Nations     Yaoundé  Cameroon    False  \n43187  African Cup of Nations     Yaoundé  Cameroon     True  ",
      "text/html": "<div>\n<style scoped>\n    .dataframe tbody tr th:only-of-type {\n        vertical-align: middle;\n    }\n\n    .dataframe tbody tr th {\n        vertical-align: top;\n    }\n\n    .dataframe thead th {\n        text-align: right;\n    }\n</style>\n<table border=\"1\" class=\"dataframe\">\n  <thead>\n    <tr style=\"text-align: right;\">\n      <th></th>\n      <th>date</th>\n      <th>home_team</th>\n      <th>away_team</th>\n      <th>home_score</th>\n      <th>away_score</th>\n      <th>tournament</th>\n      <th>city</th>\n      <th>country</th>\n      <th>neutral</th>\n    </tr>\n  </thead>\n  <tbody>\n    <tr>\n      <th>43183</th>\n      <td>2022-02-01</td>\n      <td>Suriname</td>\n      <td>Guyana</td>\n      <td>2</td>\n      <td>1</td>\n      <td>Friendly</td>\n      <td>Paramaribo</td>\n      <td>Suriname</td>\n      <td>False</td>\n    </tr>\n    <tr>\n      <th>43184</th>\n      <td>2022-02-02</td>\n      <td>Burkina Faso</td>\n      <td>Senegal</td>\n      <td>1</td>\n      <td>3</td>\n      <td>African Cup of Nations</td>\n      <td>Yaoundé</td>\n      <td>Cameroon</td>\n      <td>True</td>\n    </tr>\n    <tr>\n      <th>43185</th>\n      <td>2022-02-03</td>\n      <td>Cameroon</td>\n      <td>Egypt</td>\n      <td>0</td>\n      <td>0</td>\n      <td>African Cup of Nations</td>\n      <td>Yaoundé</td>\n      <td>Cameroon</td>\n      <td>False</td>\n    </tr>\n    <tr>\n      <th>43186</th>\n      <td>2022-02-05</td>\n      <td>Cameroon</td>\n      <td>Burkina Faso</td>\n      <td>3</td>\n      <td>3</td>\n      <td>African Cup of Nations</td>\n      <td>Yaoundé</td>\n      <td>Cameroon</td>\n      <td>False</td>\n    </tr>\n    <tr>\n      <th>43187</th>\n      <td>2022-02-06</td>\n      <td>Senegal</td>\n      <td>Egypt</td>\n      <td>0</td>\n      <td>0</td>\n      <td>African Cup of Nations</td>\n      <td>Yaoundé</td>\n      <td>Cameroon</td>\n      <td>True</td>\n    </tr>\n  </tbody>\n</table>\n</div>"
     },
     "execution_count": 6,
     "metadata": {},
     "output_type": "execute_result"
    }
   ],
   "source": [
    "data.tail() # This gives us the top 10 itemes in the data.tail(10) would return the bottom ten items in the data"
   ],
   "metadata": {
    "collapsed": false
   }
  },
  {
   "cell_type": "markdown",
   "source": [
    "It is work noting here that pandas presents the data in a very table like format.  The data type pandas uses is called a pandas dataframe. It shows the data in a table and with the column names."
   ],
   "metadata": {
    "collapsed": false
   }
  },
  {
   "cell_type": "code",
   "execution_count": 7,
   "outputs": [
    {
     "name": "stdout",
     "output_type": "stream",
     "text": [
      "(43188, 9)\n"
     ]
    }
   ],
   "source": [
    "print(data.shape) # We can look at the shape of the data frame"
   ],
   "metadata": {
    "collapsed": false
   }
  },
  {
   "cell_type": "code",
   "execution_count": 12,
   "outputs": [
    {
     "name": "stdout",
     "output_type": "stream",
     "text": [
      "Index(['date', 'home_team', 'away_team', 'home_score', 'away_score',\n",
      "       'tournament', 'city', 'country', 'neutral'],\n",
      "      dtype='object')\n"
     ]
    }
   ],
   "source": [
    "print(data.columns) # We can also get the column names"
   ],
   "metadata": {
    "collapsed": false
   }
  },
  {
   "cell_type": "code",
   "execution_count": 9,
   "outputs": [
    {
     "name": "stdout",
     "output_type": "stream",
     "text": [
      "date          object\n",
      "home_team     object\n",
      "away_team     object\n",
      "home_score     int64\n",
      "away_score     int64\n",
      "tournament    object\n",
      "city          object\n",
      "country       object\n",
      "neutral         bool\n",
      "dtype: object\n"
     ]
    }
   ],
   "source": [
    "print(data.dtypes)"
   ],
   "metadata": {
    "collapsed": false
   }
  },
  {
   "cell_type": "code",
   "execution_count": 10,
   "outputs": [
    {
     "name": "stdout",
     "output_type": "stream",
     "text": [
      "RangeIndex(start=0, stop=43188, step=1)\n"
     ]
    }
   ],
   "source": [
    "print(data.index)"
   ],
   "metadata": {
    "collapsed": false
   }
  },
  {
   "cell_type": "code",
   "execution_count": null,
   "outputs": [],
   "source": [],
   "metadata": {
    "collapsed": false
   }
  }
 ],
 "metadata": {
  "kernelspec": {
   "display_name": "Python 3",
   "language": "python",
   "name": "python3"
  },
  "language_info": {
   "codemirror_mode": {
    "name": "ipython",
    "version": 2
   },
   "file_extension": ".py",
   "mimetype": "text/x-python",
   "name": "python",
   "nbconvert_exporter": "python",
   "pygments_lexer": "ipython2",
   "version": "2.7.6"
  }
 },
 "nbformat": 4,
 "nbformat_minor": 0
}
