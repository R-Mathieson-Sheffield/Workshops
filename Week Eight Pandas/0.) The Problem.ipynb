{
 "cells": [
  {
   "cell_type": "markdown",
   "source": [
    "# Pandas"
   ],
   "metadata": {
    "collapsed": false
   }
  },
  {
   "cell_type": "markdown",
   "source": [
    "We are going to look at an alternative to numpy. Numpy is great for handling numerical data. However, we are often asked to handle data which is categorical, i.e. names / places or objects.  Lets look at what happens when we try to load data which is not pure numerical using numpy"
   ],
   "metadata": {
    "collapsed": false
   }
  },
  {
   "cell_type": "code",
   "execution_count": 4,
   "outputs": [],
   "source": [
    "import csv\n",
    "import numpy as np\n",
    "def getHeader(fileName):\n",
    "\n",
    "    with open(fileName) as csv_file:\n",
    "        # creating an object of csv reader\n",
    "        # with the delimiter as ,\n",
    "        csv_reader = csv.reader(csv_file, delimiter = ',')\n",
    "\n",
    "        # list to store the names of columns\n",
    "        list_of_column_names = []\n",
    "\n",
    "        # loop to iterate through the rows of csv\n",
    "        for row in csv_reader:\n",
    "\n",
    "            # adding the first row\n",
    "            list_of_column_names.append(row)\n",
    "\n",
    "            # breaking the loop after the\n",
    "            # first iteration itself\n",
    "            break\n",
    "\n",
    "    return list_of_column_names"
   ],
   "metadata": {
    "collapsed": false
   }
  },
  {
   "cell_type": "code",
   "execution_count": 5,
   "outputs": [
    {
     "name": "stdout",
     "output_type": "stream",
     "text": [
      "[['date', 'home_team', 'away_team', 'home_score', 'away_score', 'tournament', 'city', 'country', 'neutral']]\n"
     ]
    }
   ],
   "source": [
    "# This is the file we will use\n",
    "fileName = 'Data/results.csv'\n",
    "#\n",
    "#Content\n",
    "#This dataset includes 43,170 results of international football matches starting from the very first official match in 1972 up to 2019. The matches range from FIFA World Cup to FIFI Wild Cup to regular friendly matches. The matches are strictly men's full internationals and the data does not include Olympic Games or matches where at least one of the teams was the nation's B-team, U-23 or a league select team.\n",
    "\n",
    "\n",
    "#date - date of the match\n",
    "#home_team - the name of the home team\n",
    "#away_team - the name of the away team\n",
    "#home_score - full-time home team score including extra time, not including penalty-shootouts\n",
    "#away_score - full-time away team score including extra time, not including penalty-shootouts\n",
    "#tournament - the name of the tournament\n",
    "#city - the name of the city/town/administrative unit where the match was played\n",
    "#country - the name of the country where the match was played\n",
    "#neutral - TRUE/FALSE column indicating whether the match was played at a neutral venue\n",
    "print(getHeader(fileName))"
   ],
   "metadata": {
    "collapsed": false
   }
  },
  {
   "cell_type": "code",
   "execution_count": 6,
   "outputs": [
    {
     "name": "stdout",
     "output_type": "stream",
     "text": [
      "[[nan nan nan  4.  2. nan nan nan nan]\n",
      " [nan nan nan  2.  1. nan nan nan nan]\n",
      " [nan nan nan  2.  2. nan nan nan nan]\n",
      " [nan nan nan  3.  0. nan nan nan nan]]\n"
     ]
    }
   ],
   "source": [
    "numpydata = np.genfromtxt(fileName,delimiter=',', skip_header=1)\n",
    "print(numpydata[1:5,:])"
   ],
   "metadata": {
    "collapsed": false
   }
  },
  {
   "cell_type": "markdown",
   "source": [
    "As you can see the data loaded using numpy is not very useful. We are going to use pandas to load the data."
   ],
   "metadata": {
    "collapsed": false
   }
  },
  {
   "cell_type": "code",
   "execution_count": null,
   "outputs": [],
   "source": [],
   "metadata": {
    "collapsed": false
   }
  }
 ],
 "metadata": {
  "kernelspec": {
   "display_name": "Python 3",
   "language": "python",
   "name": "python3"
  },
  "language_info": {
   "codemirror_mode": {
    "name": "ipython",
    "version": 2
   },
   "file_extension": ".py",
   "mimetype": "text/x-python",
   "name": "python",
   "nbconvert_exporter": "python",
   "pygments_lexer": "ipython2",
   "version": "2.7.6"
  }
 },
 "nbformat": 4,
 "nbformat_minor": 0
}
