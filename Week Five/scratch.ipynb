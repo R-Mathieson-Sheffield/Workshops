{
 "cells": [
  {
   "cell_type": "code",
   "execution_count": 66,
   "outputs": [],
   "source": [
    "import numpy as np\n",
    "import matplotlib.pyplot as plt\n",
    "\n",
    "noise = 10 # You can change this to add more noise to the data more, the larger the value the more noise.  Play with this number and see how the accuracy changes\n",
    "offset = 40\n",
    "gradient = 4\n",
    "xValues = np.linspace(0,6,100)\n",
    "yValues = (gradient *xValues) + offset + np.random.normal(0,noise,xValues.size)# Use y = mx +c to"
   ],
   "metadata": {
    "collapsed": false,
    "pycharm": {
     "name": "#%%\n"
    }
   }
  },
  {
   "cell_type": "code",
   "execution_count": 79,
   "outputs": [],
   "source": [
    "data = np.zeros([100,2])\n",
    "data[:,0] = xValues\n",
    "data[:,1] = yValues"
   ],
   "metadata": {
    "collapsed": false,
    "pycharm": {
     "name": "#%%\n"
    }
   }
  },
  {
   "cell_type": "code",
   "execution_count": 80,
   "outputs": [],
   "source": [
    "np.savetxt(\"problemData.csv\",data,delimiter=',',header='time, value')"
   ],
   "metadata": {
    "collapsed": false,
    "pycharm": {
     "name": "#%%\n"
    }
   }
  },
  {
   "cell_type": "code",
   "execution_count": 59,
   "outputs": [],
   "source": [
    "import numpy as np\n",
    "import matplotlib.pyplot as plt\n",
    "\n",
    "noise = 0 # You can change this to add more noise to the data more, the larger the value the more noise.  Play with this number and see how the accuracy changes\n",
    "offset = 40\n",
    "gradient = 4\n",
    "xValues = np.linspace(0,6,100)\n",
    "yValues = np.exp(xValues) + offset + np.random.normal(0,noise,xValues.size)# Use y = mx +c to generate the y data"
   ],
   "metadata": {
    "collapsed": false,
    "pycharm": {
     "name": "#%%\n"
    }
   }
  },
  {
   "cell_type": "code",
   "execution_count": 60,
   "outputs": [
    {
     "data": {
      "text/plain": "[<matplotlib.lines.Line2D at 0x13ffb8d30>]"
     },
     "execution_count": 60,
     "metadata": {},
     "output_type": "execute_result"
    },
    {
     "data": {
      "text/plain": "<Figure size 432x288 with 1 Axes>",
      "image/png": "[encoded data removed]"
     },
     "metadata": {
      "needs_background": "light"
     },
     "output_type": "display_data"
    }
   ],
   "source": [
    "plt.plot(xValues, yValues)"
   ],
   "metadata": {
    "collapsed": false,
    "pycharm": {
     "name": "#%%\n"
    }
   }
  },
  {
   "cell_type": "code",
   "execution_count": 61,
   "outputs": [],
   "source": [
    "newData = np.log(yValues)"
   ],
   "metadata": {
    "collapsed": false,
    "pycharm": {
     "name": "#%%\n"
    }
   }
  },
  {
   "cell_type": "code",
   "execution_count": 62,
   "outputs": [
    {
     "data": {
      "text/plain": "[<matplotlib.lines.Line2D at 0x158054be0>]"
     },
     "execution_count": 62,
     "metadata": {},
     "output_type": "execute_result"
    },
    {
     "data": {
      "text/plain": "<Figure size 432x288 with 1 Axes>",
      "image/png": "[encoded data removed]"
     },
     "metadata": {
      "needs_background": "light"
     },
     "output_type": "display_data"
    }
   ],
   "source": [
    "plt.plot(xValues,newData)"
   ],
   "metadata": {
    "collapsed": false,
    "pycharm": {
     "name": "#%%\n"
    }
   }
  },
  {
   "cell_type": "code",
   "execution_count": 65,
   "outputs": [],
   "source": [
    "from scipy import stats\n",
    "slope, intercept, r_value, p_value, std_err = stats.linregress(xValues, newData)\n"
   ],
   "metadata": {
    "collapsed": false,
    "pycharm": {
     "name": "#%%\n"
    }
   }
  },
  {
   "cell_type": "code",
   "execution_count": 64,
   "outputs": [
    {
     "data": {
      "text/plain": "26.003255675765082"
     },
     "execution_count": 64,
     "metadata": {},
     "output_type": "execute_result"
    }
   ],
   "source": [],
   "metadata": {
    "collapsed": false,
    "pycharm": {
     "name": "#%%\n"
    }
   }
  },
  {
   "cell_type": "code",
   "execution_count": null,
   "outputs": [],
   "source": [
    "yValues = np.exp(xValues) + offset + np.random.normal(0,noise,xValues.size)# Use y = mx +c to"
   ],
   "metadata": {
    "collapsed": false,
    "pycharm": {
     "name": "#%%\n"
    }
   }
  },
  {
   "cell_type": "code",
   "execution_count": null,
   "outputs": [],
   "source": [],
   "metadata": {
    "collapsed": false,
    "pycharm": {
     "name": "#%%\n"
    }
   }
  },
  {
   "cell_type": "code",
   "execution_count": null,
   "outputs": [],
   "source": [],
   "metadata": {
    "collapsed": false,
    "pycharm": {
     "name": "#%%\n"
    }
   }
  },
  {
   "cell_type": "code",
   "execution_count": 81,
   "outputs": [],
   "source": [
    "data = np.genfromtxt('problemData.csv', delimiter=',', skip_header=1)\n",
    "slope, intercept, r_value, p_value, std_err = stats.linregress(data[:,0], data[:,1])"
   ],
   "metadata": {
    "collapsed": false,
    "pycharm": {
     "name": "#%%\n"
    }
   }
  },
  {
   "cell_type": "code",
   "execution_count": 82,
   "outputs": [
    {
     "name": "stdout",
     "output_type": "stream",
     "text": [
      "4.008354948268301\n"
     ]
    }
   ],
   "source": [
    "print(slope)"
   ],
   "metadata": {
    "collapsed": false,
    "pycharm": {
     "name": "#%%\n"
    }
   }
  },
  {
   "cell_type": "code",
   "execution_count": 83,
   "outputs": [
    {
     "name": "stdout",
     "output_type": "stream",
     "text": [
      "[41.94457784 52.09939631 33.51816866 31.31883715 34.41788292 28.02866288\n",
      " 47.83560847 41.95804103 40.28726574 42.46210876 27.49140851 53.29884046\n",
      " 51.38102138 33.50444279 52.08444894 39.98980802 41.10290003 48.60566603\n",
      " 51.38179933 30.01344416 68.89544849 34.2215136  46.60870311 42.98575226\n",
      " 48.08501106 38.40679249 40.55976217 44.73326524 54.67347073 58.1948098\n",
      " 46.75364081 46.23389451 30.58862323 51.61941974 44.59632181 49.56449719\n",
      " 53.49315345 58.29221546 57.85195229 30.15859706 60.88735156 52.59027646\n",
      " 48.9140882  37.53168451 42.44036404 38.58727264 53.80987347 41.0134555\n",
      " 60.12888153 44.23532921 51.84208007 52.04234977 43.86323111 66.10909358\n",
      " 52.29021345 66.99367696 40.96372079 33.80366904 63.98479089 53.1163659\n",
      " 51.2692172  50.61234093 54.84880365 62.66951092 48.29994381 60.30831049\n",
      " 60.2461668  69.41302687 55.54021984 44.10865435 69.34901663 72.19197171\n",
      " 75.0102397  71.21156096 45.78388162 79.27511755 54.62142607 66.82993684\n",
      " 51.82864933 66.5705658  57.99540179 64.93316142 55.15141222 57.19779226\n",
      " 48.18901583 72.74226307 55.97718124 21.65964244 77.58714549 65.20747086\n",
      " 68.85152876 68.88209479 54.90398963 65.11415355 58.59042556 48.97392926\n",
      " 65.10319339 57.26757289 66.59497855 46.86398237]\n"
     ]
    }
   ],
   "source": [
    "print(data[:,1])"
   ],
   "metadata": {
    "collapsed": false,
    "pycharm": {
     "name": "#%%\n"
    }
   }
  },
  {
   "cell_type": "code",
   "execution_count": null,
   "outputs": [],
   "source": [],
   "metadata": {
    "collapsed": false,
    "pycharm": {
     "name": "#%%\n"
    }
   }
  }
 ],
 "metadata": {
  "kernelspec": {
   "display_name": "Python 3",
   "language": "python",
   "name": "python3"
  },
  "language_info": {
   "codemirror_mode": {
    "name": "ipython",
    "version": 2
   },
   "file_extension": ".py",
   "mimetype": "text/x-python",
   "name": "python",
   "nbconvert_exporter": "python",
   "pygments_lexer": "ipython2",
   "version": "2.7.6"
  }
 },
 "nbformat": 4,
 "nbformat_minor": 0
}