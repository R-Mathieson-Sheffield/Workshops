{
 "cells": [
  {
   "cell_type": "markdown",
   "source": [
    "***\n",
    "### Problem 1\n",
    "Read a file and print it to the screen in blocks of 20 characters long. There are several appraches to this, if you want to try the easiest version you can assume the book is very short (but longer than 20 characters), if you want the harder version you can assume the book is very long and has to be loaded in line by line. If you want to remove line feeds \"/n\" you can, but it is not necessary."
   ],
   "metadata": {
    "collapsed": false,
    "pycharm": {
     "name": "#%% md\n"
    }
   }
  },
  {
   "cell_type": "code",
   "execution_count": 63,
   "outputs": [
    {
     "name": "stdout",
     "output_type": "stream",
     "text": [
      "In a village of La M\n",
      "ancha, the name of w\n",
      "hich I have no desir\n",
      "e to call to mind, t\n",
      "here lived not long \n",
      "since one of those g\n",
      "entlemen that keep a\n",
      " lance in the lance-\n",
      "rack, an old buckler\n",
      ", a lean hack, and a\n",
      " greyhound for cours\n",
      "ing. An olla of rath\n",
      "er more beef than mu\n",
      "tton, a salad on mos\n",
      "t nights, scraps on \n",
      "Saturdays, lentils o\n",
      "n Fridays, and a pig\n",
      "eon or so extra on S\n",
      "undays, made away wi\n",
      "th three-quarters of\n",
      " his income. The res\n",
      "t of it went in a do\n",
      "ublet of fine cloth \n",
      "and velvet breeches \n",
      "and shoes to match f\n",
      "or holidays, while o\n",
      "n week-days he made \n",
      "a brave figure in hi\n",
      "s best homespun. He \n",
      "had in his house a h\n",
      "ousekeeper past fort\n",
      "y, a niece under twe\n",
      "nty, and a lad for t\n",
      "he field and market-\n",
      "place, who used to s\n",
      "addle the hack as we\n",
      "ll as handle the bil\n",
      "l-hook. The age of t\n",
      "his gentleman of our\n",
      "s was bordering on f\n",
      "ifty; he was of a ha\n",
      "rdy habit, spare, ga\n",
      "unt-featured, a very\n",
      " early riser and a g\n",
      "reat sportsman. They\n",
      " will have it his su\n",
      "rname was Quixada or\n",
      " Quesada (for here t\n",
      "here is some differe\n",
      "nce of opinion among\n",
      " the authors who wri\n",
      "te on the subject), \n",
      "although from reason\n",
      "able conjectures it \n",
      "seems plain that he \n",
      "was called Quexana. \n",
      "This, however, is of\n",
      " but little importan\n",
      "ce to our tale; it w\n",
      "ill be enough not to\n",
      " stray a hair’s brea\n",
      "dth from the truth i\n",
      "n the telling of it.\n"
     ]
    }
   ],
   "source": [
    "#Complete problem one here\n",
    "filename = \"Book.txt\"\n",
    "f = open(filename, \"r\")\n",
    "myData = f.read()\n",
    "f.close()\n",
    "for I in range(0,len(myData), 20):\n",
    "    print(myData[I : I+20])"
   ],
   "metadata": {
    "collapsed": false,
    "pycharm": {
     "name": "#%%\n"
    }
   }
  },
  {
   "cell_type": "markdown",
   "source": [
    "***\n",
    "### Problem 2\n",
    "Create a two column numpy array in the first column fill the numbers 0 to 99 inclusive. In the second column place the sum of the numbers so far, the diagrama below might help.\n",
    "|  C1 | C1 |\n",
    "| 0      | 0      | 0              |\n",
    "| 1      | 1      | 0 + 1          |\n",
    "| 2      | 3      | 0 + 1 + 2      |\n",
    "| 3      | 6      | 0 + 1 + 2 + 3  |\n",
    "\n",
    "Save the colums out as a csv, you can use any method you like.  Once saved load the file up in a spreadsheet, if you have problems with this ask a TA.\n",
    "A hint, remember that when you slice an array you slice up to the number you gave, so mydata[0:10] gives you 0->9"
   ],
   "metadata": {
    "collapsed": false,
    "pycharm": {
     "name": "#%% md\n"
    }
   }
  },
  {
   "cell_type": "code",
   "execution_count": 64,
   "outputs": [
    {
     "name": "stdout",
     "output_type": "stream",
     "text": [
      "[[0.000e+00 0.000e+00]\n",
      " [1.000e+00 1.000e+00]\n",
      " [2.000e+00 3.000e+00]\n",
      " [3.000e+00 6.000e+00]\n",
      " [4.000e+00 1.000e+01]\n",
      " [5.000e+00 1.500e+01]\n",
      " [6.000e+00 2.100e+01]\n",
      " [7.000e+00 2.800e+01]\n",
      " [8.000e+00 3.600e+01]\n",
      " [9.000e+00 4.500e+01]\n",
      " [1.000e+01 5.500e+01]\n",
      " [1.100e+01 6.600e+01]\n",
      " [1.200e+01 7.800e+01]\n",
      " [1.300e+01 9.100e+01]\n",
      " [1.400e+01 1.050e+02]\n",
      " [1.500e+01 1.200e+02]\n",
      " [1.600e+01 1.360e+02]\n",
      " [1.700e+01 1.530e+02]\n",
      " [1.800e+01 1.710e+02]\n",
      " [1.900e+01 1.900e+02]\n",
      " [2.000e+01 2.100e+02]\n",
      " [2.100e+01 2.310e+02]\n",
      " [2.200e+01 2.530e+02]\n",
      " [2.300e+01 2.760e+02]\n",
      " [2.400e+01 3.000e+02]\n",
      " [2.500e+01 3.250e+02]\n",
      " [2.600e+01 3.510e+02]\n",
      " [2.700e+01 3.780e+02]\n",
      " [2.800e+01 4.060e+02]\n",
      " [2.900e+01 4.350e+02]\n",
      " [3.000e+01 4.650e+02]\n",
      " [3.100e+01 4.960e+02]\n",
      " [3.200e+01 5.280e+02]\n",
      " [3.300e+01 5.610e+02]\n",
      " [3.400e+01 5.950e+02]\n",
      " [3.500e+01 6.300e+02]\n",
      " [3.600e+01 6.660e+02]\n",
      " [3.700e+01 7.030e+02]\n",
      " [3.800e+01 7.410e+02]\n",
      " [3.900e+01 7.800e+02]\n",
      " [4.000e+01 8.200e+02]\n",
      " [4.100e+01 8.610e+02]\n",
      " [4.200e+01 9.030e+02]\n",
      " [4.300e+01 9.460e+02]\n",
      " [4.400e+01 9.900e+02]\n",
      " [4.500e+01 1.035e+03]\n",
      " [4.600e+01 1.081e+03]\n",
      " [4.700e+01 1.128e+03]\n",
      " [4.800e+01 1.176e+03]\n",
      " [4.900e+01 1.225e+03]\n",
      " [5.000e+01 1.275e+03]\n",
      " [5.100e+01 1.326e+03]\n",
      " [5.200e+01 1.378e+03]\n",
      " [5.300e+01 1.431e+03]\n",
      " [5.400e+01 1.485e+03]\n",
      " [5.500e+01 1.540e+03]\n",
      " [5.600e+01 1.596e+03]\n",
      " [5.700e+01 1.653e+03]\n",
      " [5.800e+01 1.711e+03]\n",
      " [5.900e+01 1.770e+03]\n",
      " [6.000e+01 1.830e+03]\n",
      " [6.100e+01 1.891e+03]\n",
      " [6.200e+01 1.953e+03]\n",
      " [6.300e+01 2.016e+03]\n",
      " [6.400e+01 2.080e+03]\n",
      " [6.500e+01 2.145e+03]\n",
      " [6.600e+01 2.211e+03]\n",
      " [6.700e+01 2.278e+03]\n",
      " [6.800e+01 2.346e+03]\n",
      " [6.900e+01 2.415e+03]\n",
      " [7.000e+01 2.485e+03]\n",
      " [7.100e+01 2.556e+03]\n",
      " [7.200e+01 2.628e+03]\n",
      " [7.300e+01 2.701e+03]\n",
      " [7.400e+01 2.775e+03]\n",
      " [7.500e+01 2.850e+03]\n",
      " [7.600e+01 2.926e+03]\n",
      " [7.700e+01 3.003e+03]\n",
      " [7.800e+01 3.081e+03]\n",
      " [7.900e+01 3.160e+03]\n",
      " [8.000e+01 3.240e+03]\n",
      " [8.100e+01 3.321e+03]\n",
      " [8.200e+01 3.403e+03]\n",
      " [8.300e+01 3.486e+03]\n",
      " [8.400e+01 3.570e+03]\n",
      " [8.500e+01 3.655e+03]\n",
      " [8.600e+01 3.741e+03]\n",
      " [8.700e+01 3.828e+03]\n",
      " [8.800e+01 3.916e+03]\n",
      " [8.900e+01 4.005e+03]\n",
      " [9.000e+01 4.095e+03]\n",
      " [9.100e+01 4.186e+03]\n",
      " [9.200e+01 4.278e+03]\n",
      " [9.300e+01 4.371e+03]\n",
      " [9.400e+01 4.465e+03]\n",
      " [9.500e+01 4.560e+03]\n",
      " [9.600e+01 4.656e+03]\n",
      " [9.700e+01 4.753e+03]\n",
      " [9.800e+01 4.851e+03]\n",
      " [9.900e+01 4.950e+03]]\n"
     ]
    }
   ],
   "source": [
    "import numpy as np\n",
    "myArray = np.zeros([100,2])\n",
    "myArray[:,0] = np.linspace(0,99,100)\n",
    "for I in range(100):\n",
    "    myArray[I,1] = np.sum(myArray[0:I+1,0])\n",
    "print(myArray)\n",
    "np.savetxt('Numbers.csv', myArray, delimiter=\",\")"
   ],
   "metadata": {
    "collapsed": false,
    "pycharm": {
     "name": "#%%\n"
    }
   }
  },
  {
   "cell_type": "markdown",
   "source": [
    "***\n",
    "### Problem 3\n",
    "Load the CSV file given using numpy.\n",
    "Print the size and shape of the numoy array,\n",
    "and print the mean and standard deviation of the file.\n",
    "np.mean and np.std give you the meand and standard deviation."
   ],
   "metadata": {
    "collapsed": false,
    "pycharm": {
     "name": "#%% md\n"
    }
   }
  },
  {
   "cell_type": "code",
   "execution_count": 79,
   "outputs": [
    {
     "name": "stdout",
     "output_type": "stream",
     "text": [
      "The size of the array is 10000\n",
      "The shape of the array is (100, 100)\n",
      "The mean of the array is 0.36554176041092\n",
      "The stdard of the array is 99.64452727907661\n"
     ]
    }
   ],
   "source": [
    "#\n",
    "fileName = 'DataToLoad.csv'\n",
    "myloadedData = np.genfromtxt(fileName, delimiter=',')\n",
    "print(\"The size of the array is\", np.size(myloadedData))\n",
    "print(\"The shape of the array is\", np.shape(myloadedData))\n",
    "print(\"The mean of the array is\", np.mean(myloadedData))\n",
    "print(\"The stdard of the array is\", np.std(myloadedData))"
   ],
   "metadata": {
    "collapsed": false,
    "pycharm": {
     "name": "#%%\n"
    }
   }
  },
  {
   "cell_type": "markdown",
   "source": [
    "***\n",
    "### Problem 4\n",
    "Load the textfile and change all the words color to colour and resave the file."
   ],
   "metadata": {
    "collapsed": false,
    "pycharm": {
     "name": "#%% md\n"
    }
   }
  },
  {
   "cell_type": "code",
   "execution_count": 85,
   "outputs": [],
   "source": [
    "#\n",
    "filename = \"Colour.txt\"\n",
    "f = open(filename, \"r\")\n",
    "myData = f.read()\n",
    "myData = myData.replace('Color', 'Colour')\n",
    "myData = myData.replace('color', 'colour')\n",
    "f.close()\n",
    "f = open(\"NewColour\", \"w\")\n",
    "f.write(myData)\n",
    "f.close()"
   ],
   "metadata": {
    "collapsed": false,
    "pycharm": {
     "name": "#%%\n"
    }
   }
  },
  {
   "cell_type": "markdown",
   "source": [
    "### Problem 5\n",
    "Load the CSV file named as problemdata.csv in the Data Folder.  The data contains two columns and a header and is a record of the distance a car travels over time.  The first column is time and the second is the distance in meters. Fit the data to calculate the speed of the car."
   ],
   "metadata": {
    "collapsed": false,
    "pycharm": {
     "name": "#%% md\n"
    }
   }
  },
  {
   "cell_type": "markdown",
   "source": [
    "### Problem 6\n",
    "Generate two X values,\n",
    "one from 1 - > 10 using 10 numbers\n",
    "the second from 1-> 10 using 1000 numbers.\n",
    "\n",
    "From these two data sets create two Y data sets, set the gradient to 4 and the intercept to -3.\n",
    "Add to these Y data sets the random noise as defined in the example on fitting, set the noise value to 15.\n",
    "\n",
    "Fit both sets of data using the linregress function then print the standard error for both, which one provides the better fit? Why do you think that is?"
   ],
   "metadata": {
    "collapsed": false,
    "pycharm": {
     "name": "#%% md\n"
    }
   }
  },
  {
   "cell_type": "code",
   "execution_count": 3,
   "outputs": [
    {
     "name": "stdout",
     "output_type": "stream",
     "text": [
      "Short data error is 1.029535773244979\n",
      "Long data error is 0.1779869451475818\n"
     ]
    }
   ],
   "source": [
    "import numpy as np\n",
    "from scipy import stats\n",
    "gradient = 4\n",
    "offset = - 3\n",
    "noise = 15\n",
    "xValueShort = np.linspace(1,10,10)\n",
    "xValueLong = np.linspace(1,10,1000)\n",
    "yValueShort = (gradient * xValueShort) + offset + np.random.normal(0,noise,xValueShort.size)\n",
    "yValueLong = (gradient * xValueLong) + offset + np.random.normal(0,noise,xValueLong.size)\n",
    "\n",
    "slope, intercept, r_value, p_value, std_err = stats.linregress(xValueShort, yValueShort)\n",
    "print(\"Short data error is\", std_err)\n",
    "slope, intercept, r_value, p_value, std_err = stats.linregress(xValueLong, yValueLong)\n",
    "print(\"Long data error is\", std_err)"
   ],
   "metadata": {
    "collapsed": false,
    "pycharm": {
     "name": "#%%\n"
    }
   }
  },
  {
   "cell_type": "markdown",
   "source": [],
   "metadata": {
    "collapsed": false,
    "pycharm": {
     "name": "#%% md\n"
    }
   }
  },
  {
   "cell_type": "code",
   "execution_count": null,
   "outputs": [],
   "source": [],
   "metadata": {
    "collapsed": false,
    "pycharm": {
     "name": "#%%\n"
    }
   }
  }
 ],
 "metadata": {
  "kernelspec": {
   "display_name": "Python 3",
   "language": "python",
   "name": "python3"
  },
  "language_info": {
   "codemirror_mode": {
    "name": "ipython",
    "version": 2
   },
   "file_extension": ".py",
   "mimetype": "text/x-python",
   "name": "python",
   "nbconvert_exporter": "python",
   "pygments_lexer": "ipython2",
   "version": "2.7.6"
  }
 },
 "nbformat": 4,
 "nbformat_minor": 0
}