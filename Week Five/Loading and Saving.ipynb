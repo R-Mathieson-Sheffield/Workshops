{
 "cells": [
  {
   "cell_type": "markdown",
   "source": [
    "***\n",
    "## Loading and saving\n",
    "Getting data into and out of our program is vitally important. In this workshop we will look at some fundamentals of loading and saving data.  Once we have done that we will look at specific code to handle the data we are most likely to use."
   ],
   "metadata": {
    "collapsed": false
   }
  },
  {
   "cell_type": "markdown",
   "source": [
    "***\n",
    "### Loading a text file."
   ],
   "metadata": {
    "collapsed": false
   }
  },
  {
   "cell_type": "code",
   "execution_count": 1,
   "outputs": [
    {
     "name": "stdout",
     "output_type": "stream",
     "text": [
      "Far out in the uncharted backwaters of the unfashionable end of the western spiral arm of the Galaxy lies a small unregarded yellow sun.\n",
      "Orbiting this at a distance of roughly ninetytwo million miles is an utterly insignificant little blue green planet whose ape descended life forms are so amazingly primitive that they still think digital watches are a pretty neat idea.\n"
     ]
    }
   ],
   "source": [
    "f = open(\"Data/demofile.txt\", \"r\")\n",
    "print(f.read())\n",
    "f.close()"
   ],
   "metadata": {
    "collapsed": false
   }
  },
  {
   "cell_type": "code",
   "execution_count": 3,
   "outputs": [
    {
     "name": "stdout",
     "output_type": "stream",
     "text": [
      "Far out in the uncharted backwaters of the unfashionable end of the western spiral arm of the Galaxy lies a small unregarded yellow sun.\n",
      "\n"
     ]
    }
   ],
   "source": [
    "f = open(\"Data/demofile.txt\", \"r\")\n",
    "print(f.readline())\n",
    "f.close()"
   ],
   "metadata": {
    "collapsed": false
   }
  },
  {
   "cell_type": "markdown",
   "source": [
    "***\n",
    "##### These are the codes you can use to define how you want to open the file\n",
    "\"r\" - Read - Default value. Opens a file for reading, error if the file does not exist\n",
    "\n",
    "\"a\" - Append - Opens a file for appending, creates the file if it does not exist\n",
    "\n",
    "\"w\" - Write - Opens a file for writing, creates the file if it does not exist\n",
    "\n",
    "\"x\" - Create - Creates the specified file, returns an error if the file exists"
   ],
   "metadata": {
    "collapsed": false
   }
  },
  {
   "cell_type": "code",
   "execution_count": 2,
   "outputs": [
    {
     "name": "stdout",
     "output_type": "stream",
     "text": [
      "Far out in the uncharted backwaters of the unfashionable end of the western spiral arm of the Galaxy lies a small unregarded yellow sun.\n",
      "\n",
      "\n",
      "Orbiting this at a distance of roughly ninetytwo million miles is an utterly insignificant little blue green planet whose ape descended life forms are so amazingly primitive that they still think digital watches are a pretty neat idea.\n",
      "\n"
     ]
    }
   ],
   "source": [
    "f = open(\"Data/demofile.txt\", \"r\")\n",
    "for x in f:\n",
    "    print(x) # This reads a line at a time\n",
    "f.close()"
   ],
   "metadata": {
    "collapsed": false
   }
  },
  {
   "cell_type": "markdown",
   "source": [
    "Remember that x above is a string of characters"
   ],
   "metadata": {
    "collapsed": false
   }
  },
  {
   "cell_type": "code",
   "execution_count": 6,
   "outputs": [
    {
     "name": "stdout",
     "output_type": "stream",
     "text": [
      "F\n",
      "a\n",
      "r\n",
      " \n",
      "o\n",
      "u\n",
      "t\n",
      " \n",
      "i\n",
      "n\n",
      " \n",
      "t\n",
      "h\n",
      "e\n",
      " \n",
      "u\n",
      "n\n",
      "c\n",
      "h\n",
      "a\n",
      "r\n",
      "t\n",
      "e\n",
      "d\n",
      " \n",
      "b\n",
      "a\n",
      "c\n",
      "k\n",
      "w\n",
      "a\n",
      "t\n",
      "e\n",
      "r\n",
      "s\n",
      " \n",
      "o\n",
      "f\n",
      " \n",
      "t\n",
      "h\n",
      "e\n",
      " \n",
      "u\n",
      "n\n",
      "f\n",
      "a\n",
      "s\n",
      "h\n",
      "i\n",
      "o\n",
      "n\n",
      "a\n",
      "b\n",
      "l\n",
      "e\n",
      " \n",
      "e\n",
      "n\n",
      "d\n",
      " \n",
      "o\n",
      "f\n",
      " \n",
      "t\n",
      "h\n",
      "e\n",
      " \n",
      "w\n",
      "e\n",
      "s\n",
      "t\n",
      "e\n",
      "r\n",
      "n\n",
      " \n",
      "s\n",
      "p\n",
      "i\n",
      "r\n",
      "a\n",
      "l\n",
      " \n",
      "a\n",
      "r\n",
      "m\n",
      " \n",
      "o\n",
      "f\n",
      " \n",
      "t\n",
      "h\n",
      "e\n",
      " \n",
      "G\n",
      "a\n",
      "l\n",
      "a\n",
      "x\n",
      "y\n",
      " \n",
      "l\n",
      "i\n",
      "e\n",
      "s\n",
      " \n",
      "a\n",
      " \n",
      "s\n",
      "m\n",
      "a\n",
      "l\n",
      "l\n",
      " \n",
      "u\n",
      "n\n",
      "r\n",
      "e\n",
      "g\n",
      "a\n",
      "r\n",
      "d\n",
      "e\n",
      "d\n",
      " \n",
      "y\n",
      "e\n",
      "l\n",
      "l\n",
      "o\n",
      "w\n",
      " \n",
      "s\n",
      "u\n",
      "n\n",
      ".\n",
      "\n",
      "\n",
      "O\n",
      "r\n",
      "b\n",
      "i\n",
      "t\n",
      "i\n",
      "n\n",
      "g\n",
      " \n",
      "t\n",
      "h\n",
      "i\n",
      "s\n",
      " \n",
      "a\n",
      "t\n",
      " \n",
      "a\n",
      " \n",
      "d\n",
      "i\n",
      "s\n",
      "t\n",
      "a\n",
      "n\n",
      "c\n",
      "e\n",
      " \n",
      "o\n",
      "f\n",
      " \n",
      "r\n",
      "o\n",
      "u\n",
      "g\n",
      "h\n",
      "l\n",
      "y\n",
      " \n",
      "n\n",
      "i\n",
      "n\n",
      "e\n",
      "t\n",
      "y\n",
      "t\n",
      "w\n",
      "o\n",
      " \n",
      "m\n",
      "i\n",
      "l\n",
      "l\n",
      "i\n",
      "o\n",
      "n\n",
      " \n",
      "m\n",
      "i\n",
      "l\n",
      "e\n",
      "s\n",
      " \n",
      "i\n",
      "s\n",
      " \n",
      "a\n",
      "n\n",
      " \n",
      "u\n",
      "t\n",
      "t\n",
      "e\n",
      "r\n",
      "l\n",
      "y\n",
      " \n",
      "i\n",
      "n\n",
      "s\n",
      "i\n",
      "g\n",
      "n\n",
      "i\n",
      "f\n",
      "i\n",
      "c\n",
      "a\n",
      "n\n",
      "t\n",
      " \n",
      "l\n",
      "i\n",
      "t\n",
      "t\n",
      "l\n",
      "e\n",
      " \n",
      "b\n",
      "l\n",
      "u\n",
      "e\n",
      " \n",
      "g\n",
      "r\n",
      "e\n",
      "e\n",
      "n\n",
      " \n",
      "p\n",
      "l\n",
      "a\n",
      "n\n",
      "e\n",
      "t\n",
      " \n",
      "w\n",
      "h\n",
      "o\n",
      "s\n",
      "e\n",
      " \n",
      "a\n",
      "p\n",
      "e\n",
      " \n",
      "d\n",
      "e\n",
      "s\n",
      "c\n",
      "e\n",
      "n\n",
      "d\n",
      "e\n",
      "d\n",
      " \n",
      "l\n",
      "i\n",
      "f\n",
      "e\n",
      " \n",
      "f\n",
      "o\n",
      "r\n",
      "m\n",
      "s\n",
      " \n",
      "a\n",
      "r\n",
      "e\n",
      " \n",
      "s\n",
      "o\n",
      " \n",
      "a\n",
      "m\n",
      "a\n",
      "z\n",
      "i\n",
      "n\n",
      "g\n",
      "l\n",
      "y\n",
      " \n",
      "p\n",
      "r\n",
      "i\n",
      "m\n",
      "i\n",
      "t\n",
      "i\n",
      "v\n",
      "e\n",
      " \n",
      "t\n",
      "h\n",
      "a\n",
      "t\n",
      " \n",
      "t\n",
      "h\n",
      "e\n",
      "y\n",
      " \n",
      "s\n",
      "t\n",
      "i\n",
      "l\n",
      "l\n",
      " \n",
      "t\n",
      "h\n",
      "i\n",
      "n\n",
      "k\n",
      " \n",
      "d\n",
      "i\n",
      "g\n",
      "i\n",
      "t\n",
      "a\n",
      "l\n",
      " \n",
      "w\n",
      "a\n",
      "t\n",
      "c\n",
      "h\n",
      "e\n",
      "s\n",
      " \n",
      "a\n",
      "r\n",
      "e\n",
      " \n",
      "a\n",
      " \n",
      "p\n",
      "r\n",
      "e\n",
      "t\n",
      "t\n",
      "y\n",
      " \n",
      "n\n",
      "e\n",
      "a\n",
      "t\n",
      " \n",
      "i\n",
      "d\n",
      "e\n",
      "a\n",
      ".\n"
     ]
    }
   ],
   "source": [
    "f = open(\"Data/demofile.txt\", \"r\")\n",
    "for x in f:\n",
    "    for y in x:\n",
    "        print(y)\n",
    "f.close()"
   ],
   "metadata": {
    "collapsed": false
   }
  },
  {
   "cell_type": "code",
   "execution_count": 3,
   "outputs": [
    {
     "name": "stdout",
     "output_type": "stream",
     "text": [
      "Far o\n"
     ]
    }
   ],
   "source": [
    "f = open(\"Data/demofile.txt\", \"r\")\n",
    "print(f.read(5)) # Read in 5 characters\n",
    "# note f.read() reads all the characters.\n",
    "f.close()"
   ],
   "metadata": {
    "collapsed": false
   }
  },
  {
   "cell_type": "markdown",
   "source": [
    "We can use the ascii code to look for specific"
   ],
   "metadata": {
    "collapsed": false
   }
  },
  {
   "cell_type": "code",
   "execution_count": 7,
   "outputs": [
    {
     "name": "stdout",
     "output_type": "stream",
     "text": [
      "fAr out in the unchArted bAckwAters of the unfAshionAble end of the western spirAl Arm of the gAlAxy lies A smAll unregArded yellow sun.\n",
      "orbiting this At A distAnce of roughly ninetytwo million miles is An utterly insignificAnt little blue green plAnet whose Ape descended life forms Are so AmAzingly primitive thAt they still think digitAl wAtches Are A pretty neAt ideA."
     ]
    }
   ],
   "source": [
    "f = open(\"Data/demofile.txt\", \"r\")\n",
    "for x in f:\n",
    "    for y in x:\n",
    "        if y == '\\n': # This looks for a new line character, if one is found it prints an new line.\n",
    "            print()\n",
    "        elif y =='a': # If the character is an A it prints it in uppercase\n",
    "            print(y.upper(), end='')\n",
    "        else:# Else it just prints the charcater.\n",
    "            print(y.lower(), end='')\n",
    "f.close()"
   ],
   "metadata": {
    "collapsed": false
   }
  },
  {
   "cell_type": "markdown",
   "source": [
    "***\n",
    "### Writing to a file to a file\n",
    "To write a file, we first open the file, we leave the file open while we write to it, the with open line will close the file when it as finished"
   ],
   "metadata": {
    "collapsed": false
   }
  },
  {
   "cell_type": "code",
   "execution_count": 4,
   "outputs": [],
   "source": [
    "# This writes the text read me to a file\n",
    "with open('Data/readme.txt', 'w') as f:\n",
    "    f.write('readme')\n",
    "f.close()"
   ],
   "metadata": {
    "collapsed": false
   }
  },
  {
   "cell_type": "markdown",
   "source": [
    "***\n",
    "### Writing comma separated value (CSV) files.\n",
    "CSV files are a very common method of saving numerical data. They generally have a header which text seperated via commas ','.  Each header defines a column, numerical data is stored in the same way as the header (stored as text) again separated with commas.\n",
    "|  Time | Value  |\n",
    "|  0      | 0.01      |\n",
    "|  1      | 0.03      |\n",
    "|  2      | 0.04      |\n",
    "|  3      | 0.07      |\n",
    "\n",
    "Let us build a file which saves some data"
   ],
   "metadata": {
    "collapsed": false
   }
  },
  {
   "cell_type": "code",
   "execution_count": 30,
   "outputs": [],
   "source": [
    "# We will build a 2D array the first axis will hold an angle and the second will hold the cos value for the angle\n",
    "import numpy as np\n",
    "myData = np.zeros([10,2])\n",
    "myData[:,0] = np.linspace(0, 6.28, 10)\n",
    "myData[:,1] = np.cos(myData[:,0])\n",
    "\n",
    "#Let's build our header\n",
    "ourHeader = 'Angle' + ',' + 'Cos Value' + \"\\n\"\n",
    "# Now lets open our file\n",
    "with open('ourData.txt', 'w') as f:\n",
    "    #Write the header\n",
    "    f.write(ourHeader)\n",
    "    for row in myData:\n",
    "        f.write(str(row[0]))\n",
    "        f.write(',')\n",
    "        f.write(str(row[1]))\n",
    "        f.write('\\n') # I don't need a second '\n",
    "\n",
    "# Although this code might seem compliacted it is actually quite simple once you read through it.  Once written you should be able to load the file in a spreadsheet such as excel or google sheets"
   ],
   "metadata": {
    "collapsed": false
   }
  },
  {
   "cell_type": "markdown",
   "source": [
    "***\n",
    "### Is there an easier way\n",
    "Yes, there is. As we mentioned earlier numpy is designed to help us deal with numbers. We also said that most data we want to deal with is stored as a csv file.  So it makes sense that numpy knows about csv files and can read them."
   ],
   "metadata": {
    "collapsed": false
   }
  },
  {
   "cell_type": "markdown",
   "source": [
    "##### Loading"
   ],
   "metadata": {
    "collapsed": false
   }
  },
  {
   "cell_type": "code",
   "execution_count": 31,
   "outputs": [
    {
     "name": "stdout",
     "output_type": "stream",
     "text": [
      "[[ 0.          1.        ]\n",
      " [ 0.69777778  0.76627189]\n",
      " [ 1.39555556  0.17434523]\n",
      " [ 2.09333333 -0.4990802 ]\n",
      " [ 2.79111111 -0.93920748]\n",
      " [ 3.48888889 -0.94029639]\n",
      " [ 4.18666667 -0.50183791]\n",
      " [ 4.88444444  0.17120782]\n",
      " [ 5.58222222  0.7642214 ]\n",
      " [ 6.28        0.99999493]]\n"
     ]
    }
   ],
   "source": [
    "# We will use the file we just created as an exmple file to load\n",
    "import numpy as np\n",
    "fileName = 'Data/ourData.txt'\n",
    "myLoadedData = np.genfromtxt(fileName,delimiter=',',skip_header=1)\n",
    "# filename is the file we want to load\n",
    "# delimiter = ',' tells python what seperates the data within the file, in this case a comma\n",
    "# skip_header = 1\n",
    "print(myLoadedData)"
   ],
   "metadata": {
    "collapsed": false
   }
  },
  {
   "cell_type": "markdown",
   "source": [
    "##### Saving\n",
    "Saving is very similar in numpy using the savetxt function. Three arguments are needed, the filename to save to, the array to save and the delimiter to use in our case a comma."
   ],
   "metadata": {
    "collapsed": false
   }
  },
  {
   "cell_type": "code",
   "execution_count": null,
   "outputs": [],
   "source": [
    "# Example of saving\n",
    "fileName = \"resavedData.csv\"\n",
    "np.savetxt(fileName, myLoadedData, delimiter=\",\")"
   ],
   "metadata": {
    "collapsed": false
   }
  },
  {
   "cell_type": "markdown",
   "source": [
    "***\n",
    "#### One last thing\n",
    "If you want to store data to move it between python programs, or if you are not inteding on loading it in a differnt program you may want to save the numpy array as a numpy array using the np.save command, the np.load command will return the array."
   ],
   "metadata": {
    "collapsed": false
   }
  },
  {
   "cell_type": "code",
   "execution_count": 35,
   "outputs": [
    {
     "name": "stdout",
     "output_type": "stream",
     "text": [
      "[[0.38060826 0.46329925 0.01969185]\n",
      " [0.39944776 0.17051674 0.78433374]\n",
      " [0.63557868 0.68812403 0.89434825]]\n",
      "\n",
      "[[0.38060826 0.46329925 0.01969185]\n",
      " [0.39944776 0.17051674 0.78433374]\n",
      " [0.63557868 0.68812403 0.89434825]]\n"
     ]
    }
   ],
   "source": [
    "# here is an example of loading and saving a numy array\n",
    "testArray = np.random.random([3,3])\n",
    "print(testArray)\n",
    "print()\n",
    "np.save('testsave', testArray)\n",
    "loadedTestArray = np.load(\"testsave.npy\")\n",
    "print(loadedTestArray)"
   ],
   "metadata": {
    "collapsed": false
   }
  },
  {
   "cell_type": "code",
   "execution_count": null,
   "outputs": [],
   "source": [],
   "metadata": {
    "collapsed": false
   }
  }
 ],
 "metadata": {
  "kernelspec": {
   "display_name": "Python 3",
   "language": "python",
   "name": "python3"
  },
  "language_info": {
   "codemirror_mode": {
    "name": "ipython",
    "version": 2
   },
   "file_extension": ".py",
   "mimetype": "text/x-python",
   "name": "python",
   "nbconvert_exporter": "python",
   "pygments_lexer": "ipython2",
   "version": "2.7.6"
  }
 },
 "nbformat": 4,
 "nbformat_minor": 0
}
