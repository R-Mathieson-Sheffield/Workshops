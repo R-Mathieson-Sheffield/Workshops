{
 "cells": [
  {
   "cell_type": "markdown",
   "source": [
    "***\n",
    "### Problems\n",
    "In this problems session we are going to build some code to calculate the distribution of characters in the English language"
   ],
   "metadata": {
    "collapsed": false,
    "pycharm": {
     "name": "#%% md\n"
    }
   }
  },
  {
   "cell_type": "markdown",
   "source": [
    "Load in the demofile and store the output as a string"
   ],
   "metadata": {
    "collapsed": false,
    "pycharm": {
     "name": "#%% md\n"
    }
   }
  },
  {
   "cell_type": "code",
   "execution_count": 1,
   "outputs": [],
   "source": [
    "import numpy as np\n",
    "f = open(\"demofile.txt\", \"r\")\n",
    "myData = f.read()\n",
    "f.close()"
   ],
   "metadata": {
    "collapsed": false,
    "pycharm": {
     "name": "#%%\n"
    }
   }
  },
  {
   "cell_type": "markdown",
   "source": [
    "Create a function which takes a single character, converts it to lower case, using the .lower() method and returns the ascii value - 97.\n",
    "\n",
    "Use the ord() function to convert from the string to the ascii character.\n",
    "Test the code with characters from a -> z, test using capital letters"
   ],
   "metadata": {
    "collapsed": false,
    "pycharm": {
     "name": "#%% md\n"
    }
   }
  },
  {
   "cell_type": "code",
   "execution_count": 2,
   "outputs": [],
   "source": [
    "def convert_to_ascii(inputCharacter):\n",
    "    return ord(inputCharacter.lower())-97"
   ],
   "metadata": {
    "collapsed": false,
    "pycharm": {
     "name": "#%%\n"
    }
   }
  },
  {
   "cell_type": "code",
   "execution_count": 3,
   "outputs": [
    {
     "name": "stdout",
     "output_type": "stream",
     "text": [
      "25\n"
     ]
    }
   ],
   "source": [
    "print(convert_to_ascii('Z'))"
   ],
   "metadata": {
    "collapsed": false,
    "pycharm": {
     "name": "#%%\n"
    }
   }
  },
  {
   "cell_type": "markdown",
   "source": [
    "Build a numpy array 26 in length, filled with zeros."
   ],
   "metadata": {
    "collapsed": false,
    "pycharm": {
     "name": "#%% md\n"
    }
   }
  },
  {
   "cell_type": "code",
   "execution_count": 4,
   "outputs": [],
   "source": [
    "import numpy as np\n",
    "storedData = np.zeros(26)"
   ],
   "metadata": {
    "collapsed": false,
    "pycharm": {
     "name": "#%%\n"
    }
   }
  },
  {
   "cell_type": "markdown",
   "source": [
    "Write a loop to scan through the string character by character. If the character under investigation is not a space ' ',  a fullstop '.' or a line return which has the string '\\n' convert the character to a number using your function from above. Use this number to add a one to the corresponding position in the numpy array you created, so for example a would increase the value of the array at the 0th position, b at the 1st position and z at the 25th position."
   ],
   "metadata": {
    "collapsed": false,
    "pycharm": {
     "name": "#%% md\n"
    }
   }
  },
  {
   "cell_type": "code",
   "execution_count": 5,
   "outputs": [],
   "source": [
    "for currentChar in myData:\n",
    "    if (currentChar != ' ') and currentChar !='.' and currentChar !='\\n':\n",
    "        storedData[convert_to_ascii(currentChar)] = storedData[convert_to_ascii(currentChar)] +1"
   ],
   "metadata": {
    "collapsed": false,
    "pycharm": {
     "name": "#%%\n"
    }
   }
  },
  {
   "cell_type": "markdown",
   "source": [
    "Take the array you have created and calculate the sum of all the numbers in the array, then use this to calculate the percentage of each number in the array against the sum.  The sum tells you the total number of characters and the percentage tells you how often the letter appears."
   ],
   "metadata": {
    "collapsed": false,
    "pycharm": {
     "name": "#%% md\n"
    }
   }
  },
  {
   "cell_type": "code",
   "execution_count": 6,
   "outputs": [
    {
     "name": "stdout",
     "output_type": "stream",
     "text": [
      "309.0\n"
     ]
    }
   ],
   "source": [
    "totalSum = np.sum(storedData)\n",
    "storedData = 100 * storedData / totalSum\n",
    "print(np.sum(totalSum))"
   ],
   "metadata": {
    "collapsed": false,
    "pycharm": {
     "name": "#%%\n"
    }
   }
  },
  {
   "cell_type": "markdown",
   "source": [
    "Now print out each character from a -> z with its corresponding percentage.\n",
    "Which is the most common character?\n",
    "Hint: You don't need to type in the characters, a,b,c, if you create a loop you can loop through the ascii numbers for a (97) up to z and use the chr() to convert them to a character."
   ],
   "metadata": {
    "collapsed": false,
    "pycharm": {
     "name": "#%% md\n"
    }
   }
  },
  {
   "cell_type": "code",
   "execution_count": 7,
   "outputs": [
    {
     "name": "stdout",
     "output_type": "stream",
     "text": [
      "The character a occurs 9.70873786407767 % of the time\n",
      "The character b occurs 1.2944983818770226 % of the time\n",
      "The character c occurs 1.941747572815534 % of the time\n",
      "The character d occurs 3.236245954692557 % of the time\n",
      "The character e occurs 11.974110032362459 % of the time\n",
      "The character f occurs 2.912621359223301 % of the time\n",
      "The character g occurs 2.588996763754045 % of the time\n",
      "The character h occurs 4.207119741100324 % of the time\n",
      "The character i occurs 9.06148867313916 % of the time\n",
      "The character j occurs 0.0 % of the time\n",
      "The character k occurs 0.6472491909385113 % of the time\n",
      "The character l occurs 7.119741100323624 % of the time\n",
      "The character m occurs 2.26537216828479 % of the time\n",
      "The character n occurs 7.44336569579288 % of the time\n",
      "The character o occurs 4.53074433656958 % of the time\n",
      "The character p occurs 1.6181229773462784 % of the time\n",
      "The character q occurs 0.0 % of the time\n",
      "The character r occurs 5.501618122977346 % of the time\n",
      "The character s occurs 5.825242718446602 % of the time\n",
      "The character t occurs 10.032362459546926 % of the time\n",
      "The character u occurs 2.588996763754045 % of the time\n",
      "The character v occurs 0.32362459546925565 % of the time\n",
      "The character w occurs 1.941747572815534 % of the time\n",
      "The character x occurs 0.32362459546925565 % of the time\n",
      "The character y occurs 2.588996763754045 % of the time\n",
      "The character z occurs 0.32362459546925565 % of the time\n"
     ]
    }
   ],
   "source": [
    "for position in range(26):\n",
    "    print('The character', chr(97+position), 'occurs', storedData[position], '% of the time')"
   ],
   "metadata": {
    "collapsed": false,
    "pycharm": {
     "name": "#%%\n"
    }
   }
  },
  {
   "cell_type": "code",
   "execution_count": null,
   "outputs": [],
   "source": [],
   "metadata": {
    "collapsed": false,
    "pycharm": {
     "name": "#%%\n"
    }
   }
  }
 ],
 "metadata": {
  "kernelspec": {
   "display_name": "Python 3",
   "language": "python",
   "name": "python3"
  },
  "language_info": {
   "codemirror_mode": {
    "name": "ipython",
    "version": 2
   },
   "file_extension": ".py",
   "mimetype": "text/x-python",
   "name": "python",
   "nbconvert_exporter": "python",
   "pygments_lexer": "ipython2",
   "version": "2.7.6"
  }
 },
 "nbformat": 4,
 "nbformat_minor": 0
}