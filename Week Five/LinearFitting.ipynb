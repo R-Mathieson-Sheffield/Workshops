{
 "cells": [
  {
   "cell_type": "markdown",
   "source": [
    "***\n",
    "### Linear fitting\n",
    "Now we have data loaded in to python we can start to make use of the power of python.  Next week we will look at plotting the data. However, today we will look at fitting the data to a linear fit.\n",
    "This is a very valuable skill to have in the first few years of your degree."
   ],
   "metadata": {
    "collapsed": false
   }
  },
  {
   "cell_type": "code",
   "execution_count": 1,
   "outputs": [],
   "source": [
    "# First we will generate some data to fit.\n",
    "import numpy as np\n",
    "offset = -3\n",
    "gradient = 4\n",
    "xValues = np.linspace(0,9,10)\n",
    "yValues = (gradient * xValues) + offset # Use y = mx +c to generate the y data\n"
   ],
   "metadata": {
    "collapsed": false
   }
  },
  {
   "cell_type": "markdown",
   "source": [
    "#### We need to load in a new library, the library is a sub library from a collection of libraries called SciPY (python for science).  We will import the statistics library."
   ],
   "metadata": {
    "collapsed": false
   }
  },
  {
   "cell_type": "code",
   "execution_count": 2,
   "outputs": [],
   "source": [
    "from scipy import stats"
   ],
   "metadata": {
    "collapsed": false
   }
  },
  {
   "cell_type": "markdown",
   "source": [
    "We will use the command linregress from the stats package. This will allow us to perform a linear regression.  The command looks like this;\n",
    "\n",
    "slope, intercept, r_value, p_value, std_err = **stats.linregress**(x_data, y_data)\n",
    "\n",
    "We will call the command using **stats.linregress** we are telling python we want to use the linregress command from the stats library.\n",
    "\n",
    "We supply the x and y data **(x_data, y_data)**, these two sets of data have to be the same size.\n",
    "\n",
    "What is returned are 5 values.\n",
    "**slope, intercept, r_value, p_value, std_err**\n",
    "\n",
    "The **slope** is the gradient,\n",
    "The **intercept** is the intercept the y value when x = 0.\n",
    "The **r_value** is the Pearson correlation coefficient, a value between -1 and 1 it defines the strength of the relation between the X and Y values, 1 is very correlated, 0 is not correlated at all and -1 is negatively correlated.\n",
    "The **p_value**, this is a P test with a negative hypothosis that the slope is equal to zero.\n",
    "The **std_err**, this is the error in the slope.\n",
    "\n"
   ],
   "metadata": {
    "collapsed": false
   }
  },
  {
   "cell_type": "code",
   "execution_count": 3,
   "outputs": [
    {
     "name": "stdout",
     "output_type": "stream",
     "text": [
      "The gradient is 4.0\n",
      "The intercept is -3.0\n",
      "The standard error is 0.0\n"
     ]
    }
   ],
   "source": [
    "# Let's use it\n",
    "slope, intercept, r_value, p_value, std_err = stats.linregress(xValues, yValues)\n",
    "print(\"The gradient is\", slope)\n",
    "print(\"The intercept is\", intercept)\n",
    "print(\"The standard error is\", std_err)"
   ],
   "metadata": {
    "collapsed": false
   }
  },
  {
   "cell_type": "markdown",
   "source": [
    "It is as simple as that."
   ],
   "metadata": {
    "collapsed": false
   }
  },
  {
   "cell_type": "markdown",
   "source": [
    "***\n",
    "Let's try that again, this time I will add some random noise to the data and  see how the function copes."
   ],
   "metadata": {
    "collapsed": false
   }
  },
  {
   "cell_type": "code",
   "execution_count": 4,
   "outputs": [
    {
     "name": "stdout",
     "output_type": "stream",
     "text": [
      "The gradient is 4.203850344769413\n",
      "The intercept is -3.5059481087488145\n",
      "The standard error is 0.41006651595427485\n"
     ]
    }
   ],
   "source": [
    "import numpy as np\n",
    "noise = 3 # You can change this to add more noise to the data more, the larger the value the more noise.  Play with this number and see how the accuracy changes\n",
    "offset = -3\n",
    "gradient = 4\n",
    "xValues = np.linspace(0,9,10)\n",
    "yValues = (gradient * xValues) + offset + np.random.normal(0,noise,xValues.size)# Use y = mx +c to generate the y data\n",
    "\n",
    "\n",
    "slope, intercept, r_value, p_value, std_err = stats.linregress(xValues, yValues)\n",
    "print(\"The gradient is\", slope)\n",
    "print(\"The intercept is\", intercept)\n",
    "print(\"The standard error is\", std_err)"
   ],
   "metadata": {
    "collapsed": false
   }
  },
  {
   "cell_type": "code",
   "execution_count": 4,
   "outputs": [],
   "source": [],
   "metadata": {
    "collapsed": false
   }
  }
 ],
 "metadata": {
  "kernelspec": {
   "display_name": "Python 3",
   "language": "python",
   "name": "python3"
  },
  "language_info": {
   "codemirror_mode": {
    "name": "ipython",
    "version": 2
   },
   "file_extension": ".py",
   "mimetype": "text/x-python",
   "name": "python",
   "nbconvert_exporter": "python",
   "pygments_lexer": "ipython2",
   "version": "2.7.6"
  }
 },
 "nbformat": 4,
 "nbformat_minor": 0
}
