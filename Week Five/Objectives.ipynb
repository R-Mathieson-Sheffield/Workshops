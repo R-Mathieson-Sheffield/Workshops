{
 "cells": [
  {
   "cell_type": "markdown",
   "source": [
    "### Objectives\n",
    "\n",
    "By then end of this week you should;\n",
    "\n",
    "Be able to load a text file and treat the data as a string.\n",
    "\n",
    "Load data from a numpy file.\n",
    "\n",
    "Load a csv file using numpy.\n",
    "\n",
    "A secondary object is:\n",
    "\n",
    "Perform a linear fit to data and store the gradient and intercept."
   ],
   "metadata": {
    "collapsed": false
   }
  }
 ],
 "metadata": {
  "kernelspec": {
   "display_name": "Python 3",
   "language": "python",
   "name": "python3"
  },
  "language_info": {
   "codemirror_mode": {
    "name": "ipython",
    "version": 2
   },
   "file_extension": ".py",
   "mimetype": "text/x-python",
   "name": "python",
   "nbconvert_exporter": "python",
   "pygments_lexer": "ipython2",
   "version": "2.7.6"
  }
 },
 "nbformat": 4,
 "nbformat_minor": 0
}
