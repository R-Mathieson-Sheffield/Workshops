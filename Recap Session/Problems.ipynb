{
 "cells": [
  {
   "cell_type": "markdown",
   "source": [
    "# Some Questions"
   ],
   "metadata": {
    "collapsed": false
   }
  },
  {
   "cell_type": "markdown",
   "source": [
    "## Question 1"
   ],
   "metadata": {
    "collapsed": false
   }
  },
  {
   "cell_type": "markdown",
   "source": [
    "Load the data from the csv file called 'data1.csv', fit the data to a linear regression model, and plot the results. Your plot should have a title, x-axis label, and y-axis label. You should plot the original data as points and the fitted line as a line."
   ],
   "metadata": {
    "collapsed": false
   }
  },
  {
   "cell_type": "markdown",
   "source": [
    "## Question 2"
   ],
   "metadata": {
    "collapsed": false
   }
  },
  {
   "cell_type": "markdown",
   "source": [
    "An extra day is added to the calendar almost every four years as February 29, and the day is called a leap day. It corrects the calendar for the fact that our planet takes approximately 365.25 days to orbit the sun. A leap year contains a leap day.\n",
    "\n",
    "In the Gregorian calendar, three conditions are used to identify leap years:\n",
    "\n",
    "The year can be evenly divided by 4, is a leap year, unless:\n",
    "The year can be evenly divided by 100, it is NOT a leap year, unless:\n",
    "The year is also evenly divisible by 400. Then it is a leap year.\n",
    "This means that in the Gregorian calendar, the years 2000 and 2400 are leap years, while 1800, 1900, 2100, 2200, 2300 and 2500 are NOT leap years.\n",
    "\n",
    "Task\n",
    "\n",
    "Given a year, determine whether it is a leap year. If it is a leap year, return the Boolean True, otherwise return False.\n",
    "\n",
    "Input Format\n",
    "Year to test\n",
    "Constraints greater than 1900 less that 100000\n",
    "\n",
    "Output Format\n",
    "The function must return a Boolean value (True/False)."
   ],
   "metadata": {
    "collapsed": false
   }
  },
  {
   "cell_type": "markdown",
   "source": [
    "## Question 3"
   ],
   "metadata": {
    "collapsed": false
   }
  },
  {
   "cell_type": "markdown",
   "source": [
    "The speed $c$ of water surface waves depends on the wavelength $\\lambda$ of the waves. The following formula relates $c$ to $\\lambda$:\n",
    "$ C_\\lambda = \\sqrt{\\frac{g \\lambda}{2 \\pi} \\Bigg( 1+s\\frac{4 \\pi^2}{\\rho g \\lambda^2} \\Bigg)    \\tanh  \\Bigg( \\frac{2 \\pi h} {\\lambda}} \\Bigg)$\n",
    "Here g is the acceleration of gravity, s is the air-water surface tension, $\\rho$ is the density of water and h is the water depth."
   ],
   "metadata": {
    "collapsed": false
   }
  },
  {
   "cell_type": "markdown",
   "source": [
    "(a) Write a Python function to calculate c using the arguments $\\lambda$ and h. The constants are g=9.81 $ms^{-2}, s=7.9×10^{−2} Nm^{-1} $and $\\rho =1000 kgm^{-3}$.\n",
    "The tanh function can be imported from numpy and used in the form answer = np.tanh(argument)."
   ],
   "metadata": {
    "collapsed": false
   }
  },
  {
   "cell_type": "markdown",
   "source": [
    "(b) Write a program which calls this function to calculate and then plot c for h = 50 m and using 50000 values of $\\lambda$ in the range of 1m ≤ λ ≤ 2000m."
   ],
   "metadata": {
    "collapsed": false
   }
  },
  {
   "cell_type": "markdown",
   "source": [
    "## Question 4: Calculate a series expansion\n",
    "The series expansion for cos(x) can be written as:\n",
    "\n",
    "$$\\cos(x) = \\large{\\large{\\sum_{n=0}^{\\infty} (-1)^{n} \\frac{x^{2n}}{(2n)!}=1-\\frac{x^{2}}{2!}+\\frac{x^{4}}{4!}-\\frac{x^{6}}{6!}+...}}$$\n",
    "\n",
    "Write a Python programme that compares the value of cos(x) calculated with the first 4 terms of the series expansion above to that returned by `numpy.cos(x)`.\n",
    "- Your script should prompt the user for a value of x (in degrees)\n",
    "- Print both values of cos(x), their absolute difference and the percentage difference (relative to the value of `numpy.cos(x)`) to the screen\n",
    "- How does the approximate series perform?\n",
    "\n",
    "Tip: numpy has useful functions for converting radians to degrees and visa versa.\n",
    "If you can do this can you do it for n terms?\n",
    "For cos(x) plot the series answer vs np.cos(x) for a number of terms."
   ],
   "metadata": {
    "collapsed": false
   }
  }
 ],
 "metadata": {
  "kernelspec": {
   "display_name": "Python 3",
   "language": "python",
   "name": "python3"
  },
  "language_info": {
   "codemirror_mode": {
    "name": "ipython",
    "version": 2
   },
   "file_extension": ".py",
   "mimetype": "text/x-python",
   "name": "python",
   "nbconvert_exporter": "python",
   "pygments_lexer": "ipython2",
   "version": "2.7.6"
  }
 },
 "nbformat": 4,
 "nbformat_minor": 0
}
