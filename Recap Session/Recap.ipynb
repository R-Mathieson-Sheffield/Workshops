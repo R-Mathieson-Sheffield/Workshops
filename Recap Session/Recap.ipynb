{
 "cells": [
  {
   "cell_type": "markdown",
   "source": [
    "# Recap\n",
    "Last term we looked at using python in physics. We had six lessons;\n",
    "1.) variables\n",
    "2.) Data types\n",
    "3.) Functions\n",
    "4.) Conditions and loops\n",
    "5.) Data input\n",
    "6.) Plotting"
   ],
   "metadata": {
    "collapsed": false
   }
  },
  {
   "cell_type": "markdown",
   "source": [
    "# Data types"
   ],
   "metadata": {
    "collapsed": false
   }
  },
  {
   "cell_type": "code",
   "execution_count": 16,
   "outputs": [
    {
     "name": "stdout",
     "output_type": "stream",
     "text": [
      "[49. 50. 51.]\n"
     ]
    }
   ],
   "source": [
    "import numpy as np\n",
    "line = np.linspace(0,99,100)\n",
    "section = line[49:52]\n",
    "print(section)"
   ],
   "metadata": {
    "collapsed": false
   }
  },
  {
   "cell_type": "markdown",
   "source": [
    "# Assign Variables\n",
    "Doing maths with numpy"
   ],
   "metadata": {
    "collapsed": false
   }
  },
  {
   "cell_type": "code",
   "execution_count": 17,
   "outputs": [
    {
     "name": "stdout",
     "output_type": "stream",
     "text": [
      "5 addition\n",
      "-1 subtraction\n",
      "6 multiplication\n",
      "0.6666666666666666 division\n",
      "2 remainder\n",
      "0 floor\n",
      "8 to the power\n"
     ]
    }
   ],
   "source": [
    "A = 2\n",
    "B = 3\n",
    "print(A+B, 'addition')  # addition\n",
    "print(A-B, 'subtraction')  # Subtraction\n",
    "print(A*B, 'multiplication')  # multiplication\n",
    "print(A/B, 'division')  # division\n",
    "print(A%B, 'remainder')  # remainder after division\n",
    "print(A//B, 'floor') # floor after division\n",
    "print(A**B, 'to the power') # To the power"
   ],
   "metadata": {
    "collapsed": false
   }
  },
  {
   "cell_type": "markdown",
   "source": [
    "# Functions"
   ],
   "metadata": {
    "collapsed": false
   }
  },
  {
   "cell_type": "code",
   "execution_count": 18,
   "outputs": [],
   "source": [
    "# This is a function\n",
    "def myfunction(x, y):\n",
    "    '''\n",
    "    This function raises a number to the power of another\n",
    "    :param x: number for input\n",
    "    :param y: number for x to be raised to\n",
    "    :return: x^y\n",
    "    '''\n",
    "    answer = x**y\n",
    "    return answer"
   ],
   "metadata": {
    "collapsed": false
   }
  },
  {
   "cell_type": "code",
   "execution_count": 19,
   "outputs": [
    {
     "name": "stdout",
     "output_type": "stream",
     "text": [
      "15625\n"
     ]
    }
   ],
   "source": [
    "# Using the function\n",
    "returnedAnswer = myfunction(5,6)\n",
    "print(returnedAnswer)"
   ],
   "metadata": {
    "collapsed": false
   }
  },
  {
   "cell_type": "markdown",
   "source": [
    "# Loops and conditions"
   ],
   "metadata": {
    "collapsed": false
   }
  },
  {
   "cell_type": "code",
   "execution_count": 20,
   "outputs": [
    {
     "name": "stdout",
     "output_type": "stream",
     "text": [
      "False\n",
      "True\n",
      "False\n",
      "True\n"
     ]
    }
   ],
   "source": [
    "# conditions\n",
    "A = 2\n",
    "B = 3\n",
    "print(A > B)\n",
    "print(A < B)\n",
    "print(A == B)\n",
    "print(A != B)"
   ],
   "metadata": {
    "collapsed": false
   }
  },
  {
   "cell_type": "code",
   "execution_count": 21,
   "outputs": [
    {
     "name": "stdout",
     "output_type": "stream",
     "text": [
      "Cat\n",
      "dog\n",
      "frog\n",
      "horse\n"
     ]
    }
   ],
   "source": [
    "# for loop\n",
    "mydata = ['Cat', 'dog', 'frog', 'horse']\n",
    "for animal in mydata:\n",
    "    print(animal)"
   ],
   "metadata": {
    "collapsed": false
   }
  },
  {
   "cell_type": "code",
   "execution_count": 23,
   "outputs": [
    {
     "name": "stdout",
     "output_type": "stream",
     "text": [
      "0  1  2  3  4  5  6  7  8  9  "
     ]
    }
   ],
   "source": [
    "for I in range(10):\n",
    "    print(I, ' ', end='')"
   ],
   "metadata": {
    "collapsed": false
   }
  },
  {
   "cell_type": "code",
   "execution_count": 25,
   "outputs": [
    {
     "name": "stdout",
     "output_type": "stream",
     "text": [
      "1024\n",
      "512\n",
      "256\n",
      "128\n",
      "64\n",
      "32\n",
      "16\n",
      "8\n",
      "4\n",
      "2\n"
     ]
    }
   ],
   "source": [
    "# While looping\n",
    "startNUmber = 1024\n",
    "while startNUmber > 1:\n",
    "    print(int(startNUmber))\n",
    "    startNUmber = startNUmber/2"
   ],
   "metadata": {
    "collapsed": false
   }
  },
  {
   "cell_type": "markdown",
   "source": [
    "# Getting data in"
   ],
   "metadata": {
    "collapsed": false
   }
  },
  {
   "cell_type": "code",
   "execution_count": null,
   "outputs": [],
   "source": [
    "data = np.genfromtxt('data1.csv', skip_header=1, delimiter=',')"
   ],
   "metadata": {
    "collapsed": false
   }
  }
 ],
 "metadata": {
  "kernelspec": {
   "display_name": "Python 3",
   "language": "python",
   "name": "python3"
  },
  "language_info": {
   "codemirror_mode": {
    "name": "ipython",
    "version": 2
   },
   "file_extension": ".py",
   "mimetype": "text/x-python",
   "name": "python",
   "nbconvert_exporter": "python",
   "pygments_lexer": "ipython2",
   "version": "2.7.6"
  }
 },
 "nbformat": 4,
 "nbformat_minor": 0
}
